{
 "cells": [
  {
   "cell_type": "markdown",
   "id": "5f47b0ac",
   "metadata": {},
   "source": [
    "# 0.0. Imports"
   ]
  },
  {
   "cell_type": "code",
   "execution_count": 1,
   "id": "24221d77",
   "metadata": {
    "ExecuteTime": {
     "end_time": "2021-10-01T11:16:47.904034Z",
     "start_time": "2021-10-01T11:16:37.057417Z"
    }
   },
   "outputs": [],
   "source": [
    "import inflection\n",
    "import pickle\n",
    "\n",
    "import numpy   as np\n",
    "import pandas  as pd\n",
    "import seaborn as sns\n",
    "import matplotlib.pyplot as plt\n",
    "import plotly.express    as px\n",
    "\n",
    "from scipy                   import stats\n",
    "from sklearn.model_selection import train_test_split, GridSearchCV, cross_val_score, KFold\n",
    "from sklearn.preprocessing   import MinMaxScaler, RobustScaler, LabelEncoder, OneHotEncoder\n",
    "from sklearn.naive_bayes     import GaussianNB\n",
    "from sklearn.tree            import DecisionTreeClassifier\n",
    "from sklearn.ensemble        import RandomForestClassifier\n",
    "from sklearn.neighbors       import KNeighborsClassifier\n",
    "from sklearn.svm             import SVC\n",
    "from sklearn.neural_network  import MLPClassifier\n",
    "from sklearn.metrics         import classification_report, confusion_matrix\n",
    "from imblearn.over_sampling  import SMOTENC"
   ]
  },
  {
   "cell_type": "code",
   "execution_count": 2,
   "id": "1d0d194e",
   "metadata": {
    "ExecuteTime": {
     "end_time": "2021-10-01T11:16:47.966598Z",
     "start_time": "2021-10-01T11:16:47.939823Z"
    }
   },
   "outputs": [],
   "source": [
    "%matplotlib inline\n",
    "plt.rcParams['figure.figsize'] = [13, 8]\n",
    "\n",
    "sns.set_palette('RdBu_r')\n",
    "sns.set_style('darkgrid')"
   ]
  },
  {
   "cell_type": "markdown",
   "id": "7513b9e8",
   "metadata": {},
   "source": [
    "## 0.1. Helper Functions"
   ]
  },
  {
   "cell_type": "code",
   "execution_count": 3,
   "id": "f42b02be",
   "metadata": {
    "ExecuteTime": {
     "end_time": "2021-10-01T11:16:52.637686Z",
     "start_time": "2021-10-01T11:16:52.556687Z"
    },
    "code_folding": []
   },
   "outputs": [],
   "source": [
    "def numeric_statistics( df ):\n",
    "    dic = {\n",
    "        \"type\": df.dtypes.values,\n",
    "        \"Not_null\": df.count().values,\n",
    "        \"Null\": df.shape[0] - df.count().values,\n",
    "        \"Null%\": 100 * (df.shape[0] - df.count().values)/df.shape[0],\n",
    "        \"Unique_Values\": df.nunique().values,\n",
    "        \"Mean\": df.mean(),\n",
    "        \"Median\": df.median(),\n",
    "        \"Std\": df.std(),\n",
    "        \"Min\": df.min(),\n",
    "        \"Max\": df.max(),\n",
    "        \"Range\": df.max() - df.min(),\n",
    "        \"Skew\": df.skew(),\n",
    "        \"Kurtosis\": df.kurtosis()\n",
    "    }\n",
    "    \n",
    "    return pd.DataFrame( dic, index=df.columns )\n",
    "\n",
    "def cramer_v( x, y ):\n",
    "    \n",
    "    cm   = pd.crosstab( x, y ).values\n",
    "    n    = cm.sum()\n",
    "    r, k = cm.shape\n",
    "    \n",
    "    chi2 = stats.chi2_contingency( cm )[0]\n",
    "    \n",
    "    chi2corr = max( 0, chi2 - (k-1)*(r-1)/(n-1) )\n",
    "    kcorr    = k - (k-1)**2/(n-1)\n",
    "    rcorr    = r - (r-1)**2/(n-1)\n",
    "    \n",
    "    return np.sqrt( (chi2corr/n) / ( min(kcorr-1,rcorr-1) ) )\n",
    "\n",
    "def model_report( model_name, y_test, pred ):\n",
    "    \n",
    "    print( \"-------------{}-------------\" .format( model_name), '\\n')\n",
    "    print( pd.crosstab(y_test, pred, rownames=['Real'], colnames=['Prediction'], margins=True), '\\n' )\n",
    "    print( classification_report( y_test, pred ) )\n",
    "    \n",
    "def cross_validation( md_name, md, k, xtraining, ytraining ):\n",
    "    \n",
    "\n",
    "    kfold = KFold( n_splits=k, shuffle=True, random_state=1 )\n",
    "\n",
    "    model = md\n",
    "    \n",
    "    accuracy_list = cross_val_score( model, xtraining, ytraining, cv=kfold, scoring='accuracy' )\n",
    "    \n",
    "    balanced_ac = cross_val_score( model, xtraining, ytraining, cv=kfold, scoring='balanced_accuracy' ).mean()\n",
    "    accuracy    = cross_val_score( model, xtraining, ytraining, cv=kfold, scoring='accuracy' ).mean()\n",
    "    \n",
    "    balanced_ac_cv = str( round( (cross_val_score( model, xtraining, ytraining, cv=kfold, scoring='balanced_accuracy' ).std()) / balanced_ac, 3) * 100 )\n",
    "    accuracy_cv    = str( round( (cross_val_score( model, xtraining, ytraining, cv=kfold, scoring='accuracy' ).std()) / accuracy , 3) * 100 )\n",
    "    \n",
    "    return (pd.DataFrame( {\"model\": md_name,\n",
    "                         \"accuracy\": accuracy,\n",
    "                         \"balanced_accuracy\": balanced_ac,\n",
    "                         \"accuracy_cv\": accuracy_cv+\" %\",\n",
    "                         \"balanced_ac_cv\": balanced_ac_cv+\" %\"}, index=[0] ), accuracy_list)"
   ]
  },
  {
   "cell_type": "markdown",
   "id": "ae172c08",
   "metadata": {},
   "source": [
    "# 1.0. Load And Data Description"
   ]
  },
  {
   "cell_type": "code",
   "execution_count": 4,
   "id": "c362d64e",
   "metadata": {
    "ExecuteTime": {
     "end_time": "2021-10-01T11:16:55.944472Z",
     "start_time": "2021-10-01T11:16:55.804592Z"
    }
   },
   "outputs": [],
   "source": [
    "# Predict whether income exceeds $50K/yr based on census data. Also known as \"Census Income\" dataset.\n",
    "df1 = pd.read_csv('data/census.csv')"
   ]
  },
  {
   "cell_type": "code",
   "execution_count": 5,
   "id": "50440dc1",
   "metadata": {
    "ExecuteTime": {
     "end_time": "2021-10-01T11:16:56.521995Z",
     "start_time": "2021-10-01T11:16:56.494464Z"
    }
   },
   "outputs": [
    {
     "data": {
      "text/html": [
       "<div>\n",
       "<style scoped>\n",
       "    .dataframe tbody tr th:only-of-type {\n",
       "        vertical-align: middle;\n",
       "    }\n",
       "\n",
       "    .dataframe tbody tr th {\n",
       "        vertical-align: top;\n",
       "    }\n",
       "\n",
       "    .dataframe thead th {\n",
       "        text-align: right;\n",
       "    }\n",
       "</style>\n",
       "<table border=\"1\" class=\"dataframe\">\n",
       "  <thead>\n",
       "    <tr style=\"text-align: right;\">\n",
       "      <th></th>\n",
       "      <th>age</th>\n",
       "      <th>workclass</th>\n",
       "      <th>final-weight</th>\n",
       "      <th>education</th>\n",
       "      <th>education-num</th>\n",
       "      <th>marital-status</th>\n",
       "      <th>occupation</th>\n",
       "      <th>relationship</th>\n",
       "      <th>race</th>\n",
       "      <th>sex</th>\n",
       "      <th>capital-gain</th>\n",
       "      <th>capital-loos</th>\n",
       "      <th>hour-per-week</th>\n",
       "      <th>native-country</th>\n",
       "      <th>income</th>\n",
       "    </tr>\n",
       "  </thead>\n",
       "  <tbody>\n",
       "    <tr>\n",
       "      <th>0</th>\n",
       "      <td>39</td>\n",
       "      <td>State-gov</td>\n",
       "      <td>77516</td>\n",
       "      <td>Bachelors</td>\n",
       "      <td>13</td>\n",
       "      <td>Never-married</td>\n",
       "      <td>Adm-clerical</td>\n",
       "      <td>Not-in-family</td>\n",
       "      <td>White</td>\n",
       "      <td>Male</td>\n",
       "      <td>2174</td>\n",
       "      <td>0</td>\n",
       "      <td>40</td>\n",
       "      <td>United-States</td>\n",
       "      <td>&lt;=50K</td>\n",
       "    </tr>\n",
       "    <tr>\n",
       "      <th>1</th>\n",
       "      <td>50</td>\n",
       "      <td>Self-emp-not-inc</td>\n",
       "      <td>83311</td>\n",
       "      <td>Bachelors</td>\n",
       "      <td>13</td>\n",
       "      <td>Married-civ-spouse</td>\n",
       "      <td>Exec-managerial</td>\n",
       "      <td>Husband</td>\n",
       "      <td>White</td>\n",
       "      <td>Male</td>\n",
       "      <td>0</td>\n",
       "      <td>0</td>\n",
       "      <td>13</td>\n",
       "      <td>United-States</td>\n",
       "      <td>&lt;=50K</td>\n",
       "    </tr>\n",
       "    <tr>\n",
       "      <th>2</th>\n",
       "      <td>38</td>\n",
       "      <td>Private</td>\n",
       "      <td>215646</td>\n",
       "      <td>HS-grad</td>\n",
       "      <td>9</td>\n",
       "      <td>Divorced</td>\n",
       "      <td>Handlers-cleaners</td>\n",
       "      <td>Not-in-family</td>\n",
       "      <td>White</td>\n",
       "      <td>Male</td>\n",
       "      <td>0</td>\n",
       "      <td>0</td>\n",
       "      <td>40</td>\n",
       "      <td>United-States</td>\n",
       "      <td>&lt;=50K</td>\n",
       "    </tr>\n",
       "    <tr>\n",
       "      <th>3</th>\n",
       "      <td>53</td>\n",
       "      <td>Private</td>\n",
       "      <td>234721</td>\n",
       "      <td>11th</td>\n",
       "      <td>7</td>\n",
       "      <td>Married-civ-spouse</td>\n",
       "      <td>Handlers-cleaners</td>\n",
       "      <td>Husband</td>\n",
       "      <td>Black</td>\n",
       "      <td>Male</td>\n",
       "      <td>0</td>\n",
       "      <td>0</td>\n",
       "      <td>40</td>\n",
       "      <td>United-States</td>\n",
       "      <td>&lt;=50K</td>\n",
       "    </tr>\n",
       "    <tr>\n",
       "      <th>4</th>\n",
       "      <td>28</td>\n",
       "      <td>Private</td>\n",
       "      <td>338409</td>\n",
       "      <td>Bachelors</td>\n",
       "      <td>13</td>\n",
       "      <td>Married-civ-spouse</td>\n",
       "      <td>Prof-specialty</td>\n",
       "      <td>Wife</td>\n",
       "      <td>Black</td>\n",
       "      <td>Female</td>\n",
       "      <td>0</td>\n",
       "      <td>0</td>\n",
       "      <td>40</td>\n",
       "      <td>Cuba</td>\n",
       "      <td>&lt;=50K</td>\n",
       "    </tr>\n",
       "  </tbody>\n",
       "</table>\n",
       "</div>"
      ],
      "text/plain": [
       "   age          workclass  final-weight   education  education-num  \\\n",
       "0   39          State-gov         77516   Bachelors             13   \n",
       "1   50   Self-emp-not-inc         83311   Bachelors             13   \n",
       "2   38            Private        215646     HS-grad              9   \n",
       "3   53            Private        234721        11th              7   \n",
       "4   28            Private        338409   Bachelors             13   \n",
       "\n",
       "        marital-status          occupation    relationship    race      sex  \\\n",
       "0        Never-married        Adm-clerical   Not-in-family   White     Male   \n",
       "1   Married-civ-spouse     Exec-managerial         Husband   White     Male   \n",
       "2             Divorced   Handlers-cleaners   Not-in-family   White     Male   \n",
       "3   Married-civ-spouse   Handlers-cleaners         Husband   Black     Male   \n",
       "4   Married-civ-spouse      Prof-specialty            Wife   Black   Female   \n",
       "\n",
       "   capital-gain  capital-loos  hour-per-week  native-country  income  \n",
       "0          2174             0             40   United-States   <=50K  \n",
       "1             0             0             13   United-States   <=50K  \n",
       "2             0             0             40   United-States   <=50K  \n",
       "3             0             0             40   United-States   <=50K  \n",
       "4             0             0             40            Cuba   <=50K  "
      ]
     },
     "execution_count": 5,
     "metadata": {},
     "output_type": "execute_result"
    }
   ],
   "source": [
    "df1.head()"
   ]
  },
  {
   "cell_type": "markdown",
   "id": "76aa67c6",
   "metadata": {},
   "source": [
    "## 1.1. Data Dimension"
   ]
  },
  {
   "cell_type": "code",
   "execution_count": 6,
   "id": "ea4e040c",
   "metadata": {
    "ExecuteTime": {
     "end_time": "2021-10-01T11:17:01.053606Z",
     "start_time": "2021-10-01T11:17:01.031053Z"
    }
   },
   "outputs": [
    {
     "name": "stdout",
     "output_type": "stream",
     "text": [
      " Number of Rows:    32561\n",
      " Number of Columns: 15\n"
     ]
    }
   ],
   "source": [
    "print(\" Number of Rows:    {}\" .format(df1.shape[0] ) )\n",
    "print(\" Number of Columns: {}\" .format(df1.shape[1] ) )"
   ]
  },
  {
   "cell_type": "markdown",
   "id": "8e234f4c",
   "metadata": {},
   "source": [
    "## 1.2. Data Types"
   ]
  },
  {
   "cell_type": "code",
   "execution_count": 7,
   "id": "87c3c88f",
   "metadata": {
    "ExecuteTime": {
     "end_time": "2021-10-01T11:17:01.947519Z",
     "start_time": "2021-10-01T11:17:01.934878Z"
    }
   },
   "outputs": [
    {
     "data": {
      "text/plain": [
       "age                int64\n",
       "workclass         object\n",
       "final-weight       int64\n",
       "education         object\n",
       "education-num      int64\n",
       "marital-status    object\n",
       "occupation        object\n",
       "relationship      object\n",
       "race              object\n",
       "sex               object\n",
       "capital-gain       int64\n",
       "capital-loos       int64\n",
       "hour-per-week      int64\n",
       "native-country    object\n",
       "income            object\n",
       "dtype: object"
      ]
     },
     "execution_count": 7,
     "metadata": {},
     "output_type": "execute_result"
    }
   ],
   "source": [
    "df1.dtypes"
   ]
  },
  {
   "cell_type": "markdown",
   "id": "91d43910",
   "metadata": {},
   "source": [
    "## 1.3 Check NA"
   ]
  },
  {
   "cell_type": "code",
   "execution_count": 8,
   "id": "ca2b3d65",
   "metadata": {
    "ExecuteTime": {
     "end_time": "2021-10-01T11:17:04.972061Z",
     "start_time": "2021-10-01T11:17:04.934347Z"
    }
   },
   "outputs": [
    {
     "data": {
      "text/plain": [
       "age               0\n",
       "workclass         0\n",
       "final-weight      0\n",
       "education         0\n",
       "education-num     0\n",
       "marital-status    0\n",
       "occupation        0\n",
       "relationship      0\n",
       "race              0\n",
       "sex               0\n",
       "capital-gain      0\n",
       "capital-loos      0\n",
       "hour-per-week     0\n",
       "native-country    0\n",
       "income            0\n",
       "dtype: int64"
      ]
     },
     "execution_count": 8,
     "metadata": {},
     "output_type": "execute_result"
    }
   ],
   "source": [
    "df1.isnull().sum()"
   ]
  },
  {
   "cell_type": "markdown",
   "id": "d1624b97",
   "metadata": {},
   "source": [
    "## 1.4. Descriptive Statistics"
   ]
  },
  {
   "cell_type": "markdown",
   "id": "76c17425",
   "metadata": {},
   "source": [
    "### 1.4.1 Numerical Variables"
   ]
  },
  {
   "cell_type": "code",
   "execution_count": 10,
   "id": "337b2495",
   "metadata": {
    "ExecuteTime": {
     "end_time": "2021-10-01T11:33:33.349837Z",
     "start_time": "2021-10-01T11:33:33.331504Z"
    }
   },
   "outputs": [],
   "source": [
    "aux = df1.select_dtypes( include = ['int64','float64'] )"
   ]
  },
  {
   "cell_type": "code",
   "execution_count": 16,
   "id": "a9dc255b",
   "metadata": {
    "ExecuteTime": {
     "end_time": "2021-10-01T11:35:51.872323Z",
     "start_time": "2021-10-01T11:35:51.815096Z"
    }
   },
   "outputs": [
    {
     "data": {
      "text/html": [
       "<div>\n",
       "<style scoped>\n",
       "    .dataframe tbody tr th:only-of-type {\n",
       "        vertical-align: middle;\n",
       "    }\n",
       "\n",
       "    .dataframe tbody tr th {\n",
       "        vertical-align: top;\n",
       "    }\n",
       "\n",
       "    .dataframe thead th {\n",
       "        text-align: right;\n",
       "    }\n",
       "</style>\n",
       "<table border=\"1\" class=\"dataframe\">\n",
       "  <thead>\n",
       "    <tr style=\"text-align: right;\">\n",
       "      <th></th>\n",
       "      <th>type</th>\n",
       "      <th>Not_null</th>\n",
       "      <th>Null</th>\n",
       "      <th>Null%</th>\n",
       "      <th>Unique_Values</th>\n",
       "      <th>Mean</th>\n",
       "      <th>Median</th>\n",
       "      <th>Std</th>\n",
       "      <th>Min</th>\n",
       "      <th>Max</th>\n",
       "      <th>Range</th>\n",
       "      <th>Skew</th>\n",
       "      <th>Kurtosis</th>\n",
       "    </tr>\n",
       "  </thead>\n",
       "  <tbody>\n",
       "    <tr>\n",
       "      <th>age</th>\n",
       "      <td>int64</td>\n",
       "      <td>32561</td>\n",
       "      <td>0</td>\n",
       "      <td>0.0</td>\n",
       "      <td>73</td>\n",
       "      <td>38.581647</td>\n",
       "      <td>37.0</td>\n",
       "      <td>13.640433</td>\n",
       "      <td>17</td>\n",
       "      <td>90</td>\n",
       "      <td>73</td>\n",
       "      <td>0.558743</td>\n",
       "      <td>-0.166127</td>\n",
       "    </tr>\n",
       "    <tr>\n",
       "      <th>final-weight</th>\n",
       "      <td>int64</td>\n",
       "      <td>32561</td>\n",
       "      <td>0</td>\n",
       "      <td>0.0</td>\n",
       "      <td>21648</td>\n",
       "      <td>189778.366512</td>\n",
       "      <td>178356.0</td>\n",
       "      <td>105549.977697</td>\n",
       "      <td>12285</td>\n",
       "      <td>1484705</td>\n",
       "      <td>1472420</td>\n",
       "      <td>1.446980</td>\n",
       "      <td>6.218811</td>\n",
       "    </tr>\n",
       "    <tr>\n",
       "      <th>education-num</th>\n",
       "      <td>int64</td>\n",
       "      <td>32561</td>\n",
       "      <td>0</td>\n",
       "      <td>0.0</td>\n",
       "      <td>16</td>\n",
       "      <td>10.080679</td>\n",
       "      <td>10.0</td>\n",
       "      <td>2.572720</td>\n",
       "      <td>1</td>\n",
       "      <td>16</td>\n",
       "      <td>15</td>\n",
       "      <td>-0.311676</td>\n",
       "      <td>0.623444</td>\n",
       "    </tr>\n",
       "    <tr>\n",
       "      <th>capital-gain</th>\n",
       "      <td>int64</td>\n",
       "      <td>32561</td>\n",
       "      <td>0</td>\n",
       "      <td>0.0</td>\n",
       "      <td>119</td>\n",
       "      <td>1077.648844</td>\n",
       "      <td>0.0</td>\n",
       "      <td>7385.292085</td>\n",
       "      <td>0</td>\n",
       "      <td>99999</td>\n",
       "      <td>99999</td>\n",
       "      <td>11.953848</td>\n",
       "      <td>154.799438</td>\n",
       "    </tr>\n",
       "    <tr>\n",
       "      <th>capital-loos</th>\n",
       "      <td>int64</td>\n",
       "      <td>32561</td>\n",
       "      <td>0</td>\n",
       "      <td>0.0</td>\n",
       "      <td>92</td>\n",
       "      <td>87.303830</td>\n",
       "      <td>0.0</td>\n",
       "      <td>402.960219</td>\n",
       "      <td>0</td>\n",
       "      <td>4356</td>\n",
       "      <td>4356</td>\n",
       "      <td>4.594629</td>\n",
       "      <td>20.376802</td>\n",
       "    </tr>\n",
       "    <tr>\n",
       "      <th>hour-per-week</th>\n",
       "      <td>int64</td>\n",
       "      <td>32561</td>\n",
       "      <td>0</td>\n",
       "      <td>0.0</td>\n",
       "      <td>94</td>\n",
       "      <td>40.437456</td>\n",
       "      <td>40.0</td>\n",
       "      <td>12.347429</td>\n",
       "      <td>1</td>\n",
       "      <td>99</td>\n",
       "      <td>98</td>\n",
       "      <td>0.227643</td>\n",
       "      <td>2.916687</td>\n",
       "    </tr>\n",
       "  </tbody>\n",
       "</table>\n",
       "</div>"
      ],
      "text/plain": [
       "                type  Not_null  Null  Null%  Unique_Values           Mean  \\\n",
       "age            int64     32561     0    0.0             73      38.581647   \n",
       "final-weight   int64     32561     0    0.0          21648  189778.366512   \n",
       "education-num  int64     32561     0    0.0             16      10.080679   \n",
       "capital-gain   int64     32561     0    0.0            119    1077.648844   \n",
       "capital-loos   int64     32561     0    0.0             92      87.303830   \n",
       "hour-per-week  int64     32561     0    0.0             94      40.437456   \n",
       "\n",
       "                 Median            Std    Min      Max    Range       Skew  \\\n",
       "age                37.0      13.640433     17       90       73   0.558743   \n",
       "final-weight   178356.0  105549.977697  12285  1484705  1472420   1.446980   \n",
       "education-num      10.0       2.572720      1       16       15  -0.311676   \n",
       "capital-gain        0.0    7385.292085      0    99999    99999  11.953848   \n",
       "capital-loos        0.0     402.960219      0     4356     4356   4.594629   \n",
       "hour-per-week      40.0      12.347429      1       99       98   0.227643   \n",
       "\n",
       "                 Kurtosis  \n",
       "age             -0.166127  \n",
       "final-weight     6.218811  \n",
       "education-num    0.623444  \n",
       "capital-gain   154.799438  \n",
       "capital-loos    20.376802  \n",
       "hour-per-week    2.916687  "
      ]
     },
     "execution_count": 16,
     "metadata": {},
     "output_type": "execute_result"
    }
   ],
   "source": [
    "numeric_statistics( aux )"
   ]
  },
  {
   "cell_type": "markdown",
   "id": "67e51057",
   "metadata": {},
   "source": [
    "### 1.4.2 Categorical Variables"
   ]
  },
  {
   "cell_type": "code",
   "execution_count": 11,
   "id": "5beb5622",
   "metadata": {
    "ExecuteTime": {
     "end_time": "2021-09-30T16:15:59.318430Z",
     "start_time": "2021-09-30T16:15:59.307101Z"
    }
   },
   "outputs": [],
   "source": [
    "aux = df1.select_dtypes( include='object' )"
   ]
  },
  {
   "cell_type": "code",
   "execution_count": 12,
   "id": "5c6135c7",
   "metadata": {
    "ExecuteTime": {
     "end_time": "2021-09-30T16:16:00.228547Z",
     "start_time": "2021-09-30T16:16:00.205192Z"
    }
   },
   "outputs": [
    {
     "data": {
      "text/html": [
       "<div>\n",
       "<style scoped>\n",
       "    .dataframe tbody tr th:only-of-type {\n",
       "        vertical-align: middle;\n",
       "    }\n",
       "\n",
       "    .dataframe tbody tr th {\n",
       "        vertical-align: top;\n",
       "    }\n",
       "\n",
       "    .dataframe thead th {\n",
       "        text-align: right;\n",
       "    }\n",
       "</style>\n",
       "<table border=\"1\" class=\"dataframe\">\n",
       "  <thead>\n",
       "    <tr style=\"text-align: right;\">\n",
       "      <th></th>\n",
       "      <th>workclass</th>\n",
       "      <th>education</th>\n",
       "      <th>marital-status</th>\n",
       "      <th>occupation</th>\n",
       "      <th>relationship</th>\n",
       "      <th>race</th>\n",
       "      <th>sex</th>\n",
       "      <th>native-country</th>\n",
       "      <th>income</th>\n",
       "    </tr>\n",
       "  </thead>\n",
       "  <tbody>\n",
       "    <tr>\n",
       "      <th>0</th>\n",
       "      <td>State-gov</td>\n",
       "      <td>Bachelors</td>\n",
       "      <td>Never-married</td>\n",
       "      <td>Adm-clerical</td>\n",
       "      <td>Not-in-family</td>\n",
       "      <td>White</td>\n",
       "      <td>Male</td>\n",
       "      <td>United-States</td>\n",
       "      <td>&lt;=50K</td>\n",
       "    </tr>\n",
       "    <tr>\n",
       "      <th>1</th>\n",
       "      <td>Self-emp-not-inc</td>\n",
       "      <td>Bachelors</td>\n",
       "      <td>Married-civ-spouse</td>\n",
       "      <td>Exec-managerial</td>\n",
       "      <td>Husband</td>\n",
       "      <td>White</td>\n",
       "      <td>Male</td>\n",
       "      <td>United-States</td>\n",
       "      <td>&lt;=50K</td>\n",
       "    </tr>\n",
       "    <tr>\n",
       "      <th>2</th>\n",
       "      <td>Private</td>\n",
       "      <td>HS-grad</td>\n",
       "      <td>Divorced</td>\n",
       "      <td>Handlers-cleaners</td>\n",
       "      <td>Not-in-family</td>\n",
       "      <td>White</td>\n",
       "      <td>Male</td>\n",
       "      <td>United-States</td>\n",
       "      <td>&lt;=50K</td>\n",
       "    </tr>\n",
       "    <tr>\n",
       "      <th>3</th>\n",
       "      <td>Private</td>\n",
       "      <td>11th</td>\n",
       "      <td>Married-civ-spouse</td>\n",
       "      <td>Handlers-cleaners</td>\n",
       "      <td>Husband</td>\n",
       "      <td>Black</td>\n",
       "      <td>Male</td>\n",
       "      <td>United-States</td>\n",
       "      <td>&lt;=50K</td>\n",
       "    </tr>\n",
       "    <tr>\n",
       "      <th>4</th>\n",
       "      <td>Private</td>\n",
       "      <td>Bachelors</td>\n",
       "      <td>Married-civ-spouse</td>\n",
       "      <td>Prof-specialty</td>\n",
       "      <td>Wife</td>\n",
       "      <td>Black</td>\n",
       "      <td>Female</td>\n",
       "      <td>Cuba</td>\n",
       "      <td>&lt;=50K</td>\n",
       "    </tr>\n",
       "  </tbody>\n",
       "</table>\n",
       "</div>"
      ],
      "text/plain": [
       "           workclass   education       marital-status          occupation  \\\n",
       "0          State-gov   Bachelors        Never-married        Adm-clerical   \n",
       "1   Self-emp-not-inc   Bachelors   Married-civ-spouse     Exec-managerial   \n",
       "2            Private     HS-grad             Divorced   Handlers-cleaners   \n",
       "3            Private        11th   Married-civ-spouse   Handlers-cleaners   \n",
       "4            Private   Bachelors   Married-civ-spouse      Prof-specialty   \n",
       "\n",
       "     relationship    race      sex  native-country  income  \n",
       "0   Not-in-family   White     Male   United-States   <=50K  \n",
       "1         Husband   White     Male   United-States   <=50K  \n",
       "2   Not-in-family   White     Male   United-States   <=50K  \n",
       "3         Husband   Black     Male   United-States   <=50K  \n",
       "4            Wife   Black   Female            Cuba   <=50K  "
      ]
     },
     "execution_count": 12,
     "metadata": {},
     "output_type": "execute_result"
    }
   ],
   "source": [
    "aux.head()"
   ]
  },
  {
   "cell_type": "markdown",
   "id": "97d895f4",
   "metadata": {},
   "source": [
    "## 1.5. Rename Columns"
   ]
  },
  {
   "cell_type": "code",
   "execution_count": 13,
   "id": "dc77ed3d",
   "metadata": {
    "ExecuteTime": {
     "end_time": "2021-09-30T16:16:03.973430Z",
     "start_time": "2021-09-30T16:16:03.957400Z"
    }
   },
   "outputs": [],
   "source": [
    "old_columns = df1.columns\n",
    "\n",
    "snakecase = lambda x: inflection.underscore( x )\n",
    "new_cols = list( map( snakecase, old_columns ) )\n",
    "\n",
    "df1.columns = new_cols"
   ]
  },
  {
   "cell_type": "markdown",
   "id": "d58698c8",
   "metadata": {},
   "source": [
    "# 2.0. Problem Hypothesis"
   ]
  },
  {
   "cell_type": "code",
   "execution_count": 14,
   "id": "1646c362",
   "metadata": {
    "ExecuteTime": {
     "end_time": "2021-09-30T16:16:04.347640Z",
     "start_time": "2021-09-30T16:16:04.338385Z"
    }
   },
   "outputs": [],
   "source": [
    "df2 = df1.copy()"
   ]
  },
  {
   "cell_type": "markdown",
   "id": "0efee641",
   "metadata": {},
   "source": [
    "Here I'm going to list some business hypotesis to be validated or not in the EDA step\n",
    "\n",
    "- H1 - The older, the higher the level of education.\n",
    "- H2 - The mean age of people that work in Private class is higher than State-gov.\n",
    "- H3 - The mean age of people that has \"Bachelor's level\" of education is higher than \"some-college\".\n",
    "- H4 - The mean age of people that works 30 hours or more is lower than 30 years old.\n",
    "- H5 - The most of people that work 30 hours or more are in a level of education higher than Bachelors.\n",
    "- H6 - People that has a higher level of education work less."
   ]
  },
  {
   "cell_type": "markdown",
   "id": "40925d5c",
   "metadata": {},
   "source": [
    "# 3.0. EDA"
   ]
  },
  {
   "cell_type": "code",
   "execution_count": 15,
   "id": "77be27eb",
   "metadata": {
    "ExecuteTime": {
     "end_time": "2021-09-30T16:16:04.748169Z",
     "start_time": "2021-09-30T16:16:04.727909Z"
    }
   },
   "outputs": [],
   "source": [
    "df3 = df2.copy()"
   ]
  },
  {
   "cell_type": "code",
   "execution_count": 16,
   "id": "39a62734",
   "metadata": {
    "ExecuteTime": {
     "end_time": "2021-09-30T16:16:04.943226Z",
     "start_time": "2021-09-30T16:16:04.923158Z"
    }
   },
   "outputs": [
    {
     "data": {
      "text/html": [
       "<div>\n",
       "<style scoped>\n",
       "    .dataframe tbody tr th:only-of-type {\n",
       "        vertical-align: middle;\n",
       "    }\n",
       "\n",
       "    .dataframe tbody tr th {\n",
       "        vertical-align: top;\n",
       "    }\n",
       "\n",
       "    .dataframe thead th {\n",
       "        text-align: right;\n",
       "    }\n",
       "</style>\n",
       "<table border=\"1\" class=\"dataframe\">\n",
       "  <thead>\n",
       "    <tr style=\"text-align: right;\">\n",
       "      <th></th>\n",
       "      <th>age</th>\n",
       "      <th>workclass</th>\n",
       "      <th>final_weight</th>\n",
       "      <th>education</th>\n",
       "      <th>education_num</th>\n",
       "      <th>marital_status</th>\n",
       "      <th>occupation</th>\n",
       "      <th>relationship</th>\n",
       "      <th>race</th>\n",
       "      <th>sex</th>\n",
       "      <th>capital_gain</th>\n",
       "      <th>capital_loos</th>\n",
       "      <th>hour_per_week</th>\n",
       "      <th>native_country</th>\n",
       "      <th>income</th>\n",
       "    </tr>\n",
       "  </thead>\n",
       "  <tbody>\n",
       "    <tr>\n",
       "      <th>0</th>\n",
       "      <td>39</td>\n",
       "      <td>State-gov</td>\n",
       "      <td>77516</td>\n",
       "      <td>Bachelors</td>\n",
       "      <td>13</td>\n",
       "      <td>Never-married</td>\n",
       "      <td>Adm-clerical</td>\n",
       "      <td>Not-in-family</td>\n",
       "      <td>White</td>\n",
       "      <td>Male</td>\n",
       "      <td>2174</td>\n",
       "      <td>0</td>\n",
       "      <td>40</td>\n",
       "      <td>United-States</td>\n",
       "      <td>&lt;=50K</td>\n",
       "    </tr>\n",
       "    <tr>\n",
       "      <th>1</th>\n",
       "      <td>50</td>\n",
       "      <td>Self-emp-not-inc</td>\n",
       "      <td>83311</td>\n",
       "      <td>Bachelors</td>\n",
       "      <td>13</td>\n",
       "      <td>Married-civ-spouse</td>\n",
       "      <td>Exec-managerial</td>\n",
       "      <td>Husband</td>\n",
       "      <td>White</td>\n",
       "      <td>Male</td>\n",
       "      <td>0</td>\n",
       "      <td>0</td>\n",
       "      <td>13</td>\n",
       "      <td>United-States</td>\n",
       "      <td>&lt;=50K</td>\n",
       "    </tr>\n",
       "    <tr>\n",
       "      <th>2</th>\n",
       "      <td>38</td>\n",
       "      <td>Private</td>\n",
       "      <td>215646</td>\n",
       "      <td>HS-grad</td>\n",
       "      <td>9</td>\n",
       "      <td>Divorced</td>\n",
       "      <td>Handlers-cleaners</td>\n",
       "      <td>Not-in-family</td>\n",
       "      <td>White</td>\n",
       "      <td>Male</td>\n",
       "      <td>0</td>\n",
       "      <td>0</td>\n",
       "      <td>40</td>\n",
       "      <td>United-States</td>\n",
       "      <td>&lt;=50K</td>\n",
       "    </tr>\n",
       "    <tr>\n",
       "      <th>3</th>\n",
       "      <td>53</td>\n",
       "      <td>Private</td>\n",
       "      <td>234721</td>\n",
       "      <td>11th</td>\n",
       "      <td>7</td>\n",
       "      <td>Married-civ-spouse</td>\n",
       "      <td>Handlers-cleaners</td>\n",
       "      <td>Husband</td>\n",
       "      <td>Black</td>\n",
       "      <td>Male</td>\n",
       "      <td>0</td>\n",
       "      <td>0</td>\n",
       "      <td>40</td>\n",
       "      <td>United-States</td>\n",
       "      <td>&lt;=50K</td>\n",
       "    </tr>\n",
       "    <tr>\n",
       "      <th>4</th>\n",
       "      <td>28</td>\n",
       "      <td>Private</td>\n",
       "      <td>338409</td>\n",
       "      <td>Bachelors</td>\n",
       "      <td>13</td>\n",
       "      <td>Married-civ-spouse</td>\n",
       "      <td>Prof-specialty</td>\n",
       "      <td>Wife</td>\n",
       "      <td>Black</td>\n",
       "      <td>Female</td>\n",
       "      <td>0</td>\n",
       "      <td>0</td>\n",
       "      <td>40</td>\n",
       "      <td>Cuba</td>\n",
       "      <td>&lt;=50K</td>\n",
       "    </tr>\n",
       "  </tbody>\n",
       "</table>\n",
       "</div>"
      ],
      "text/plain": [
       "   age          workclass  final_weight   education  education_num  \\\n",
       "0   39          State-gov         77516   Bachelors             13   \n",
       "1   50   Self-emp-not-inc         83311   Bachelors             13   \n",
       "2   38            Private        215646     HS-grad              9   \n",
       "3   53            Private        234721        11th              7   \n",
       "4   28            Private        338409   Bachelors             13   \n",
       "\n",
       "        marital_status          occupation    relationship    race      sex  \\\n",
       "0        Never-married        Adm-clerical   Not-in-family   White     Male   \n",
       "1   Married-civ-spouse     Exec-managerial         Husband   White     Male   \n",
       "2             Divorced   Handlers-cleaners   Not-in-family   White     Male   \n",
       "3   Married-civ-spouse   Handlers-cleaners         Husband   Black     Male   \n",
       "4   Married-civ-spouse      Prof-specialty            Wife   Black   Female   \n",
       "\n",
       "   capital_gain  capital_loos  hour_per_week  native_country  income  \n",
       "0          2174             0             40   United-States   <=50K  \n",
       "1             0             0             13   United-States   <=50K  \n",
       "2             0             0             40   United-States   <=50K  \n",
       "3             0             0             40   United-States   <=50K  \n",
       "4             0             0             40            Cuba   <=50K  "
      ]
     },
     "execution_count": 16,
     "metadata": {},
     "output_type": "execute_result"
    }
   ],
   "source": [
    "df3.head()"
   ]
  },
  {
   "cell_type": "markdown",
   "id": "2489d51e",
   "metadata": {},
   "source": [
    "## 3.1. Univariate Analysis"
   ]
  },
  {
   "cell_type": "markdown",
   "id": "a21a6506",
   "metadata": {},
   "source": [
    "### 3.1.1. Response Variable"
   ]
  },
  {
   "cell_type": "code",
   "execution_count": 17,
   "id": "31e31e1b",
   "metadata": {
    "ExecuteTime": {
     "end_time": "2021-09-30T16:16:05.403263Z",
     "start_time": "2021-09-30T16:16:05.378153Z"
    }
   },
   "outputs": [
    {
     "data": {
      "text/plain": [
       " <=50K    24720\n",
       " >50K      7841\n",
       "Name: income, dtype: int64"
      ]
     },
     "execution_count": 17,
     "metadata": {},
     "output_type": "execute_result"
    }
   ],
   "source": [
    "df3['income'].value_counts()"
   ]
  },
  {
   "cell_type": "code",
   "execution_count": 18,
   "id": "da0629aa",
   "metadata": {
    "ExecuteTime": {
     "end_time": "2021-09-30T16:16:05.796296Z",
     "start_time": "2021-09-30T16:16:05.548285Z"
    }
   },
   "outputs": [
    {
     "data": {
      "text/plain": [
       "<AxesSubplot:xlabel='income', ylabel='count'>"
      ]
     },
     "execution_count": 18,
     "metadata": {},
     "output_type": "execute_result"
    },
    {
     "data": {
      "image/png": "[encoded data removed]",
      "text/plain": [
       "<Figure size 936x576 with 1 Axes>"
      ]
     },
     "metadata": {},
     "output_type": "display_data"
    }
   ],
   "source": [
    "sns.countplot( data=df3, x='income' )"
   ]
  },
  {
   "cell_type": "markdown",
   "id": "846ae9fc",
   "metadata": {},
   "source": [
    "### 3.1.1. Numerical Variable"
   ]
  },
  {
   "cell_type": "markdown",
   "id": "146e777d",
   "metadata": {},
   "source": [
    "These variables **capital_loos** and **capital gain** provide no information that might make the prediction better. Because it has no variation, furthermore they are totally unbalanced."
   ]
  },
  {
   "cell_type": "code",
   "execution_count": 19,
   "id": "0e6b1d93",
   "metadata": {
    "ExecuteTime": {
     "end_time": "2021-09-30T16:16:06.133123Z",
     "start_time": "2021-09-30T16:16:06.107553Z"
    }
   },
   "outputs": [
    {
     "name": "stdout",
     "output_type": "stream",
     "text": [
      "Percentage of concentrated data under 500: 0.953686926077209 %\n"
     ]
    }
   ],
   "source": [
    "pc01 = str( df1[df1['capital_loos'] < 500]['capital_loos'].count() / df1.shape[0] ) + ' %'\n",
    "print( 'Percentage of concentrated data under 500: {}' .format( pc01 ) )"
   ]
  },
  {
   "cell_type": "code",
   "execution_count": 20,
   "id": "e0b09e27",
   "metadata": {
    "ExecuteTime": {
     "end_time": "2021-09-30T16:16:06.338267Z",
     "start_time": "2021-09-30T16:16:06.315919Z"
    }
   },
   "outputs": [
    {
     "name": "stdout",
     "output_type": "stream",
     "text": [
      "Percentage of concentrated data under 10000: 0.9763520776388932 %\n"
     ]
    }
   ],
   "source": [
    "pc02 = str( df1[df1['capital_gain'] < 10000]['capital_gain'].count() / df1.shape[0] ) + ' %'\n",
    "print( 'Percentage of concentrated data under 10000: {}' .format( pc02 ) )"
   ]
  },
  {
   "cell_type": "code",
   "execution_count": 21,
   "id": "0b817c34",
   "metadata": {
    "ExecuteTime": {
     "end_time": "2021-09-30T16:16:07.807632Z",
     "start_time": "2021-09-30T16:16:06.533191Z"
    }
   },
   "outputs": [
    {
     "data": {
      "image/png": "[encoded data removed]",
      "text/plain": [
       "<Figure size 936x576 with 6 Axes>"
      ]
     },
     "metadata": {},
     "output_type": "display_data"
    }
   ],
   "source": [
    "df3.hist()\n",
    "plt.tight_layout()"
   ]
  },
  {
   "cell_type": "markdown",
   "id": "735e253e",
   "metadata": {},
   "source": [
    "### 3.1.1. Categorical Variable"
   ]
  },
  {
   "cell_type": "code",
   "execution_count": 22,
   "id": "a29bd725",
   "metadata": {
    "ExecuteTime": {
     "end_time": "2021-09-30T16:16:07.913332Z",
     "start_time": "2021-09-30T16:16:07.887660Z"
    }
   },
   "outputs": [
    {
     "data": {
      "text/html": [
       "<div>\n",
       "<style scoped>\n",
       "    .dataframe tbody tr th:only-of-type {\n",
       "        vertical-align: middle;\n",
       "    }\n",
       "\n",
       "    .dataframe tbody tr th {\n",
       "        vertical-align: top;\n",
       "    }\n",
       "\n",
       "    .dataframe thead th {\n",
       "        text-align: right;\n",
       "    }\n",
       "</style>\n",
       "<table border=\"1\" class=\"dataframe\">\n",
       "  <thead>\n",
       "    <tr style=\"text-align: right;\">\n",
       "      <th></th>\n",
       "      <th>workclass</th>\n",
       "      <th>education</th>\n",
       "      <th>marital_status</th>\n",
       "      <th>occupation</th>\n",
       "      <th>relationship</th>\n",
       "      <th>race</th>\n",
       "      <th>sex</th>\n",
       "      <th>native_country</th>\n",
       "      <th>income</th>\n",
       "    </tr>\n",
       "  </thead>\n",
       "  <tbody>\n",
       "    <tr>\n",
       "      <th>0</th>\n",
       "      <td>State-gov</td>\n",
       "      <td>Bachelors</td>\n",
       "      <td>Never-married</td>\n",
       "      <td>Adm-clerical</td>\n",
       "      <td>Not-in-family</td>\n",
       "      <td>White</td>\n",
       "      <td>Male</td>\n",
       "      <td>United-States</td>\n",
       "      <td>&lt;=50K</td>\n",
       "    </tr>\n",
       "    <tr>\n",
       "      <th>1</th>\n",
       "      <td>Self-emp-not-inc</td>\n",
       "      <td>Bachelors</td>\n",
       "      <td>Married-civ-spouse</td>\n",
       "      <td>Exec-managerial</td>\n",
       "      <td>Husband</td>\n",
       "      <td>White</td>\n",
       "      <td>Male</td>\n",
       "      <td>United-States</td>\n",
       "      <td>&lt;=50K</td>\n",
       "    </tr>\n",
       "    <tr>\n",
       "      <th>2</th>\n",
       "      <td>Private</td>\n",
       "      <td>HS-grad</td>\n",
       "      <td>Divorced</td>\n",
       "      <td>Handlers-cleaners</td>\n",
       "      <td>Not-in-family</td>\n",
       "      <td>White</td>\n",
       "      <td>Male</td>\n",
       "      <td>United-States</td>\n",
       "      <td>&lt;=50K</td>\n",
       "    </tr>\n",
       "    <tr>\n",
       "      <th>3</th>\n",
       "      <td>Private</td>\n",
       "      <td>11th</td>\n",
       "      <td>Married-civ-spouse</td>\n",
       "      <td>Handlers-cleaners</td>\n",
       "      <td>Husband</td>\n",
       "      <td>Black</td>\n",
       "      <td>Male</td>\n",
       "      <td>United-States</td>\n",
       "      <td>&lt;=50K</td>\n",
       "    </tr>\n",
       "    <tr>\n",
       "      <th>4</th>\n",
       "      <td>Private</td>\n",
       "      <td>Bachelors</td>\n",
       "      <td>Married-civ-spouse</td>\n",
       "      <td>Prof-specialty</td>\n",
       "      <td>Wife</td>\n",
       "      <td>Black</td>\n",
       "      <td>Female</td>\n",
       "      <td>Cuba</td>\n",
       "      <td>&lt;=50K</td>\n",
       "    </tr>\n",
       "  </tbody>\n",
       "</table>\n",
       "</div>"
      ],
      "text/plain": [
       "           workclass   education       marital_status          occupation  \\\n",
       "0          State-gov   Bachelors        Never-married        Adm-clerical   \n",
       "1   Self-emp-not-inc   Bachelors   Married-civ-spouse     Exec-managerial   \n",
       "2            Private     HS-grad             Divorced   Handlers-cleaners   \n",
       "3            Private        11th   Married-civ-spouse   Handlers-cleaners   \n",
       "4            Private   Bachelors   Married-civ-spouse      Prof-specialty   \n",
       "\n",
       "     relationship    race      sex  native_country  income  \n",
       "0   Not-in-family   White     Male   United-States   <=50K  \n",
       "1         Husband   White     Male   United-States   <=50K  \n",
       "2   Not-in-family   White     Male   United-States   <=50K  \n",
       "3         Husband   Black     Male   United-States   <=50K  \n",
       "4            Wife   Black   Female            Cuba   <=50K  "
      ]
     },
     "execution_count": 22,
     "metadata": {},
     "output_type": "execute_result"
    }
   ],
   "source": [
    "aux = df1.select_dtypes( include='object')\n",
    "aux.head()"
   ]
  },
  {
   "cell_type": "code",
   "execution_count": 23,
   "id": "c9d30d34",
   "metadata": {
    "ExecuteTime": {
     "end_time": "2021-09-30T16:16:09.313240Z",
     "start_time": "2021-09-30T16:16:07.998074Z"
    }
   },
   "outputs": [
    {
     "data": {
      "image/png": "[encoded data removed]",
      "text/plain": [
       "<Figure size 936x576 with 4 Axes>"
      ]
     },
     "metadata": {},
     "output_type": "display_data"
    }
   ],
   "source": [
    "plt.subplot( 2, 2, 1)\n",
    "sns.countplot( data=aux, x='workclass' )\n",
    "plt.xticks( rotation=90 )\n",
    "plt.tight_layout()\n",
    "\n",
    "plt.subplot( 2, 2, 2 )\n",
    "list01 = df3['education_num'].value_counts().index\n",
    "list02 = df3['education'].value_counts().index\n",
    "\n",
    "dic = pd.Series( list02, list01 )\n",
    "dic = dic.sort_index()\n",
    "\n",
    "sns.countplot( data=aux, x='education', order=dic)\n",
    "plt.xticks( rotation=90 )\n",
    "plt.tight_layout()\n",
    "\n",
    "plt.subplot( 2, 2, 3 )\n",
    "sns.countplot( data=aux, x='marital_status' )\n",
    "plt.xticks( rotation=90 )\n",
    "plt.tight_layout()\n",
    "\n",
    "plt.subplot( 2, 2, 4 )\n",
    "sns.countplot( data=aux, x='occupation' )\n",
    "plt.xticks( rotation=90 )\n",
    "plt.tight_layout()"
   ]
  },
  {
   "cell_type": "markdown",
   "id": "641d8909",
   "metadata": {},
   "source": [
    "Here The variable **native_contry** is totally unbalanced taking almost 90% of the dataset"
   ]
  },
  {
   "cell_type": "code",
   "execution_count": 24,
   "id": "7d126fb1",
   "metadata": {
    "ExecuteTime": {
     "end_time": "2021-09-30T16:16:09.405510Z",
     "start_time": "2021-09-30T16:16:09.388725Z"
    }
   },
   "outputs": [
    {
     "name": "stdout",
     "output_type": "stream",
     "text": [
      "Percentage of concentrated data = United States: 0.895857006848684 %\n"
     ]
    }
   ],
   "source": [
    "pc03 = str( aux[aux['native_country'] == ' United-States']['native_country'].count() / df1.shape[0] ) + ' %'\n",
    "print( 'Percentage of concentrated data = United States: {}' .format( pc03 ) )"
   ]
  },
  {
   "cell_type": "code",
   "execution_count": 25,
   "id": "8fbaebc0",
   "metadata": {
    "ExecuteTime": {
     "end_time": "2021-09-30T16:16:11.107231Z",
     "start_time": "2021-09-30T16:16:09.488396Z"
    }
   },
   "outputs": [
    {
     "data": {
      "image/png": "[encoded data removed]",
      "text/plain": [
       "<Figure size 936x576 with 4 Axes>"
      ]
     },
     "metadata": {},
     "output_type": "display_data"
    }
   ],
   "source": [
    "plt.subplot( 2, 2, 1 )\n",
    "sns.countplot( data=aux, x='relationship' )\n",
    "plt.tight_layout()\n",
    "\n",
    "plt.subplot( 2, 2, 2 )\n",
    "sns.countplot( data=aux, x='race' )\n",
    "plt.xticks( rotation=45 )\n",
    "plt.tight_layout()\n",
    "\n",
    "plt.subplot( 2, 2, 3 )\n",
    "sns.countplot( data=aux, x='sex' )\n",
    "plt.tight_layout()\n",
    "\n",
    "plt.subplot( 2, 2, 4 )\n",
    "sns.countplot( data=aux, x='native_country' )\n",
    "plt.xticks( rotation=90 )\n",
    "plt.tight_layout()"
   ]
  },
  {
   "cell_type": "markdown",
   "id": "76f89982",
   "metadata": {},
   "source": [
    "## 3.2. Bivariate Analysis"
   ]
  },
  {
   "cell_type": "markdown",
   "id": "566b5cb1",
   "metadata": {
    "heading_collapsed": true
   },
   "source": [
    "### H1. The older, the higher the level of education.\n",
    "**FALSE**"
   ]
  },
  {
   "cell_type": "code",
   "execution_count": 97,
   "id": "2cb3d291",
   "metadata": {
    "ExecuteTime": {
     "end_time": "2021-09-30T17:11:24.692290Z",
     "start_time": "2021-09-30T17:11:24.665360Z"
    },
    "hidden": true
   },
   "outputs": [
    {
     "data": {
      "text/html": [
       "<div>\n",
       "<style scoped>\n",
       "    .dataframe tbody tr th:only-of-type {\n",
       "        vertical-align: middle;\n",
       "    }\n",
       "\n",
       "    .dataframe tbody tr th {\n",
       "        vertical-align: top;\n",
       "    }\n",
       "\n",
       "    .dataframe thead th {\n",
       "        text-align: right;\n",
       "    }\n",
       "</style>\n",
       "<table border=\"1\" class=\"dataframe\">\n",
       "  <thead>\n",
       "    <tr style=\"text-align: right;\">\n",
       "      <th></th>\n",
       "      <th>education_num</th>\n",
       "      <th>age</th>\n",
       "    </tr>\n",
       "  </thead>\n",
       "  <tbody>\n",
       "    <tr>\n",
       "      <th>3</th>\n",
       "      <td>4</td>\n",
       "      <td>48.445820</td>\n",
       "    </tr>\n",
       "    <tr>\n",
       "      <th>15</th>\n",
       "      <td>16</td>\n",
       "      <td>47.702179</td>\n",
       "    </tr>\n",
       "    <tr>\n",
       "      <th>1</th>\n",
       "      <td>2</td>\n",
       "      <td>46.142857</td>\n",
       "    </tr>\n",
       "    <tr>\n",
       "      <th>14</th>\n",
       "      <td>15</td>\n",
       "      <td>44.746528</td>\n",
       "    </tr>\n",
       "    <tr>\n",
       "      <th>13</th>\n",
       "      <td>14</td>\n",
       "      <td>44.049913</td>\n",
       "    </tr>\n",
       "  </tbody>\n",
       "</table>\n",
       "</div>"
      ],
      "text/plain": [
       "    education_num        age\n",
       "3               4  48.445820\n",
       "15             16  47.702179\n",
       "1               2  46.142857\n",
       "14             15  44.746528\n",
       "13             14  44.049913"
      ]
     },
     "execution_count": 97,
     "metadata": {},
     "output_type": "execute_result"
    }
   ],
   "source": [
    "df_aux = df3[['age','education_num']].groupby( 'education_num' ).mean().reset_index()\n",
    "df_aux.sort_values( 'age', ascending=False ).head( 5 )"
   ]
  },
  {
   "cell_type": "code",
   "execution_count": 98,
   "id": "972faa29",
   "metadata": {
    "ExecuteTime": {
     "end_time": "2021-09-30T17:11:28.285807Z",
     "start_time": "2021-09-30T17:11:27.963656Z"
    },
    "hidden": true
   },
   "outputs": [
    {
     "data": {
      "image/png": "[encoded data removed]",
      "text/plain": [
       "<Figure size 936x576 with 1 Axes>"
      ]
     },
     "metadata": {},
     "output_type": "display_data"
    }
   ],
   "source": [
    "corr = df_aux.corr()['age'][0]\n",
    "\n",
    "sns.regplot( data=df_aux, x='education_num', y='age' )\n",
    "plt.title( 'Education Level x Age \\nCorr = {}' .format( round( corr, 3) ), fontsize=20 );"
   ]
  },
  {
   "cell_type": "markdown",
   "id": "75230e47",
   "metadata": {
    "ExecuteTime": {
     "end_time": "2021-09-30T16:57:08.957919Z",
     "start_time": "2021-09-30T16:57:08.949425Z"
    },
    "heading_collapsed": true
   },
   "source": [
    "### H2. The mean age of people that work in Private class is higher than State-gov.\n",
    "**FALSE**"
   ]
  },
  {
   "cell_type": "code",
   "execution_count": 107,
   "id": "497b8aeb",
   "metadata": {
    "ExecuteTime": {
     "end_time": "2021-09-30T17:15:18.476861Z",
     "start_time": "2021-09-30T17:15:18.446907Z"
    },
    "hidden": true
   },
   "outputs": [
    {
     "data": {
      "text/html": [
       "<div>\n",
       "<style scoped>\n",
       "    .dataframe tbody tr th:only-of-type {\n",
       "        vertical-align: middle;\n",
       "    }\n",
       "\n",
       "    .dataframe tbody tr th {\n",
       "        vertical-align: top;\n",
       "    }\n",
       "\n",
       "    .dataframe thead th {\n",
       "        text-align: right;\n",
       "    }\n",
       "</style>\n",
       "<table border=\"1\" class=\"dataframe\">\n",
       "  <thead>\n",
       "    <tr style=\"text-align: right;\">\n",
       "      <th></th>\n",
       "      <th>workclass</th>\n",
       "      <th>age</th>\n",
       "    </tr>\n",
       "  </thead>\n",
       "  <tbody>\n",
       "    <tr>\n",
       "      <th>4</th>\n",
       "      <td>Private</td>\n",
       "      <td>36.797585</td>\n",
       "    </tr>\n",
       "    <tr>\n",
       "      <th>7</th>\n",
       "      <td>State-gov</td>\n",
       "      <td>39.436055</td>\n",
       "    </tr>\n",
       "  </tbody>\n",
       "</table>\n",
       "</div>"
      ],
      "text/plain": [
       "    workclass        age\n",
       "4     Private  36.797585\n",
       "7   State-gov  39.436055"
      ]
     },
     "execution_count": 107,
     "metadata": {},
     "output_type": "execute_result"
    }
   ],
   "source": [
    "df_aux = df3[['age','workclass']].groupby( 'workclass' ).mean().reset_index()\n",
    "df_aux01 = df_aux[ (df_aux['workclass'] == ' State-gov') | (df_aux['workclass'] == ' Private') ]\n",
    "df_aux01"
   ]
  },
  {
   "cell_type": "code",
   "execution_count": 108,
   "id": "f15a46c0",
   "metadata": {
    "ExecuteTime": {
     "end_time": "2021-09-30T17:15:19.047866Z",
     "start_time": "2021-09-30T17:15:18.888702Z"
    },
    "hidden": true
   },
   "outputs": [
    {
     "data": {
      "image/png": "[encoded data removed]",
      "text/plain": [
       "<Figure size 936x576 with 1 Axes>"
      ]
     },
     "metadata": {},
     "output_type": "display_data"
    }
   ],
   "source": [
    "sns.barplot( data=df_aux01, x='workclass', y='age' )\n",
    "plt.title( 'Workclass x Mean Age', fontsize=20 );"
   ]
  },
  {
   "cell_type": "markdown",
   "id": "ebaec949",
   "metadata": {
    "heading_collapsed": true
   },
   "source": [
    "### H3. The mean age of people that has \"Bachelor's level\" of education is higher than \"some-college\".\n",
    "**TRUE**"
   ]
  },
  {
   "cell_type": "code",
   "execution_count": 110,
   "id": "955932d9",
   "metadata": {
    "ExecuteTime": {
     "end_time": "2021-09-30T17:15:46.825823Z",
     "start_time": "2021-09-30T17:15:46.791880Z"
    },
    "hidden": true
   },
   "outputs": [
    {
     "data": {
      "text/html": [
       "<div>\n",
       "<style scoped>\n",
       "    .dataframe tbody tr th:only-of-type {\n",
       "        vertical-align: middle;\n",
       "    }\n",
       "\n",
       "    .dataframe tbody tr th {\n",
       "        vertical-align: top;\n",
       "    }\n",
       "\n",
       "    .dataframe thead th {\n",
       "        text-align: right;\n",
       "    }\n",
       "</style>\n",
       "<table border=\"1\" class=\"dataframe\">\n",
       "  <thead>\n",
       "    <tr style=\"text-align: right;\">\n",
       "      <th></th>\n",
       "      <th>education</th>\n",
       "      <th>age</th>\n",
       "    </tr>\n",
       "  </thead>\n",
       "  <tbody>\n",
       "    <tr>\n",
       "      <th>9</th>\n",
       "      <td>Bachelors</td>\n",
       "      <td>38.904949</td>\n",
       "    </tr>\n",
       "    <tr>\n",
       "      <th>15</th>\n",
       "      <td>Some-college</td>\n",
       "      <td>35.756275</td>\n",
       "    </tr>\n",
       "  </tbody>\n",
       "</table>\n",
       "</div>"
      ],
      "text/plain": [
       "        education        age\n",
       "9       Bachelors  38.904949\n",
       "15   Some-college  35.756275"
      ]
     },
     "execution_count": 110,
     "metadata": {},
     "output_type": "execute_result"
    }
   ],
   "source": [
    "df_aux = df3[['age','education']].groupby( 'education' ).mean().reset_index()\n",
    "df_aux = df_aux[ ( df_aux['education'] == ' Bachelors' ) | ( df_aux['education'] == ' Some-college' ) ]\n",
    "df_aux"
   ]
  },
  {
   "cell_type": "code",
   "execution_count": 111,
   "id": "1452c50f",
   "metadata": {
    "ExecuteTime": {
     "end_time": "2021-09-30T17:15:47.425230Z",
     "start_time": "2021-09-30T17:15:47.253359Z"
    },
    "hidden": true
   },
   "outputs": [
    {
     "data": {
      "image/png": "[encoded data removed]",
      "text/plain": [
       "<Figure size 936x576 with 1 Axes>"
      ]
     },
     "metadata": {},
     "output_type": "display_data"
    }
   ],
   "source": [
    "sns.barplot( data=df_aux, x='education', y='age' )\n",
    "plt.title( 'Education x Mean Age', fontsize=20 );"
   ]
  },
  {
   "cell_type": "code",
   "execution_count": null,
   "id": "51944595",
   "metadata": {
    "hidden": true
   },
   "outputs": [],
   "source": []
  },
  {
   "cell_type": "markdown",
   "id": "48de8b44",
   "metadata": {
    "heading_collapsed": true
   },
   "source": [
    "### H4. The mean age of people that works 30 hours or more is lower than 30 years old.\n",
    "**TRUE**"
   ]
  },
  {
   "cell_type": "code",
   "execution_count": 121,
   "id": "78728247",
   "metadata": {
    "ExecuteTime": {
     "end_time": "2021-09-30T17:22:05.697172Z",
     "start_time": "2021-09-30T17:22:05.655284Z"
    },
    "hidden": true
   },
   "outputs": [
    {
     "data": {
      "text/html": [
       "<div>\n",
       "<style scoped>\n",
       "    .dataframe tbody tr th:only-of-type {\n",
       "        vertical-align: middle;\n",
       "    }\n",
       "\n",
       "    .dataframe tbody tr th {\n",
       "        vertical-align: top;\n",
       "    }\n",
       "\n",
       "    .dataframe thead th {\n",
       "        text-align: right;\n",
       "    }\n",
       "</style>\n",
       "<table border=\"1\" class=\"dataframe\">\n",
       "  <thead>\n",
       "    <tr style=\"text-align: right;\">\n",
       "      <th></th>\n",
       "      <th>more_than_30</th>\n",
       "      <th>age</th>\n",
       "    </tr>\n",
       "  </thead>\n",
       "  <tbody>\n",
       "    <tr>\n",
       "      <th>0</th>\n",
       "      <td>&lt;30</td>\n",
       "      <td>36.070734</td>\n",
       "    </tr>\n",
       "    <tr>\n",
       "      <th>1</th>\n",
       "      <td>&gt;=30</td>\n",
       "      <td>39.063772</td>\n",
       "    </tr>\n",
       "  </tbody>\n",
       "</table>\n",
       "</div>"
      ],
      "text/plain": [
       "  more_than_30        age\n",
       "0          <30  36.070734\n",
       "1         >=30  39.063772"
      ]
     },
     "execution_count": 121,
     "metadata": {},
     "output_type": "execute_result"
    }
   ],
   "source": [
    "df_aux = df3.copy()\n",
    "df_aux['more_than_30'] = df_aux['hour_per_week'].apply( lambda x: '>=30' if x>30 else '<30' )\n",
    "\n",
    "df_aux = df_aux[['age','more_than_30']].groupby( 'more_than_30' ).mean().reset_index()\n",
    "df_aux"
   ]
  },
  {
   "cell_type": "code",
   "execution_count": 122,
   "id": "e9b5c620",
   "metadata": {
    "ExecuteTime": {
     "end_time": "2021-09-30T17:22:19.995746Z",
     "start_time": "2021-09-30T17:22:19.837618Z"
    },
    "hidden": true
   },
   "outputs": [
    {
     "data": {
      "image/png": "[encoded data removed]",
      "text/plain": [
       "<Figure size 936x576 with 1 Axes>"
      ]
     },
     "metadata": {},
     "output_type": "display_data"
    }
   ],
   "source": [
    "sns.barplot( data=df_aux, x='more_than_30', y='age' )\n",
    "plt.title( 'More than 30 x Mean Age', fontsize=20 );"
   ]
  },
  {
   "cell_type": "markdown",
   "id": "3398a381",
   "metadata": {
    "heading_collapsed": true
   },
   "source": [
    "### H5. The most of people that work 30 hours or more are in a level of education higher than Bachelors.\n",
    "**FALSE** "
   ]
  },
  {
   "cell_type": "code",
   "execution_count": 128,
   "id": "13182db6",
   "metadata": {
    "ExecuteTime": {
     "end_time": "2021-09-30T17:28:37.428942Z",
     "start_time": "2021-09-30T17:28:37.383069Z"
    },
    "hidden": true
   },
   "outputs": [
    {
     "data": {
      "text/html": [
       "<div>\n",
       "<style scoped>\n",
       "    .dataframe tbody tr th:only-of-type {\n",
       "        vertical-align: middle;\n",
       "    }\n",
       "\n",
       "    .dataframe tbody tr th {\n",
       "        vertical-align: top;\n",
       "    }\n",
       "\n",
       "    .dataframe thead th {\n",
       "        text-align: right;\n",
       "    }\n",
       "</style>\n",
       "<table border=\"1\" class=\"dataframe\">\n",
       "  <thead>\n",
       "    <tr style=\"text-align: right;\">\n",
       "      <th></th>\n",
       "      <th>more_than_30</th>\n",
       "      <th>bach_or_not</th>\n",
       "    </tr>\n",
       "  </thead>\n",
       "  <tbody>\n",
       "    <tr>\n",
       "      <th>0</th>\n",
       "      <td>&gt;=30</td>\n",
       "      <td>Bachelors</td>\n",
       "    </tr>\n",
       "    <tr>\n",
       "      <th>1</th>\n",
       "      <td>&lt;30</td>\n",
       "      <td>Bachelors</td>\n",
       "    </tr>\n",
       "    <tr>\n",
       "      <th>2</th>\n",
       "      <td>&gt;=30</td>\n",
       "      <td>not_Bachelors</td>\n",
       "    </tr>\n",
       "    <tr>\n",
       "      <th>3</th>\n",
       "      <td>&gt;=30</td>\n",
       "      <td>not_Bachelors</td>\n",
       "    </tr>\n",
       "    <tr>\n",
       "      <th>4</th>\n",
       "      <td>&gt;=30</td>\n",
       "      <td>Bachelors</td>\n",
       "    </tr>\n",
       "  </tbody>\n",
       "</table>\n",
       "</div>"
      ],
      "text/plain": [
       "  more_than_30    bach_or_not\n",
       "0         >=30      Bachelors\n",
       "1          <30      Bachelors\n",
       "2         >=30  not_Bachelors\n",
       "3         >=30  not_Bachelors\n",
       "4         >=30      Bachelors"
      ]
     },
     "execution_count": 128,
     "metadata": {},
     "output_type": "execute_result"
    }
   ],
   "source": [
    "df_aux = df3.copy()\n",
    "df_aux['more_than_30'] = df_aux['hour_per_week'].apply( lambda x: '>=30' if x>30 else '<30' )\n",
    "df_aux['bach_or_not']  = df_aux['education'].apply( lambda x: 'Bachelors' if x == ' Bachelors' else 'not_Bachelors' )\n",
    "df_aux = df_aux[['more_than_30','bach_or_not']]\n",
    "df_aux.head()"
   ]
  },
  {
   "cell_type": "code",
   "execution_count": 131,
   "id": "db70d8e8",
   "metadata": {
    "ExecuteTime": {
     "end_time": "2021-09-30T17:29:51.409734Z",
     "start_time": "2021-09-30T17:29:51.203567Z"
    },
    "hidden": true
   },
   "outputs": [
    {
     "data": {
      "image/png": "[encoded data removed]",
      "text/plain": [
       "<Figure size 936x576 with 1 Axes>"
      ]
     },
     "metadata": {},
     "output_type": "display_data"
    }
   ],
   "source": [
    "sns.countplot( data=df_aux, x='bach_or_not', hue='more_than_30' );"
   ]
  },
  {
   "cell_type": "markdown",
   "id": "13c7dea1",
   "metadata": {
    "heading_collapsed": true
   },
   "source": [
    "### H6. People that has a higher level of education work less\n",
    "**FALSE**"
   ]
  },
  {
   "cell_type": "code",
   "execution_count": 135,
   "id": "524a441c",
   "metadata": {
    "ExecuteTime": {
     "end_time": "2021-09-30T17:38:23.584071Z",
     "start_time": "2021-09-30T17:38:23.570073Z"
    },
    "hidden": true
   },
   "outputs": [],
   "source": [
    "df_aux = df3[['education_num','hour_per_week']]"
   ]
  },
  {
   "cell_type": "code",
   "execution_count": 154,
   "id": "4bfd2d3b",
   "metadata": {
    "ExecuteTime": {
     "end_time": "2021-09-30T17:44:49.765907Z",
     "start_time": "2021-09-30T17:44:48.168018Z"
    },
    "hidden": true
   },
   "outputs": [
    {
     "data": {
      "image/png": "[encoded data removed]",
      "text/plain": [
       "<Figure size 936x576 with 1 Axes>"
      ]
     },
     "metadata": {},
     "output_type": "display_data"
    }
   ],
   "source": [
    "sns.barplot( data=df_aux, x='education_num', y='hour_per_week', color=sns.color_palette( 'RdBu_r' )[0] );"
   ]
  },
  {
   "cell_type": "markdown",
   "id": "fb85fdaa",
   "metadata": {
    "heading_collapsed": true
   },
   "source": [
    "### A table of The age distribution related with each workclass.\n",
    "To see the visualization with plotly, access https://nbviewer.jupyter.org/ and load the link of this github page"
   ]
  },
  {
   "cell_type": "code",
   "execution_count": 158,
   "id": "f25ade25",
   "metadata": {
    "ExecuteTime": {
     "end_time": "2021-09-30T17:48:44.065201Z",
     "start_time": "2021-09-30T17:48:43.499711Z"
    },
    "hidden": true
   },
   "outputs": [
    {
     "data": {
      "application/vnd.plotly.v1+json": {
       "config": {
        "plotlyServerURL": "https://plot.ly"
       },
       "data": [
        {
         "branchvalues": "total",
         "domain": {
          "x": [
           0,
           1
          ],
          "y": [
           0,
           1
          ]
         },
         "hovertemplate": "labels=%{label}<br>count=%{value}<br>parent=%{parent}<br>id=%{id}<extra></extra>",
         "ids": [
          " ?/17",
          " Federal-gov/17",
          " Local-gov/17",
          " Never-worked/17",
          " Private/17",
          " Self-emp-inc/17",
          " Self-emp-not-inc/17",
          " State-gov/17",
          " ?/18",
          " Federal-gov/18",
          " Local-gov/18",
          " Never-worked/18",
          " Private/18",
          " Self-emp-inc/18",
          " Self-emp-not-inc/18",
          " State-gov/18",
          " ?/19",
          " Federal-gov/19",
          " Local-gov/19",
          " Private/19",
          " Self-emp-inc/19",
          " Self-emp-not-inc/19",
          " State-gov/19",
          " Without-pay/19",
          " ?/20",
          " Federal-gov/20",
          " Local-gov/20",
          " Never-worked/20",
          " Private/20",
          " Self-emp-inc/20",
          " Self-emp-not-inc/20",
          " State-gov/20",
          " ?/21",
          " Federal-gov/21",
          " Local-gov/21",
          " Private/21",
          " Self-emp-inc/21",
          " Self-emp-not-inc/21",
          " State-gov/21",
          " Without-pay/21",
          " ?/22",
          " Federal-gov/22",
          " Local-gov/22",
          " Private/22",
          " Self-emp-inc/22",
          " Self-emp-not-inc/22",
          " State-gov/22",
          " Without-pay/22",
          " ?/23",
          " Federal-gov/23",
          " Local-gov/23",
          " Never-worked/23",
          " Private/23",
          " Self-emp-inc/23",
          " Self-emp-not-inc/23",
          " State-gov/23",
          " ?/24",
          " Federal-gov/24",
          " Local-gov/24",
          " Private/24",
          " Self-emp-inc/24",
          " Self-emp-not-inc/24",
          " State-gov/24",
          " ?/25",
          " Federal-gov/25",
          " Local-gov/25",
          " Private/25",
          " Self-emp-inc/25",
          " Self-emp-not-inc/25",
          " State-gov/25",
          " ?/26",
          " Federal-gov/26",
          " Local-gov/26",
          " Private/26",
          " Self-emp-inc/26",
          " Self-emp-not-inc/26",
          " State-gov/26",
          " ?/27",
          " Federal-gov/27",
          " Local-gov/27",
          " Private/27",
          " Self-emp-inc/27",
          " Self-emp-not-inc/27",
          " State-gov/27",
          " ?/28",
          " Federal-gov/28",
          " Local-gov/28",
          " Private/28",
          " Self-emp-inc/28",
          " Self-emp-not-inc/28",
          " State-gov/28",
          " ?/29",
          " Federal-gov/29",
          " Local-gov/29",
          " Private/29",
          " Self-emp-inc/29",
          " Self-emp-not-inc/29",
          " State-gov/29",
          " Without-pay/29",
          " ?/30",
          " Federal-gov/30",
          " Local-gov/30",
          " Never-worked/30",
          " Private/30",
          " Self-emp-inc/30",
          " Self-emp-not-inc/30",
          " State-gov/30",
          " ?/31",
          " Federal-gov/31",
          " Local-gov/31",
          " Private/31",
          " Self-emp-inc/31",
          " Self-emp-not-inc/31",
          " State-gov/31",
          " ?/32",
          " Federal-gov/32",
          " Local-gov/32",
          " Private/32",
          " Self-emp-inc/32",
          " Self-emp-not-inc/32",
          " State-gov/32",
          " ?/33",
          " Federal-gov/33",
          " Local-gov/33",
          " Private/33",
          " Self-emp-inc/33",
          " Self-emp-not-inc/33",
          " State-gov/33",
          " ?/34",
          " Federal-gov/34",
          " Local-gov/34",
          " Private/34",
          " Self-emp-inc/34",
          " Self-emp-not-inc/34",
          " State-gov/34",
          " ?/35",
          " Federal-gov/35",
          " Local-gov/35",
          " Private/35",
          " Self-emp-inc/35",
          " Self-emp-not-inc/35",
          " State-gov/35",
          " ?/36",
          " Federal-gov/36",
          " Local-gov/36",
          " Private/36",
          " Self-emp-inc/36",
          " Self-emp-not-inc/36",
          " State-gov/36",
          " ?/37",
          " Federal-gov/37",
          " Local-gov/37",
          " Private/37",
          " Self-emp-inc/37",
          " Self-emp-not-inc/37",
          " State-gov/37",
          " ?/38",
          " Federal-gov/38",
          " Local-gov/38",
          " Private/38",
          " Self-emp-inc/38",
          " Self-emp-not-inc/38",
          " State-gov/38",
          " ?/39",
          " Federal-gov/39",
          " Local-gov/39",
          " Private/39",
          " Self-emp-inc/39",
          " Self-emp-not-inc/39",
          " State-gov/39",
          " ?/40",
          " Federal-gov/40",
          " Local-gov/40",
          " Private/40",
          " Self-emp-inc/40",
          " Self-emp-not-inc/40",
          " State-gov/40",
          " ?/41",
          " Federal-gov/41",
          " Local-gov/41",
          " Private/41",
          " Self-emp-inc/41",
          " Self-emp-not-inc/41",
          " State-gov/41",
          " ?/42",
          " Federal-gov/42",
          " Local-gov/42",
          " Private/42",
          " Self-emp-inc/42",
          " Self-emp-not-inc/42",
          " State-gov/42",
          " ?/43",
          " Federal-gov/43",
          " Local-gov/43",
          " Private/43",
          " Self-emp-inc/43",
          " Self-emp-not-inc/43",
          " State-gov/43",
          " ?/44",
          " Federal-gov/44",
          " Local-gov/44",
          " Private/44",
          " Self-emp-inc/44",
          " Self-emp-not-inc/44",
          " State-gov/44",
          " ?/45",
          " Federal-gov/45",
          " Local-gov/45",
          " Private/45",
          " Self-emp-inc/45",
          " Self-emp-not-inc/45",
          " State-gov/45",
          " ?/46",
          " Federal-gov/46",
          " Local-gov/46",
          " Private/46",
          " Self-emp-inc/46",
          " Self-emp-not-inc/46",
          " State-gov/46",
          " Without-pay/46",
          " ?/47",
          " Federal-gov/47",
          " Local-gov/47",
          " Private/47",
          " Self-emp-inc/47",
          " Self-emp-not-inc/47",
          " State-gov/47",
          " ?/48",
          " Federal-gov/48",
          " Local-gov/48",
          " Private/48",
          " Self-emp-inc/48",
          " Self-emp-not-inc/48",
          " State-gov/48",
          " ?/49",
          " Federal-gov/49",
          " Local-gov/49",
          " Private/49",
          " Self-emp-inc/49",
          " Self-emp-not-inc/49",
          " State-gov/49",
          " ?/50",
          " Federal-gov/50",
          " Local-gov/50",
          " Private/50",
          " Self-emp-inc/50",
          " Self-emp-not-inc/50",
          " State-gov/50",
          " ?/51",
          " Federal-gov/51",
          " Local-gov/51",
          " Private/51",
          " Self-emp-inc/51",
          " Self-emp-not-inc/51",
          " State-gov/51",
          " ?/52",
          " Federal-gov/52",
          " Local-gov/52",
          " Private/52",
          " Self-emp-inc/52",
          " Self-emp-not-inc/52",
          " State-gov/52",
          " Without-pay/52",
          " ?/53",
          " Federal-gov/53",
          " Local-gov/53",
          " Private/53",
          " Self-emp-inc/53",
          " Self-emp-not-inc/53",
          " State-gov/53",
          " ?/54",
          " Federal-gov/54",
          " Local-gov/54",
          " Private/54",
          " Self-emp-inc/54",
          " Self-emp-not-inc/54",
          " State-gov/54",
          " ?/55",
          " Federal-gov/55",
          " Local-gov/55",
          " Private/55",
          " Self-emp-inc/55",
          " Self-emp-not-inc/55",
          " State-gov/55",
          " ?/56",
          " Federal-gov/56",
          " Local-gov/56",
          " Private/56",
          " Self-emp-inc/56",
          " Self-emp-not-inc/56",
          " State-gov/56",
          " ?/57",
          " Federal-gov/57",
          " Local-gov/57",
          " Private/57",
          " Self-emp-inc/57",
          " Self-emp-not-inc/57",
          " State-gov/57",
          " ?/58",
          " Federal-gov/58",
          " Local-gov/58",
          " Private/58",
          " Self-emp-inc/58",
          " Self-emp-not-inc/58",
          " State-gov/58",
          " ?/59",
          " Federal-gov/59",
          " Local-gov/59",
          " Private/59",
          " Self-emp-inc/59",
          " Self-emp-not-inc/59",
          " State-gov/59",
          " ?/60",
          " Federal-gov/60",
          " Local-gov/60",
          " Private/60",
          " Self-emp-inc/60",
          " Self-emp-not-inc/60",
          " State-gov/60",
          " ?/61",
          " Federal-gov/61",
          " Local-gov/61",
          " Private/61",
          " Self-emp-inc/61",
          " Self-emp-not-inc/61",
          " State-gov/61",
          " ?/62",
          " Federal-gov/62",
          " Local-gov/62",
          " Private/62",
          " Self-emp-inc/62",
          " Self-emp-not-inc/62",
          " State-gov/62",
          " Without-pay/62",
          " ?/63",
          " Federal-gov/63",
          " Local-gov/63",
          " Private/63",
          " Self-emp-inc/63",
          " Self-emp-not-inc/63",
          " State-gov/63",
          " ?/64",
          " Federal-gov/64",
          " Local-gov/64",
          " Private/64",
          " Self-emp-inc/64",
          " Self-emp-not-inc/64",
          " State-gov/64",
          " ?/65",
          " Federal-gov/65",
          " Local-gov/65",
          " Private/65",
          " Self-emp-inc/65",
          " Self-emp-not-inc/65",
          " State-gov/65",
          " Without-pay/65",
          " ?/66",
          " Federal-gov/66",
          " Local-gov/66",
          " Private/66",
          " Self-emp-inc/66",
          " Self-emp-not-inc/66",
          " State-gov/66",
          " ?/67",
          " Federal-gov/67",
          " Local-gov/67",
          " Private/67",
          " Self-emp-inc/67",
          " Self-emp-not-inc/67",
          " State-gov/67",
          " Without-pay/67",
          " ?/68",
          " Federal-gov/68",
          " Local-gov/68",
          " Private/68",
          " Self-emp-inc/68",
          " Self-emp-not-inc/68",
          " State-gov/68",
          " Without-pay/68",
          " ?/69",
          " Federal-gov/69",
          " Local-gov/69",
          " Private/69",
          " Self-emp-inc/69",
          " Self-emp-not-inc/69",
          " State-gov/69",
          " ?/70",
          " Federal-gov/70",
          " Local-gov/70",
          " Private/70",
          " Self-emp-inc/70",
          " Self-emp-not-inc/70",
          " State-gov/70",
          " ?/71",
          " Federal-gov/71",
          " Local-gov/71",
          " Private/71",
          " Self-emp-inc/71",
          " Self-emp-not-inc/71",
          " State-gov/71",
          " ?/72",
          " Federal-gov/72",
          " Local-gov/72",
          " Private/72",
          " Self-emp-inc/72",
          " Self-emp-not-inc/72",
          " Without-pay/72",
          " ?/73",
          " Federal-gov/73",
          " Local-gov/73",
          " Private/73",
          " Self-emp-inc/73",
          " Self-emp-not-inc/73",
          " State-gov/73",
          " ?/74",
          " Federal-gov/74",
          " Private/74",
          " Self-emp-inc/74",
          " Self-emp-not-inc/74",
          " State-gov/74",
          " ?/75",
          " Local-gov/75",
          " Private/75",
          " Self-emp-inc/75",
          " Self-emp-not-inc/75",
          " State-gov/75",
          " ?/76",
          " Federal-gov/76",
          " Local-gov/76",
          " Private/76",
          " Self-emp-inc/76",
          " Self-emp-not-inc/76",
          " ?/77",
          " Local-gov/77",
          " Private/77",
          " Self-emp-inc/77",
          " Self-emp-not-inc/77",
          " ?/78",
          " Local-gov/78",
          " Private/78",
          " Self-emp-inc/78",
          " Self-emp-not-inc/78",
          " ?/79",
          " Federal-gov/79",
          " Local-gov/79",
          " Private/79",
          " Self-emp-inc/79",
          " Self-emp-not-inc/79",
          " ?/80",
          " Local-gov/80",
          " Private/80",
          " Self-emp-not-inc/80",
          " ?/81",
          " Private/81",
          " Self-emp-inc/81",
          " Self-emp-not-inc/81",
          " State-gov/81",
          " ?/82",
          " Private/82",
          " Self-emp-inc/82",
          " Self-emp-not-inc/82",
          " ?/83",
          " Private/83",
          " Self-emp-inc/83",
          " Self-emp-not-inc/83",
          " ?/84",
          " Local-gov/84",
          " Private/84",
          " Self-emp-inc/84",
          " Self-emp-not-inc/84",
          " Private/85",
          " Self-emp-not-inc/85",
          " Private/86",
          " ?/87",
          " Private/88",
          " Self-emp-not-inc/88",
          " ?/90",
          " Federal-gov/90",
          " Local-gov/90",
          " Private/90",
          " Self-emp-not-inc/90",
          " ?",
          " Federal-gov",
          " Local-gov",
          " Never-worked",
          " Private",
          " Self-emp-inc",
          " Self-emp-not-inc",
          " State-gov",
          " Without-pay"
         ],
         "labels": [
          "17",
          "17",
          "17",
          "17",
          "17",
          "17",
          "17",
          "17",
          "18",
          "18",
          "18",
          "18",
          "18",
          "18",
          "18",
          "18",
          "19",
          "19",
          "19",
          "19",
          "19",
          "19",
          "19",
          "19",
          "20",
          "20",
          "20",
          "20",
          "20",
          "20",
          "20",
          "20",
          "21",
          "21",
          "21",
          "21",
          "21",
          "21",
          "21",
          "21",
          "22",
          "22",
          "22",
          "22",
          "22",
          "22",
          "22",
          "22",
          "23",
          "23",
          "23",
          "23",
          "23",
          "23",
          "23",
          "23",
          "24",
          "24",
          "24",
          "24",
          "24",
          "24",
          "24",
          "25",
          "25",
          "25",
          "25",
          "25",
          "25",
          "25",
          "26",
          "26",
          "26",
          "26",
          "26",
          "26",
          "26",
          "27",
          "27",
          "27",
          "27",
          "27",
          "27",
          "27",
          "28",
          "28",
          "28",
          "28",
          "28",
          "28",
          "28",
          "29",
          "29",
          "29",
          "29",
          "29",
          "29",
          "29",
          "29",
          "30",
          "30",
          "30",
          "30",
          "30",
          "30",
          "30",
          "30",
          "31",
          "31",
          "31",
          "31",
          "31",
          "31",
          "31",
          "32",
          "32",
          "32",
          "32",
          "32",
          "32",
          "32",
          "33",
          "33",
          "33",
          "33",
          "33",
          "33",
          "33",
          "34",
          "34",
          "34",
          "34",
          "34",
          "34",
          "34",
          "35",
          "35",
          "35",
          "35",
          "35",
          "35",
          "35",
          "36",
          "36",
          "36",
          "36",
          "36",
          "36",
          "36",
          "37",
          "37",
          "37",
          "37",
          "37",
          "37",
          "37",
          "38",
          "38",
          "38",
          "38",
          "38",
          "38",
          "38",
          "39",
          "39",
          "39",
          "39",
          "39",
          "39",
          "39",
          "40",
          "40",
          "40",
          "40",
          "40",
          "40",
          "40",
          "41",
          "41",
          "41",
          "41",
          "41",
          "41",
          "41",
          "42",
          "42",
          "42",
          "42",
          "42",
          "42",
          "42",
          "43",
          "43",
          "43",
          "43",
          "43",
          "43",
          "43",
          "44",
          "44",
          "44",
          "44",
          "44",
          "44",
          "44",
          "45",
          "45",
          "45",
          "45",
          "45",
          "45",
          "45",
          "46",
          "46",
          "46",
          "46",
          "46",
          "46",
          "46",
          "46",
          "47",
          "47",
          "47",
          "47",
          "47",
          "47",
          "47",
          "48",
          "48",
          "48",
          "48",
          "48",
          "48",
          "48",
          "49",
          "49",
          "49",
          "49",
          "49",
          "49",
          "49",
          "50",
          "50",
          "50",
          "50",
          "50",
          "50",
          "50",
          "51",
          "51",
          "51",
          "51",
          "51",
          "51",
          "51",
          "52",
          "52",
          "52",
          "52",
          "52",
          "52",
          "52",
          "52",
          "53",
          "53",
          "53",
          "53",
          "53",
          "53",
          "53",
          "54",
          "54",
          "54",
          "54",
          "54",
          "54",
          "54",
          "55",
          "55",
          "55",
          "55",
          "55",
          "55",
          "55",
          "56",
          "56",
          "56",
          "56",
          "56",
          "56",
          "56",
          "57",
          "57",
          "57",
          "57",
          "57",
          "57",
          "57",
          "58",
          "58",
          "58",
          "58",
          "58",
          "58",
          "58",
          "59",
          "59",
          "59",
          "59",
          "59",
          "59",
          "59",
          "60",
          "60",
          "60",
          "60",
          "60",
          "60",
          "60",
          "61",
          "61",
          "61",
          "61",
          "61",
          "61",
          "61",
          "62",
          "62",
          "62",
          "62",
          "62",
          "62",
          "62",
          "62",
          "63",
          "63",
          "63",
          "63",
          "63",
          "63",
          "63",
          "64",
          "64",
          "64",
          "64",
          "64",
          "64",
          "64",
          "65",
          "65",
          "65",
          "65",
          "65",
          "65",
          "65",
          "65",
          "66",
          "66",
          "66",
          "66",
          "66",
          "66",
          "66",
          "67",
          "67",
          "67",
          "67",
          "67",
          "67",
          "67",
          "67",
          "68",
          "68",
          "68",
          "68",
          "68",
          "68",
          "68",
          "68",
          "69",
          "69",
          "69",
          "69",
          "69",
          "69",
          "69",
          "70",
          "70",
          "70",
          "70",
          "70",
          "70",
          "70",
          "71",
          "71",
          "71",
          "71",
          "71",
          "71",
          "71",
          "72",
          "72",
          "72",
          "72",
          "72",
          "72",
          "72",
          "73",
          "73",
          "73",
          "73",
          "73",
          "73",
          "73",
          "74",
          "74",
          "74",
          "74",
          "74",
          "74",
          "75",
          "75",
          "75",
          "75",
          "75",
          "75",
          "76",
          "76",
          "76",
          "76",
          "76",
          "76",
          "77",
          "77",
          "77",
          "77",
          "77",
          "78",
          "78",
          "78",
          "78",
          "78",
          "79",
          "79",
          "79",
          "79",
          "79",
          "79",
          "80",
          "80",
          "80",
          "80",
          "81",
          "81",
          "81",
          "81",
          "81",
          "82",
          "82",
          "82",
          "82",
          "83",
          "83",
          "83",
          "83",
          "84",
          "84",
          "84",
          "84",
          "84",
          "85",
          "85",
          "86",
          "87",
          "88",
          "88",
          "90",
          "90",
          "90",
          "90",
          "90",
          " ?",
          " Federal-gov",
          " Local-gov",
          " Never-worked",
          " Private",
          " Self-emp-inc",
          " Self-emp-not-inc",
          " State-gov",
          " Without-pay"
         ],
         "name": "",
         "parents": [
          " ?",
          " Federal-gov",
          " Local-gov",
          " Never-worked",
          " Private",
          " Self-emp-inc",
          " Self-emp-not-inc",
          " State-gov",
          " ?",
          " Federal-gov",
          " Local-gov",
          " Never-worked",
          " Private",
          " Self-emp-inc",
          " Self-emp-not-inc",
          " State-gov",
          " ?",
          " Federal-gov",
          " Local-gov",
          " Private",
          " Self-emp-inc",
          " Self-emp-not-inc",
          " State-gov",
          " Without-pay",
          " ?",
          " Federal-gov",
          " Local-gov",
          " Never-worked",
          " Private",
          " Self-emp-inc",
          " Self-emp-not-inc",
          " State-gov",
          " ?",
          " Federal-gov",
          " Local-gov",
          " Private",
          " Self-emp-inc",
          " Self-emp-not-inc",
          " State-gov",
          " Without-pay",
          " ?",
          " Federal-gov",
          " Local-gov",
          " Private",
          " Self-emp-inc",
          " Self-emp-not-inc",
          " State-gov",
          " Without-pay",
          " ?",
          " Federal-gov",
          " Local-gov",
          " Never-worked",
          " Private",
          " Self-emp-inc",
          " Self-emp-not-inc",
          " State-gov",
          " ?",
          " Federal-gov",
          " Local-gov",
          " Private",
          " Self-emp-inc",
          " Self-emp-not-inc",
          " State-gov",
          " ?",
          " Federal-gov",
          " Local-gov",
          " Private",
          " Self-emp-inc",
          " Self-emp-not-inc",
          " State-gov",
          " ?",
          " Federal-gov",
          " Local-gov",
          " Private",
          " Self-emp-inc",
          " Self-emp-not-inc",
          " State-gov",
          " ?",
          " Federal-gov",
          " Local-gov",
          " Private",
          " Self-emp-inc",
          " Self-emp-not-inc",
          " State-gov",
          " ?",
          " Federal-gov",
          " Local-gov",
          " Private",
          " Self-emp-inc",
          " Self-emp-not-inc",
          " State-gov",
          " ?",
          " Federal-gov",
          " Local-gov",
          " Private",
          " Self-emp-inc",
          " Self-emp-not-inc",
          " State-gov",
          " Without-pay",
          " ?",
          " Federal-gov",
          " Local-gov",
          " Never-worked",
          " Private",
          " Self-emp-inc",
          " Self-emp-not-inc",
          " State-gov",
          " ?",
          " Federal-gov",
          " Local-gov",
          " Private",
          " Self-emp-inc",
          " Self-emp-not-inc",
          " State-gov",
          " ?",
          " Federal-gov",
          " Local-gov",
          " Private",
          " Self-emp-inc",
          " Self-emp-not-inc",
          " State-gov",
          " ?",
          " Federal-gov",
          " Local-gov",
          " Private",
          " Self-emp-inc",
          " Self-emp-not-inc",
          " State-gov",
          " ?",
          " Federal-gov",
          " Local-gov",
          " Private",
          " Self-emp-inc",
          " Self-emp-not-inc",
          " State-gov",
          " ?",
          " Federal-gov",
          " Local-gov",
          " Private",
          " Self-emp-inc",
          " Self-emp-not-inc",
          " State-gov",
          " ?",
          " Federal-gov",
          " Local-gov",
          " Private",
          " Self-emp-inc",
          " Self-emp-not-inc",
          " State-gov",
          " ?",
          " Federal-gov",
          " Local-gov",
          " Private",
          " Self-emp-inc",
          " Self-emp-not-inc",
          " State-gov",
          " ?",
          " Federal-gov",
          " Local-gov",
          " Private",
          " Self-emp-inc",
          " Self-emp-not-inc",
          " State-gov",
          " ?",
          " Federal-gov",
          " Local-gov",
          " Private",
          " Self-emp-inc",
          " Self-emp-not-inc",
          " State-gov",
          " ?",
          " Federal-gov",
          " Local-gov",
          " Private",
          " Self-emp-inc",
          " Self-emp-not-inc",
          " State-gov",
          " ?",
          " Federal-gov",
          " Local-gov",
          " Private",
          " Self-emp-inc",
          " Self-emp-not-inc",
          " State-gov",
          " ?",
          " Federal-gov",
          " Local-gov",
          " Private",
          " Self-emp-inc",
          " Self-emp-not-inc",
          " State-gov",
          " ?",
          " Federal-gov",
          " Local-gov",
          " Private",
          " Self-emp-inc",
          " Self-emp-not-inc",
          " State-gov",
          " ?",
          " Federal-gov",
          " Local-gov",
          " Private",
          " Self-emp-inc",
          " Self-emp-not-inc",
          " State-gov",
          " ?",
          " Federal-gov",
          " Local-gov",
          " Private",
          " Self-emp-inc",
          " Self-emp-not-inc",
          " State-gov",
          " ?",
          " Federal-gov",
          " Local-gov",
          " Private",
          " Self-emp-inc",
          " Self-emp-not-inc",
          " State-gov",
          " Without-pay",
          " ?",
          " Federal-gov",
          " Local-gov",
          " Private",
          " Self-emp-inc",
          " Self-emp-not-inc",
          " State-gov",
          " ?",
          " Federal-gov",
          " Local-gov",
          " Private",
          " Self-emp-inc",
          " Self-emp-not-inc",
          " State-gov",
          " ?",
          " Federal-gov",
          " Local-gov",
          " Private",
          " Self-emp-inc",
          " Self-emp-not-inc",
          " State-gov",
          " ?",
          " Federal-gov",
          " Local-gov",
          " Private",
          " Self-emp-inc",
          " Self-emp-not-inc",
          " State-gov",
          " ?",
          " Federal-gov",
          " Local-gov",
          " Private",
          " Self-emp-inc",
          " Self-emp-not-inc",
          " State-gov",
          " ?",
          " Federal-gov",
          " Local-gov",
          " Private",
          " Self-emp-inc",
          " Self-emp-not-inc",
          " State-gov",
          " Without-pay",
          " ?",
          " Federal-gov",
          " Local-gov",
          " Private",
          " Self-emp-inc",
          " Self-emp-not-inc",
          " State-gov",
          " ?",
          " Federal-gov",
          " Local-gov",
          " Private",
          " Self-emp-inc",
          " Self-emp-not-inc",
          " State-gov",
          " ?",
          " Federal-gov",
          " Local-gov",
          " Private",
          " Self-emp-inc",
          " Self-emp-not-inc",
          " State-gov",
          " ?",
          " Federal-gov",
          " Local-gov",
          " Private",
          " Self-emp-inc",
          " Self-emp-not-inc",
          " State-gov",
          " ?",
          " Federal-gov",
          " Local-gov",
          " Private",
          " Self-emp-inc",
          " Self-emp-not-inc",
          " State-gov",
          " ?",
          " Federal-gov",
          " Local-gov",
          " Private",
          " Self-emp-inc",
          " Self-emp-not-inc",
          " State-gov",
          " ?",
          " Federal-gov",
          " Local-gov",
          " Private",
          " Self-emp-inc",
          " Self-emp-not-inc",
          " State-gov",
          " ?",
          " Federal-gov",
          " Local-gov",
          " Private",
          " Self-emp-inc",
          " Self-emp-not-inc",
          " State-gov",
          " ?",
          " Federal-gov",
          " Local-gov",
          " Private",
          " Self-emp-inc",
          " Self-emp-not-inc",
          " State-gov",
          " ?",
          " Federal-gov",
          " Local-gov",
          " Private",
          " Self-emp-inc",
          " Self-emp-not-inc",
          " State-gov",
          " Without-pay",
          " ?",
          " Federal-gov",
          " Local-gov",
          " Private",
          " Self-emp-inc",
          " Self-emp-not-inc",
          " State-gov",
          " ?",
          " Federal-gov",
          " Local-gov",
          " Private",
          " Self-emp-inc",
          " Self-emp-not-inc",
          " State-gov",
          " ?",
          " Federal-gov",
          " Local-gov",
          " Private",
          " Self-emp-inc",
          " Self-emp-not-inc",
          " State-gov",
          " Without-pay",
          " ?",
          " Federal-gov",
          " Local-gov",
          " Private",
          " Self-emp-inc",
          " Self-emp-not-inc",
          " State-gov",
          " ?",
          " Federal-gov",
          " Local-gov",
          " Private",
          " Self-emp-inc",
          " Self-emp-not-inc",
          " State-gov",
          " Without-pay",
          " ?",
          " Federal-gov",
          " Local-gov",
          " Private",
          " Self-emp-inc",
          " Self-emp-not-inc",
          " State-gov",
          " Without-pay",
          " ?",
          " Federal-gov",
          " Local-gov",
          " Private",
          " Self-emp-inc",
          " Self-emp-not-inc",
          " State-gov",
          " ?",
          " Federal-gov",
          " Local-gov",
          " Private",
          " Self-emp-inc",
          " Self-emp-not-inc",
          " State-gov",
          " ?",
          " Federal-gov",
          " Local-gov",
          " Private",
          " Self-emp-inc",
          " Self-emp-not-inc",
          " State-gov",
          " ?",
          " Federal-gov",
          " Local-gov",
          " Private",
          " Self-emp-inc",
          " Self-emp-not-inc",
          " Without-pay",
          " ?",
          " Federal-gov",
          " Local-gov",
          " Private",
          " Self-emp-inc",
          " Self-emp-not-inc",
          " State-gov",
          " ?",
          " Federal-gov",
          " Private",
          " Self-emp-inc",
          " Self-emp-not-inc",
          " State-gov",
          " ?",
          " Local-gov",
          " Private",
          " Self-emp-inc",
          " Self-emp-not-inc",
          " State-gov",
          " ?",
          " Federal-gov",
          " Local-gov",
          " Private",
          " Self-emp-inc",
          " Self-emp-not-inc",
          " ?",
          " Local-gov",
          " Private",
          " Self-emp-inc",
          " Self-emp-not-inc",
          " ?",
          " Local-gov",
          " Private",
          " Self-emp-inc",
          " Self-emp-not-inc",
          " ?",
          " Federal-gov",
          " Local-gov",
          " Private",
          " Self-emp-inc",
          " Self-emp-not-inc",
          " ?",
          " Local-gov",
          " Private",
          " Self-emp-not-inc",
          " ?",
          " Private",
          " Self-emp-inc",
          " Self-emp-not-inc",
          " State-gov",
          " ?",
          " Private",
          " Self-emp-inc",
          " Self-emp-not-inc",
          " ?",
          " Private",
          " Self-emp-inc",
          " Self-emp-not-inc",
          " ?",
          " Local-gov",
          " Private",
          " Self-emp-inc",
          " Self-emp-not-inc",
          " Private",
          " Self-emp-not-inc",
          " Private",
          " ?",
          " Private",
          " Self-emp-not-inc",
          " ?",
          " Federal-gov",
          " Local-gov",
          " Private",
          " Self-emp-not-inc",
          "",
          "",
          "",
          "",
          "",
          "",
          "",
          "",
          ""
         ],
         "type": "treemap",
         "values": [
          64,
          1,
          14,
          1,
          300,
          7,
          6,
          2,
          92,
          3,
          10,
          3,
          413,
          6,
          14,
          9,
          113,
          5,
          11,
          540,
          3,
          17,
          21,
          2,
          115,
          9,
          12,
          1,
          581,
          3,
          11,
          21,
          89,
          3,
          9,
          577,
          1,
          10,
          30,
          1,
          79,
          11,
          20,
          605,
          5,
          13,
          31,
          1,
          46,
          13,
          35,
          1,
          733,
          6,
          13,
          30,
          34,
          14,
          33,
          655,
          6,
          21,
          35,
          32,
          8,
          44,
          693,
          12,
          26,
          26,
          22,
          15,
          42,
          636,
          10,
          33,
          27,
          33,
          16,
          48,
          658,
          13,
          37,
          30,
          41,
          15,
          52,
          667,
          15,
          51,
          26,
          28,
          25,
          46,
          617,
          14,
          52,
          30,
          1,
          28,
          19,
          54,
          1,
          662,
          20,
          48,
          29,
          19,
          22,
          56,
          684,
          17,
          52,
          38,
          25,
          24,
          46,
          621,
          24,
          52,
          36,
          26,
          26,
          56,
          645,
          15,
          72,
          35,
          26,
          17,
          58,
          649,
          28,
          69,
          39,
          32,
          23,
          39,
          649,
          23,
          80,
          30,
          23,
          24,
          63,
          652,
          21,
          74,
          41,
          9,
          33,
          57,
          612,
          33,
          83,
          31,
          17,
          28,
          52,
          598,
          25,
          72,
          35,
          12,
          32,
          58,
          582,
          36,
          62,
          34,
          17,
          29,
          55,
          561,
          34,
          63,
          35,
          18,
          27,
          80,
          535,
          37,
          70,
          41,
          15,
          31,
          76,
          500,
          30,
          89,
          39,
          13,
          36,
          65,
          496,
          36,
          72,
          52,
          10,
          31,
          63,
          480,
          39,
          70,
          31,
          11,
          32,
          68,
          481,
          40,
          68,
          34,
          11,
          41,
          69,
          492,
          36,
          50,
          37,
          1,
          14,
          38,
          62,
          451,
          33,
          78,
          32,
          16,
          20,
          32,
          360,
          35,
          56,
          24,
          18,
          21,
          59,
          350,
          40,
          58,
          31,
          14,
          24,
          56,
          374,
          41,
          67,
          26,
          17,
          28,
          58,
          369,
          33,
          68,
          22,
          14,
          27,
          39,
          307,
          28,
          43,
          19,
          1,
          12,
          26,
          49,
          292,
          22,
          38,
          25,
          16,
          14,
          34,
          256,
          24,
          52,
          19,
          22,
          17,
          34,
          257,
          17,
          53,
          19,
          13,
          15,
          25,
          229,
          19,
          52,
          13,
          16,
          20,
          27,
          200,
          31,
          49,
          15,
          20,
          13,
          27,
          213,
          25,
          50,
          18,
          20,
          16,
          29,
          218,
          16,
          43,
          13,
          31,
          10,
          20,
          175,
          14,
          46,
          16,
          36,
          11,
          19,
          172,
          17,
          37,
          8,
          42,
          6,
          24,
          134,
          10,
          30,
          10,
          2,
          39,
          7,
          11,
          118,
          13,
          38,
          4,
          31,
          11,
          19,
          93,
          13,
          27,
          14,
          39,
          3,
          12,
          88,
          11,
          19,
          4,
          2,
          37,
          2,
          13,
          65,
          11,
          17,
          5,
          39,
          3,
          10,
          51,
          13,
          29,
          5,
          1,
          28,
          2,
          5,
          60,
          4,
          17,
          3,
          1,
          28,
          1,
          7,
          45,
          5,
          15,
          7,
          24,
          1,
          3,
          35,
          11,
          14,
          1,
          18,
          2,
          4,
          32,
          4,
          9,
          3,
          25,
          3,
          2,
          27,
          2,
          7,
          1,
          15,
          1,
          5,
          25,
          3,
          13,
          2,
          12,
          2,
          18,
          4,
          12,
          3,
          11,
          1,
          13,
          4,
          15,
          1,
          16,
          1,
          4,
          17,
          1,
          7,
          9,
          2,
          10,
          3,
          5,
          9,
          1,
          6,
          4,
          3,
          7,
          1,
          2,
          6,
          3,
          3,
          6,
          1,
          8,
          7,
          6,
          8,
          1,
          4,
          1,
          5,
          3,
          2,
          2,
          1,
          1,
          3,
          1,
          2,
          2,
          4,
          1,
          1,
          2,
          1,
          1,
          1,
          1,
          2,
          7,
          1,
          4,
          28,
          3,
          1836,
          960,
          2093,
          7,
          22696,
          1116,
          2541,
          1298,
          14
         ]
        }
       ],
       "layout": {
        "legend": {
         "tracegroupgap": 0
        },
        "margin": {
         "t": 60
        },
        "template": {
         "data": {
          "bar": [
           {
            "error_x": {
             "color": "#2a3f5f"
            },
            "error_y": {
             "color": "#2a3f5f"
            },
            "marker": {
             "line": {
              "color": "#E5ECF6",
              "width": 0.5
             },
             "pattern": {
              "fillmode": "overlay",
              "size": 10,
              "solidity": 0.2
             }
            },
            "type": "bar"
           }
          ],
          "barpolar": [
           {
            "marker": {
             "line": {
              "color": "#E5ECF6",
              "width": 0.5
             },
             "pattern": {
              "fillmode": "overlay",
              "size": 10,
              "solidity": 0.2
             }
            },
            "type": "barpolar"
           }
          ],
          "carpet": [
           {
            "aaxis": {
             "endlinecolor": "#2a3f5f",
             "gridcolor": "white",
             "linecolor": "white",
             "minorgridcolor": "white",
             "startlinecolor": "#2a3f5f"
            },
            "baxis": {
             "endlinecolor": "#2a3f5f",
             "gridcolor": "white",
             "linecolor": "white",
             "minorgridcolor": "white",
             "startlinecolor": "#2a3f5f"
            },
            "type": "carpet"
           }
          ],
          "choropleth": [
           {
            "colorbar": {
             "outlinewidth": 0,
             "ticks": ""
            },
            "type": "choropleth"
           }
          ],
          "contour": [
           {
            "colorbar": {
             "outlinewidth": 0,
             "ticks": ""
            },
            "colorscale": [
             [
              0,
              "#0d0887"
             ],
             [
              0.1111111111111111,
              "#46039f"
             ],
             [
              0.2222222222222222,
              "#7201a8"
             ],
             [
              0.3333333333333333,
              "#9c179e"
             ],
             [
              0.4444444444444444,
              "#bd3786"
             ],
             [
              0.5555555555555556,
              "#d8576b"
             ],
             [
              0.6666666666666666,
              "#ed7953"
             ],
             [
              0.7777777777777778,
              "#fb9f3a"
             ],
             [
              0.8888888888888888,
              "#fdca26"
             ],
             [
              1,
              "#f0f921"
             ]
            ],
            "type": "contour"
           }
          ],
          "contourcarpet": [
           {
            "colorbar": {
             "outlinewidth": 0,
             "ticks": ""
            },
            "type": "contourcarpet"
           }
          ],
          "heatmap": [
           {
            "colorbar": {
             "outlinewidth": 0,
             "ticks": ""
            },
            "colorscale": [
             [
              0,
              "#0d0887"
             ],
             [
              0.1111111111111111,
              "#46039f"
             ],
             [
              0.2222222222222222,
              "#7201a8"
             ],
             [
              0.3333333333333333,
              "#9c179e"
             ],
             [
              0.4444444444444444,
              "#bd3786"
             ],
             [
              0.5555555555555556,
              "#d8576b"
             ],
             [
              0.6666666666666666,
              "#ed7953"
             ],
             [
              0.7777777777777778,
              "#fb9f3a"
             ],
             [
              0.8888888888888888,
              "#fdca26"
             ],
             [
              1,
              "#f0f921"
             ]
            ],
            "type": "heatmap"
           }
          ],
          "heatmapgl": [
           {
            "colorbar": {
             "outlinewidth": 0,
             "ticks": ""
            },
            "colorscale": [
             [
              0,
              "#0d0887"
             ],
             [
              0.1111111111111111,
              "#46039f"
             ],
             [
              0.2222222222222222,
              "#7201a8"
             ],
             [
              0.3333333333333333,
              "#9c179e"
             ],
             [
              0.4444444444444444,
              "#bd3786"
             ],
             [
              0.5555555555555556,
              "#d8576b"
             ],
             [
              0.6666666666666666,
              "#ed7953"
             ],
             [
              0.7777777777777778,
              "#fb9f3a"
             ],
             [
              0.8888888888888888,
              "#fdca26"
             ],
             [
              1,
              "#f0f921"
             ]
            ],
            "type": "heatmapgl"
           }
          ],
          "histogram": [
           {
            "marker": {
             "pattern": {
              "fillmode": "overlay",
              "size": 10,
              "solidity": 0.2
             }
            },
            "type": "histogram"
           }
          ],
          "histogram2d": [
           {
            "colorbar": {
             "outlinewidth": 0,
             "ticks": ""
            },
            "colorscale": [
             [
              0,
              "#0d0887"
             ],
             [
              0.1111111111111111,
              "#46039f"
             ],
             [
              0.2222222222222222,
              "#7201a8"
             ],
             [
              0.3333333333333333,
              "#9c179e"
             ],
             [
              0.4444444444444444,
              "#bd3786"
             ],
             [
              0.5555555555555556,
              "#d8576b"
             ],
             [
              0.6666666666666666,
              "#ed7953"
             ],
             [
              0.7777777777777778,
              "#fb9f3a"
             ],
             [
              0.8888888888888888,
              "#fdca26"
             ],
             [
              1,
              "#f0f921"
             ]
            ],
            "type": "histogram2d"
           }
          ],
          "histogram2dcontour": [
           {
            "colorbar": {
             "outlinewidth": 0,
             "ticks": ""
            },
            "colorscale": [
             [
              0,
              "#0d0887"
             ],
             [
              0.1111111111111111,
              "#46039f"
             ],
             [
              0.2222222222222222,
              "#7201a8"
             ],
             [
              0.3333333333333333,
              "#9c179e"
             ],
             [
              0.4444444444444444,
              "#bd3786"
             ],
             [
              0.5555555555555556,
              "#d8576b"
             ],
             [
              0.6666666666666666,
              "#ed7953"
             ],
             [
              0.7777777777777778,
              "#fb9f3a"
             ],
             [
              0.8888888888888888,
              "#fdca26"
             ],
             [
              1,
              "#f0f921"
             ]
            ],
            "type": "histogram2dcontour"
           }
          ],
          "mesh3d": [
           {
            "colorbar": {
             "outlinewidth": 0,
             "ticks": ""
            },
            "type": "mesh3d"
           }
          ],
          "parcoords": [
           {
            "line": {
             "colorbar": {
              "outlinewidth": 0,
              "ticks": ""
             }
            },
            "type": "parcoords"
           }
          ],
          "pie": [
           {
            "automargin": true,
            "type": "pie"
           }
          ],
          "scatter": [
           {
            "marker": {
             "colorbar": {
              "outlinewidth": 0,
              "ticks": ""
             }
            },
            "type": "scatter"
           }
          ],
          "scatter3d": [
           {
            "line": {
             "colorbar": {
              "outlinewidth": 0,
              "ticks": ""
             }
            },
            "marker": {
             "colorbar": {
              "outlinewidth": 0,
              "ticks": ""
             }
            },
            "type": "scatter3d"
           }
          ],
          "scattercarpet": [
           {
            "marker": {
             "colorbar": {
              "outlinewidth": 0,
              "ticks": ""
             }
            },
            "type": "scattercarpet"
           }
          ],
          "scattergeo": [
           {
            "marker": {
             "colorbar": {
              "outlinewidth": 0,
              "ticks": ""
             }
            },
            "type": "scattergeo"
           }
          ],
          "scattergl": [
           {
            "marker": {
             "colorbar": {
              "outlinewidth": 0,
              "ticks": ""
             }
            },
            "type": "scattergl"
           }
          ],
          "scattermapbox": [
           {
            "marker": {
             "colorbar": {
              "outlinewidth": 0,
              "ticks": ""
             }
            },
            "type": "scattermapbox"
           }
          ],
          "scatterpolar": [
           {
            "marker": {
             "colorbar": {
              "outlinewidth": 0,
              "ticks": ""
             }
            },
            "type": "scatterpolar"
           }
          ],
          "scatterpolargl": [
           {
            "marker": {
             "colorbar": {
              "outlinewidth": 0,
              "ticks": ""
             }
            },
            "type": "scatterpolargl"
           }
          ],
          "scatterternary": [
           {
            "marker": {
             "colorbar": {
              "outlinewidth": 0,
              "ticks": ""
             }
            },
            "type": "scatterternary"
           }
          ],
          "surface": [
           {
            "colorbar": {
             "outlinewidth": 0,
             "ticks": ""
            },
            "colorscale": [
             [
              0,
              "#0d0887"
             ],
             [
              0.1111111111111111,
              "#46039f"
             ],
             [
              0.2222222222222222,
              "#7201a8"
             ],
             [
              0.3333333333333333,
              "#9c179e"
             ],
             [
              0.4444444444444444,
              "#bd3786"
             ],
             [
              0.5555555555555556,
              "#d8576b"
             ],
             [
              0.6666666666666666,
              "#ed7953"
             ],
             [
              0.7777777777777778,
              "#fb9f3a"
             ],
             [
              0.8888888888888888,
              "#fdca26"
             ],
             [
              1,
              "#f0f921"
             ]
            ],
            "type": "surface"
           }
          ],
          "table": [
           {
            "cells": {
             "fill": {
              "color": "#EBF0F8"
             },
             "line": {
              "color": "white"
             }
            },
            "header": {
             "fill": {
              "color": "#C8D4E3"
             },
             "line": {
              "color": "white"
             }
            },
            "type": "table"
           }
          ]
         },
         "layout": {
          "annotationdefaults": {
           "arrowcolor": "#2a3f5f",
           "arrowhead": 0,
           "arrowwidth": 1
          },
          "autotypenumbers": "strict",
          "coloraxis": {
           "colorbar": {
            "outlinewidth": 0,
            "ticks": ""
           }
          },
          "colorscale": {
           "diverging": [
            [
             0,
             "#8e0152"
            ],
            [
             0.1,
             "#c51b7d"
            ],
            [
             0.2,
             "#de77ae"
            ],
            [
             0.3,
             "#f1b6da"
            ],
            [
             0.4,
             "#fde0ef"
            ],
            [
             0.5,
             "#f7f7f7"
            ],
            [
             0.6,
             "#e6f5d0"
            ],
            [
             0.7,
             "#b8e186"
            ],
            [
             0.8,
             "#7fbc41"
            ],
            [
             0.9,
             "#4d9221"
            ],
            [
             1,
             "#276419"
            ]
           ],
           "sequential": [
            [
             0,
             "#0d0887"
            ],
            [
             0.1111111111111111,
             "#46039f"
            ],
            [
             0.2222222222222222,
             "#7201a8"
            ],
            [
             0.3333333333333333,
             "#9c179e"
            ],
            [
             0.4444444444444444,
             "#bd3786"
            ],
            [
             0.5555555555555556,
             "#d8576b"
            ],
            [
             0.6666666666666666,
             "#ed7953"
            ],
            [
             0.7777777777777778,
             "#fb9f3a"
            ],
            [
             0.8888888888888888,
             "#fdca26"
            ],
            [
             1,
             "#f0f921"
            ]
           ],
           "sequentialminus": [
            [
             0,
             "#0d0887"
            ],
            [
             0.1111111111111111,
             "#46039f"
            ],
            [
             0.2222222222222222,
             "#7201a8"
            ],
            [
             0.3333333333333333,
             "#9c179e"
            ],
            [
             0.4444444444444444,
             "#bd3786"
            ],
            [
             0.5555555555555556,
             "#d8576b"
            ],
            [
             0.6666666666666666,
             "#ed7953"
            ],
            [
             0.7777777777777778,
             "#fb9f3a"
            ],
            [
             0.8888888888888888,
             "#fdca26"
            ],
            [
             1,
             "#f0f921"
            ]
           ]
          },
          "colorway": [
           "#636efa",
           "#EF553B",
           "#00cc96",
           "#ab63fa",
           "#FFA15A",
           "#19d3f3",
           "#FF6692",
           "#B6E880",
           "#FF97FF",
           "#FECB52"
          ],
          "font": {
           "color": "#2a3f5f"
          },
          "geo": {
           "bgcolor": "white",
           "lakecolor": "white",
           "landcolor": "#E5ECF6",
           "showlakes": true,
           "showland": true,
           "subunitcolor": "white"
          },
          "hoverlabel": {
           "align": "left"
          },
          "hovermode": "closest",
          "mapbox": {
           "style": "light"
          },
          "paper_bgcolor": "white",
          "plot_bgcolor": "#E5ECF6",
          "polar": {
           "angularaxis": {
            "gridcolor": "white",
            "linecolor": "white",
            "ticks": ""
           },
           "bgcolor": "#E5ECF6",
           "radialaxis": {
            "gridcolor": "white",
            "linecolor": "white",
            "ticks": ""
           }
          },
          "scene": {
           "xaxis": {
            "backgroundcolor": "#E5ECF6",
            "gridcolor": "white",
            "gridwidth": 2,
            "linecolor": "white",
            "showbackground": true,
            "ticks": "",
            "zerolinecolor": "white"
           },
           "yaxis": {
            "backgroundcolor": "#E5ECF6",
            "gridcolor": "white",
            "gridwidth": 2,
            "linecolor": "white",
            "showbackground": true,
            "ticks": "",
            "zerolinecolor": "white"
           },
           "zaxis": {
            "backgroundcolor": "#E5ECF6",
            "gridcolor": "white",
            "gridwidth": 2,
            "linecolor": "white",
            "showbackground": true,
            "ticks": "",
            "zerolinecolor": "white"
           }
          },
          "shapedefaults": {
           "line": {
            "color": "#2a3f5f"
           }
          },
          "ternary": {
           "aaxis": {
            "gridcolor": "white",
            "linecolor": "white",
            "ticks": ""
           },
           "baxis": {
            "gridcolor": "white",
            "linecolor": "white",
            "ticks": ""
           },
           "bgcolor": "#E5ECF6",
           "caxis": {
            "gridcolor": "white",
            "linecolor": "white",
            "ticks": ""
           }
          },
          "title": {
           "x": 0.05
          },
          "xaxis": {
           "automargin": true,
           "gridcolor": "white",
           "linecolor": "white",
           "ticks": "",
           "title": {
            "standoff": 15
           },
           "zerolinecolor": "white",
           "zerolinewidth": 2
          },
          "yaxis": {
           "automargin": true,
           "gridcolor": "white",
           "linecolor": "white",
           "ticks": "",
           "title": {
            "standoff": 15
           },
           "zerolinecolor": "white",
           "zerolinewidth": 2
          }
         }
        },
        "treemapcolorway": [
         "#4C78A8",
         "#F58518",
         "#E45756",
         "#72B7B2",
         "#54A24B",
         "#EECA3B",
         "#B279A2",
         "#FF9DA6",
         "#9D755D",
         "#BAB0AC"
        ]
       }
      },
      "text/html": [
       "<div>                            <div id=\"43ad4476-7971-4edb-931e-84e044db8edd\" class=\"plotly-graph-div\" style=\"height:525px; width:100%;\"></div>            <script type=\"text/javascript\">                require([\"plotly\"], function(Plotly) {                    window.PLOTLYENV=window.PLOTLYENV || {};                                    if (document.getElementById(\"43ad4476-7971-4edb-931e-84e044db8edd\")) {                    Plotly.newPlot(                        \"43ad4476-7971-4edb-931e-84e044db8edd\",                        [{\"branchvalues\":\"total\",\"domain\":{\"x\":[0.0,1.0],\"y\":[0.0,1.0]},\"hovertemplate\":\"labels=%{label}<br>count=%{value}<br>parent=%{parent}<br>id=%{id}<extra></extra>\",\"ids\":[\" ?/17\",\" Federal-gov/17\",\" Local-gov/17\",\" Never-worked/17\",\" Private/17\",\" Self-emp-inc/17\",\" Self-emp-not-inc/17\",\" State-gov/17\",\" ?/18\",\" Federal-gov/18\",\" Local-gov/18\",\" Never-worked/18\",\" Private/18\",\" Self-emp-inc/18\",\" Self-emp-not-inc/18\",\" State-gov/18\",\" ?/19\",\" Federal-gov/19\",\" Local-gov/19\",\" Private/19\",\" Self-emp-inc/19\",\" Self-emp-not-inc/19\",\" State-gov/19\",\" Without-pay/19\",\" ?/20\",\" Federal-gov/20\",\" Local-gov/20\",\" Never-worked/20\",\" Private/20\",\" Self-emp-inc/20\",\" Self-emp-not-inc/20\",\" State-gov/20\",\" ?/21\",\" Federal-gov/21\",\" Local-gov/21\",\" Private/21\",\" Self-emp-inc/21\",\" Self-emp-not-inc/21\",\" State-gov/21\",\" Without-pay/21\",\" ?/22\",\" Federal-gov/22\",\" Local-gov/22\",\" Private/22\",\" Self-emp-inc/22\",\" Self-emp-not-inc/22\",\" State-gov/22\",\" Without-pay/22\",\" ?/23\",\" Federal-gov/23\",\" Local-gov/23\",\" Never-worked/23\",\" Private/23\",\" Self-emp-inc/23\",\" Self-emp-not-inc/23\",\" State-gov/23\",\" ?/24\",\" Federal-gov/24\",\" Local-gov/24\",\" Private/24\",\" Self-emp-inc/24\",\" Self-emp-not-inc/24\",\" State-gov/24\",\" ?/25\",\" Federal-gov/25\",\" Local-gov/25\",\" Private/25\",\" Self-emp-inc/25\",\" Self-emp-not-inc/25\",\" State-gov/25\",\" ?/26\",\" Federal-gov/26\",\" Local-gov/26\",\" Private/26\",\" Self-emp-inc/26\",\" Self-emp-not-inc/26\",\" State-gov/26\",\" ?/27\",\" Federal-gov/27\",\" Local-gov/27\",\" Private/27\",\" Self-emp-inc/27\",\" Self-emp-not-inc/27\",\" State-gov/27\",\" ?/28\",\" Federal-gov/28\",\" Local-gov/28\",\" Private/28\",\" Self-emp-inc/28\",\" Self-emp-not-inc/28\",\" State-gov/28\",\" ?/29\",\" Federal-gov/29\",\" Local-gov/29\",\" Private/29\",\" Self-emp-inc/29\",\" Self-emp-not-inc/29\",\" State-gov/29\",\" Without-pay/29\",\" ?/30\",\" Federal-gov/30\",\" Local-gov/30\",\" Never-worked/30\",\" Private/30\",\" Self-emp-inc/30\",\" Self-emp-not-inc/30\",\" State-gov/30\",\" ?/31\",\" Federal-gov/31\",\" Local-gov/31\",\" Private/31\",\" Self-emp-inc/31\",\" Self-emp-not-inc/31\",\" State-gov/31\",\" ?/32\",\" Federal-gov/32\",\" Local-gov/32\",\" Private/32\",\" Self-emp-inc/32\",\" Self-emp-not-inc/32\",\" State-gov/32\",\" ?/33\",\" Federal-gov/33\",\" Local-gov/33\",\" Private/33\",\" Self-emp-inc/33\",\" Self-emp-not-inc/33\",\" State-gov/33\",\" ?/34\",\" Federal-gov/34\",\" Local-gov/34\",\" Private/34\",\" Self-emp-inc/34\",\" Self-emp-not-inc/34\",\" State-gov/34\",\" ?/35\",\" Federal-gov/35\",\" Local-gov/35\",\" Private/35\",\" Self-emp-inc/35\",\" Self-emp-not-inc/35\",\" State-gov/35\",\" ?/36\",\" Federal-gov/36\",\" Local-gov/36\",\" Private/36\",\" Self-emp-inc/36\",\" Self-emp-not-inc/36\",\" State-gov/36\",\" ?/37\",\" Federal-gov/37\",\" Local-gov/37\",\" Private/37\",\" Self-emp-inc/37\",\" Self-emp-not-inc/37\",\" State-gov/37\",\" ?/38\",\" Federal-gov/38\",\" Local-gov/38\",\" Private/38\",\" Self-emp-inc/38\",\" Self-emp-not-inc/38\",\" State-gov/38\",\" ?/39\",\" Federal-gov/39\",\" Local-gov/39\",\" Private/39\",\" Self-emp-inc/39\",\" Self-emp-not-inc/39\",\" State-gov/39\",\" ?/40\",\" Federal-gov/40\",\" Local-gov/40\",\" Private/40\",\" Self-emp-inc/40\",\" Self-emp-not-inc/40\",\" State-gov/40\",\" ?/41\",\" Federal-gov/41\",\" Local-gov/41\",\" Private/41\",\" Self-emp-inc/41\",\" Self-emp-not-inc/41\",\" State-gov/41\",\" ?/42\",\" Federal-gov/42\",\" Local-gov/42\",\" Private/42\",\" Self-emp-inc/42\",\" Self-emp-not-inc/42\",\" State-gov/42\",\" ?/43\",\" Federal-gov/43\",\" Local-gov/43\",\" Private/43\",\" Self-emp-inc/43\",\" Self-emp-not-inc/43\",\" State-gov/43\",\" ?/44\",\" Federal-gov/44\",\" Local-gov/44\",\" Private/44\",\" Self-emp-inc/44\",\" Self-emp-not-inc/44\",\" State-gov/44\",\" ?/45\",\" Federal-gov/45\",\" Local-gov/45\",\" Private/45\",\" Self-emp-inc/45\",\" Self-emp-not-inc/45\",\" State-gov/45\",\" ?/46\",\" Federal-gov/46\",\" Local-gov/46\",\" Private/46\",\" Self-emp-inc/46\",\" Self-emp-not-inc/46\",\" State-gov/46\",\" Without-pay/46\",\" ?/47\",\" Federal-gov/47\",\" Local-gov/47\",\" Private/47\",\" Self-emp-inc/47\",\" Self-emp-not-inc/47\",\" State-gov/47\",\" ?/48\",\" Federal-gov/48\",\" Local-gov/48\",\" Private/48\",\" Self-emp-inc/48\",\" Self-emp-not-inc/48\",\" State-gov/48\",\" ?/49\",\" Federal-gov/49\",\" Local-gov/49\",\" Private/49\",\" Self-emp-inc/49\",\" Self-emp-not-inc/49\",\" State-gov/49\",\" ?/50\",\" Federal-gov/50\",\" Local-gov/50\",\" Private/50\",\" Self-emp-inc/50\",\" Self-emp-not-inc/50\",\" State-gov/50\",\" ?/51\",\" Federal-gov/51\",\" Local-gov/51\",\" Private/51\",\" Self-emp-inc/51\",\" Self-emp-not-inc/51\",\" State-gov/51\",\" ?/52\",\" Federal-gov/52\",\" Local-gov/52\",\" Private/52\",\" Self-emp-inc/52\",\" Self-emp-not-inc/52\",\" State-gov/52\",\" Without-pay/52\",\" ?/53\",\" Federal-gov/53\",\" Local-gov/53\",\" Private/53\",\" Self-emp-inc/53\",\" Self-emp-not-inc/53\",\" State-gov/53\",\" ?/54\",\" Federal-gov/54\",\" Local-gov/54\",\" Private/54\",\" Self-emp-inc/54\",\" Self-emp-not-inc/54\",\" State-gov/54\",\" ?/55\",\" Federal-gov/55\",\" Local-gov/55\",\" Private/55\",\" Self-emp-inc/55\",\" Self-emp-not-inc/55\",\" State-gov/55\",\" ?/56\",\" Federal-gov/56\",\" Local-gov/56\",\" Private/56\",\" Self-emp-inc/56\",\" Self-emp-not-inc/56\",\" State-gov/56\",\" ?/57\",\" Federal-gov/57\",\" Local-gov/57\",\" Private/57\",\" Self-emp-inc/57\",\" Self-emp-not-inc/57\",\" State-gov/57\",\" ?/58\",\" Federal-gov/58\",\" Local-gov/58\",\" Private/58\",\" Self-emp-inc/58\",\" Self-emp-not-inc/58\",\" State-gov/58\",\" ?/59\",\" Federal-gov/59\",\" Local-gov/59\",\" Private/59\",\" Self-emp-inc/59\",\" Self-emp-not-inc/59\",\" State-gov/59\",\" ?/60\",\" Federal-gov/60\",\" Local-gov/60\",\" Private/60\",\" Self-emp-inc/60\",\" Self-emp-not-inc/60\",\" State-gov/60\",\" ?/61\",\" Federal-gov/61\",\" Local-gov/61\",\" Private/61\",\" Self-emp-inc/61\",\" Self-emp-not-inc/61\",\" State-gov/61\",\" ?/62\",\" Federal-gov/62\",\" Local-gov/62\",\" Private/62\",\" Self-emp-inc/62\",\" Self-emp-not-inc/62\",\" State-gov/62\",\" Without-pay/62\",\" ?/63\",\" Federal-gov/63\",\" Local-gov/63\",\" Private/63\",\" Self-emp-inc/63\",\" Self-emp-not-inc/63\",\" State-gov/63\",\" ?/64\",\" Federal-gov/64\",\" Local-gov/64\",\" Private/64\",\" Self-emp-inc/64\",\" Self-emp-not-inc/64\",\" State-gov/64\",\" ?/65\",\" Federal-gov/65\",\" Local-gov/65\",\" Private/65\",\" Self-emp-inc/65\",\" Self-emp-not-inc/65\",\" State-gov/65\",\" Without-pay/65\",\" ?/66\",\" Federal-gov/66\",\" Local-gov/66\",\" Private/66\",\" Self-emp-inc/66\",\" Self-emp-not-inc/66\",\" State-gov/66\",\" ?/67\",\" Federal-gov/67\",\" Local-gov/67\",\" Private/67\",\" Self-emp-inc/67\",\" Self-emp-not-inc/67\",\" State-gov/67\",\" Without-pay/67\",\" ?/68\",\" Federal-gov/68\",\" Local-gov/68\",\" Private/68\",\" Self-emp-inc/68\",\" Self-emp-not-inc/68\",\" State-gov/68\",\" Without-pay/68\",\" ?/69\",\" Federal-gov/69\",\" Local-gov/69\",\" Private/69\",\" Self-emp-inc/69\",\" Self-emp-not-inc/69\",\" State-gov/69\",\" ?/70\",\" Federal-gov/70\",\" Local-gov/70\",\" Private/70\",\" Self-emp-inc/70\",\" Self-emp-not-inc/70\",\" State-gov/70\",\" ?/71\",\" Federal-gov/71\",\" Local-gov/71\",\" Private/71\",\" Self-emp-inc/71\",\" Self-emp-not-inc/71\",\" State-gov/71\",\" ?/72\",\" Federal-gov/72\",\" Local-gov/72\",\" Private/72\",\" Self-emp-inc/72\",\" Self-emp-not-inc/72\",\" Without-pay/72\",\" ?/73\",\" Federal-gov/73\",\" Local-gov/73\",\" Private/73\",\" Self-emp-inc/73\",\" Self-emp-not-inc/73\",\" State-gov/73\",\" ?/74\",\" Federal-gov/74\",\" Private/74\",\" Self-emp-inc/74\",\" Self-emp-not-inc/74\",\" State-gov/74\",\" ?/75\",\" Local-gov/75\",\" Private/75\",\" Self-emp-inc/75\",\" Self-emp-not-inc/75\",\" State-gov/75\",\" ?/76\",\" Federal-gov/76\",\" Local-gov/76\",\" Private/76\",\" Self-emp-inc/76\",\" Self-emp-not-inc/76\",\" ?/77\",\" Local-gov/77\",\" Private/77\",\" Self-emp-inc/77\",\" Self-emp-not-inc/77\",\" ?/78\",\" Local-gov/78\",\" Private/78\",\" Self-emp-inc/78\",\" Self-emp-not-inc/78\",\" ?/79\",\" Federal-gov/79\",\" Local-gov/79\",\" Private/79\",\" Self-emp-inc/79\",\" Self-emp-not-inc/79\",\" ?/80\",\" Local-gov/80\",\" Private/80\",\" Self-emp-not-inc/80\",\" ?/81\",\" Private/81\",\" Self-emp-inc/81\",\" Self-emp-not-inc/81\",\" State-gov/81\",\" ?/82\",\" Private/82\",\" Self-emp-inc/82\",\" Self-emp-not-inc/82\",\" ?/83\",\" Private/83\",\" Self-emp-inc/83\",\" Self-emp-not-inc/83\",\" ?/84\",\" Local-gov/84\",\" Private/84\",\" Self-emp-inc/84\",\" Self-emp-not-inc/84\",\" Private/85\",\" Self-emp-not-inc/85\",\" Private/86\",\" ?/87\",\" Private/88\",\" Self-emp-not-inc/88\",\" ?/90\",\" Federal-gov/90\",\" Local-gov/90\",\" Private/90\",\" Self-emp-not-inc/90\",\" ?\",\" Federal-gov\",\" Local-gov\",\" Never-worked\",\" Private\",\" Self-emp-inc\",\" Self-emp-not-inc\",\" State-gov\",\" Without-pay\"],\"labels\":[\"17\",\"17\",\"17\",\"17\",\"17\",\"17\",\"17\",\"17\",\"18\",\"18\",\"18\",\"18\",\"18\",\"18\",\"18\",\"18\",\"19\",\"19\",\"19\",\"19\",\"19\",\"19\",\"19\",\"19\",\"20\",\"20\",\"20\",\"20\",\"20\",\"20\",\"20\",\"20\",\"21\",\"21\",\"21\",\"21\",\"21\",\"21\",\"21\",\"21\",\"22\",\"22\",\"22\",\"22\",\"22\",\"22\",\"22\",\"22\",\"23\",\"23\",\"23\",\"23\",\"23\",\"23\",\"23\",\"23\",\"24\",\"24\",\"24\",\"24\",\"24\",\"24\",\"24\",\"25\",\"25\",\"25\",\"25\",\"25\",\"25\",\"25\",\"26\",\"26\",\"26\",\"26\",\"26\",\"26\",\"26\",\"27\",\"27\",\"27\",\"27\",\"27\",\"27\",\"27\",\"28\",\"28\",\"28\",\"28\",\"28\",\"28\",\"28\",\"29\",\"29\",\"29\",\"29\",\"29\",\"29\",\"29\",\"29\",\"30\",\"30\",\"30\",\"30\",\"30\",\"30\",\"30\",\"30\",\"31\",\"31\",\"31\",\"31\",\"31\",\"31\",\"31\",\"32\",\"32\",\"32\",\"32\",\"32\",\"32\",\"32\",\"33\",\"33\",\"33\",\"33\",\"33\",\"33\",\"33\",\"34\",\"34\",\"34\",\"34\",\"34\",\"34\",\"34\",\"35\",\"35\",\"35\",\"35\",\"35\",\"35\",\"35\",\"36\",\"36\",\"36\",\"36\",\"36\",\"36\",\"36\",\"37\",\"37\",\"37\",\"37\",\"37\",\"37\",\"37\",\"38\",\"38\",\"38\",\"38\",\"38\",\"38\",\"38\",\"39\",\"39\",\"39\",\"39\",\"39\",\"39\",\"39\",\"40\",\"40\",\"40\",\"40\",\"40\",\"40\",\"40\",\"41\",\"41\",\"41\",\"41\",\"41\",\"41\",\"41\",\"42\",\"42\",\"42\",\"42\",\"42\",\"42\",\"42\",\"43\",\"43\",\"43\",\"43\",\"43\",\"43\",\"43\",\"44\",\"44\",\"44\",\"44\",\"44\",\"44\",\"44\",\"45\",\"45\",\"45\",\"45\",\"45\",\"45\",\"45\",\"46\",\"46\",\"46\",\"46\",\"46\",\"46\",\"46\",\"46\",\"47\",\"47\",\"47\",\"47\",\"47\",\"47\",\"47\",\"48\",\"48\",\"48\",\"48\",\"48\",\"48\",\"48\",\"49\",\"49\",\"49\",\"49\",\"49\",\"49\",\"49\",\"50\",\"50\",\"50\",\"50\",\"50\",\"50\",\"50\",\"51\",\"51\",\"51\",\"51\",\"51\",\"51\",\"51\",\"52\",\"52\",\"52\",\"52\",\"52\",\"52\",\"52\",\"52\",\"53\",\"53\",\"53\",\"53\",\"53\",\"53\",\"53\",\"54\",\"54\",\"54\",\"54\",\"54\",\"54\",\"54\",\"55\",\"55\",\"55\",\"55\",\"55\",\"55\",\"55\",\"56\",\"56\",\"56\",\"56\",\"56\",\"56\",\"56\",\"57\",\"57\",\"57\",\"57\",\"57\",\"57\",\"57\",\"58\",\"58\",\"58\",\"58\",\"58\",\"58\",\"58\",\"59\",\"59\",\"59\",\"59\",\"59\",\"59\",\"59\",\"60\",\"60\",\"60\",\"60\",\"60\",\"60\",\"60\",\"61\",\"61\",\"61\",\"61\",\"61\",\"61\",\"61\",\"62\",\"62\",\"62\",\"62\",\"62\",\"62\",\"62\",\"62\",\"63\",\"63\",\"63\",\"63\",\"63\",\"63\",\"63\",\"64\",\"64\",\"64\",\"64\",\"64\",\"64\",\"64\",\"65\",\"65\",\"65\",\"65\",\"65\",\"65\",\"65\",\"65\",\"66\",\"66\",\"66\",\"66\",\"66\",\"66\",\"66\",\"67\",\"67\",\"67\",\"67\",\"67\",\"67\",\"67\",\"67\",\"68\",\"68\",\"68\",\"68\",\"68\",\"68\",\"68\",\"68\",\"69\",\"69\",\"69\",\"69\",\"69\",\"69\",\"69\",\"70\",\"70\",\"70\",\"70\",\"70\",\"70\",\"70\",\"71\",\"71\",\"71\",\"71\",\"71\",\"71\",\"71\",\"72\",\"72\",\"72\",\"72\",\"72\",\"72\",\"72\",\"73\",\"73\",\"73\",\"73\",\"73\",\"73\",\"73\",\"74\",\"74\",\"74\",\"74\",\"74\",\"74\",\"75\",\"75\",\"75\",\"75\",\"75\",\"75\",\"76\",\"76\",\"76\",\"76\",\"76\",\"76\",\"77\",\"77\",\"77\",\"77\",\"77\",\"78\",\"78\",\"78\",\"78\",\"78\",\"79\",\"79\",\"79\",\"79\",\"79\",\"79\",\"80\",\"80\",\"80\",\"80\",\"81\",\"81\",\"81\",\"81\",\"81\",\"82\",\"82\",\"82\",\"82\",\"83\",\"83\",\"83\",\"83\",\"84\",\"84\",\"84\",\"84\",\"84\",\"85\",\"85\",\"86\",\"87\",\"88\",\"88\",\"90\",\"90\",\"90\",\"90\",\"90\",\" ?\",\" Federal-gov\",\" Local-gov\",\" Never-worked\",\" Private\",\" Self-emp-inc\",\" Self-emp-not-inc\",\" State-gov\",\" Without-pay\"],\"name\":\"\",\"parents\":[\" ?\",\" Federal-gov\",\" Local-gov\",\" Never-worked\",\" Private\",\" Self-emp-inc\",\" Self-emp-not-inc\",\" State-gov\",\" ?\",\" Federal-gov\",\" Local-gov\",\" Never-worked\",\" Private\",\" Self-emp-inc\",\" Self-emp-not-inc\",\" State-gov\",\" ?\",\" Federal-gov\",\" Local-gov\",\" Private\",\" Self-emp-inc\",\" Self-emp-not-inc\",\" State-gov\",\" Without-pay\",\" ?\",\" Federal-gov\",\" Local-gov\",\" Never-worked\",\" Private\",\" Self-emp-inc\",\" Self-emp-not-inc\",\" State-gov\",\" ?\",\" Federal-gov\",\" Local-gov\",\" Private\",\" Self-emp-inc\",\" Self-emp-not-inc\",\" State-gov\",\" Without-pay\",\" ?\",\" Federal-gov\",\" Local-gov\",\" Private\",\" Self-emp-inc\",\" Self-emp-not-inc\",\" State-gov\",\" Without-pay\",\" ?\",\" Federal-gov\",\" Local-gov\",\" Never-worked\",\" Private\",\" Self-emp-inc\",\" Self-emp-not-inc\",\" State-gov\",\" ?\",\" Federal-gov\",\" Local-gov\",\" Private\",\" Self-emp-inc\",\" Self-emp-not-inc\",\" State-gov\",\" ?\",\" Federal-gov\",\" Local-gov\",\" Private\",\" Self-emp-inc\",\" Self-emp-not-inc\",\" State-gov\",\" ?\",\" Federal-gov\",\" Local-gov\",\" Private\",\" Self-emp-inc\",\" Self-emp-not-inc\",\" State-gov\",\" ?\",\" Federal-gov\",\" Local-gov\",\" Private\",\" Self-emp-inc\",\" Self-emp-not-inc\",\" State-gov\",\" ?\",\" Federal-gov\",\" Local-gov\",\" Private\",\" Self-emp-inc\",\" Self-emp-not-inc\",\" State-gov\",\" ?\",\" Federal-gov\",\" Local-gov\",\" Private\",\" Self-emp-inc\",\" Self-emp-not-inc\",\" State-gov\",\" Without-pay\",\" ?\",\" Federal-gov\",\" Local-gov\",\" Never-worked\",\" Private\",\" Self-emp-inc\",\" Self-emp-not-inc\",\" State-gov\",\" ?\",\" Federal-gov\",\" Local-gov\",\" Private\",\" Self-emp-inc\",\" Self-emp-not-inc\",\" State-gov\",\" ?\",\" Federal-gov\",\" Local-gov\",\" Private\",\" Self-emp-inc\",\" Self-emp-not-inc\",\" State-gov\",\" ?\",\" Federal-gov\",\" Local-gov\",\" Private\",\" Self-emp-inc\",\" Self-emp-not-inc\",\" State-gov\",\" ?\",\" Federal-gov\",\" Local-gov\",\" Private\",\" Self-emp-inc\",\" Self-emp-not-inc\",\" State-gov\",\" ?\",\" Federal-gov\",\" Local-gov\",\" Private\",\" Self-emp-inc\",\" Self-emp-not-inc\",\" State-gov\",\" ?\",\" Federal-gov\",\" Local-gov\",\" Private\",\" Self-emp-inc\",\" Self-emp-not-inc\",\" State-gov\",\" ?\",\" Federal-gov\",\" Local-gov\",\" Private\",\" Self-emp-inc\",\" Self-emp-not-inc\",\" State-gov\",\" ?\",\" Federal-gov\",\" Local-gov\",\" Private\",\" Self-emp-inc\",\" Self-emp-not-inc\",\" State-gov\",\" ?\",\" Federal-gov\",\" Local-gov\",\" Private\",\" Self-emp-inc\",\" Self-emp-not-inc\",\" State-gov\",\" ?\",\" Federal-gov\",\" Local-gov\",\" Private\",\" Self-emp-inc\",\" Self-emp-not-inc\",\" State-gov\",\" ?\",\" Federal-gov\",\" Local-gov\",\" Private\",\" Self-emp-inc\",\" Self-emp-not-inc\",\" State-gov\",\" ?\",\" Federal-gov\",\" Local-gov\",\" Private\",\" Self-emp-inc\",\" Self-emp-not-inc\",\" State-gov\",\" ?\",\" Federal-gov\",\" Local-gov\",\" Private\",\" Self-emp-inc\",\" Self-emp-not-inc\",\" State-gov\",\" ?\",\" Federal-gov\",\" Local-gov\",\" Private\",\" Self-emp-inc\",\" Self-emp-not-inc\",\" State-gov\",\" ?\",\" Federal-gov\",\" Local-gov\",\" Private\",\" Self-emp-inc\",\" Self-emp-not-inc\",\" State-gov\",\" ?\",\" Federal-gov\",\" Local-gov\",\" Private\",\" Self-emp-inc\",\" Self-emp-not-inc\",\" State-gov\",\" Without-pay\",\" ?\",\" Federal-gov\",\" Local-gov\",\" Private\",\" Self-emp-inc\",\" Self-emp-not-inc\",\" State-gov\",\" ?\",\" Federal-gov\",\" Local-gov\",\" Private\",\" Self-emp-inc\",\" Self-emp-not-inc\",\" State-gov\",\" ?\",\" Federal-gov\",\" Local-gov\",\" Private\",\" Self-emp-inc\",\" Self-emp-not-inc\",\" State-gov\",\" ?\",\" Federal-gov\",\" Local-gov\",\" Private\",\" Self-emp-inc\",\" Self-emp-not-inc\",\" State-gov\",\" ?\",\" Federal-gov\",\" Local-gov\",\" Private\",\" Self-emp-inc\",\" Self-emp-not-inc\",\" State-gov\",\" ?\",\" Federal-gov\",\" Local-gov\",\" Private\",\" Self-emp-inc\",\" Self-emp-not-inc\",\" State-gov\",\" Without-pay\",\" ?\",\" Federal-gov\",\" Local-gov\",\" Private\",\" Self-emp-inc\",\" Self-emp-not-inc\",\" State-gov\",\" ?\",\" Federal-gov\",\" Local-gov\",\" Private\",\" Self-emp-inc\",\" Self-emp-not-inc\",\" State-gov\",\" ?\",\" Federal-gov\",\" Local-gov\",\" Private\",\" Self-emp-inc\",\" Self-emp-not-inc\",\" State-gov\",\" ?\",\" Federal-gov\",\" Local-gov\",\" Private\",\" Self-emp-inc\",\" Self-emp-not-inc\",\" State-gov\",\" ?\",\" Federal-gov\",\" Local-gov\",\" Private\",\" Self-emp-inc\",\" Self-emp-not-inc\",\" State-gov\",\" ?\",\" Federal-gov\",\" Local-gov\",\" Private\",\" Self-emp-inc\",\" Self-emp-not-inc\",\" State-gov\",\" ?\",\" Federal-gov\",\" Local-gov\",\" Private\",\" Self-emp-inc\",\" Self-emp-not-inc\",\" State-gov\",\" ?\",\" Federal-gov\",\" Local-gov\",\" Private\",\" Self-emp-inc\",\" Self-emp-not-inc\",\" State-gov\",\" ?\",\" Federal-gov\",\" Local-gov\",\" Private\",\" Self-emp-inc\",\" Self-emp-not-inc\",\" State-gov\",\" ?\",\" Federal-gov\",\" Local-gov\",\" Private\",\" Self-emp-inc\",\" Self-emp-not-inc\",\" State-gov\",\" Without-pay\",\" ?\",\" Federal-gov\",\" Local-gov\",\" Private\",\" Self-emp-inc\",\" Self-emp-not-inc\",\" State-gov\",\" ?\",\" Federal-gov\",\" Local-gov\",\" Private\",\" Self-emp-inc\",\" Self-emp-not-inc\",\" State-gov\",\" ?\",\" Federal-gov\",\" Local-gov\",\" Private\",\" Self-emp-inc\",\" Self-emp-not-inc\",\" State-gov\",\" Without-pay\",\" ?\",\" Federal-gov\",\" Local-gov\",\" Private\",\" Self-emp-inc\",\" Self-emp-not-inc\",\" State-gov\",\" ?\",\" Federal-gov\",\" Local-gov\",\" Private\",\" Self-emp-inc\",\" Self-emp-not-inc\",\" State-gov\",\" Without-pay\",\" ?\",\" Federal-gov\",\" Local-gov\",\" Private\",\" Self-emp-inc\",\" Self-emp-not-inc\",\" State-gov\",\" Without-pay\",\" ?\",\" Federal-gov\",\" Local-gov\",\" Private\",\" Self-emp-inc\",\" Self-emp-not-inc\",\" State-gov\",\" ?\",\" Federal-gov\",\" Local-gov\",\" Private\",\" Self-emp-inc\",\" Self-emp-not-inc\",\" State-gov\",\" ?\",\" Federal-gov\",\" Local-gov\",\" Private\",\" Self-emp-inc\",\" Self-emp-not-inc\",\" State-gov\",\" ?\",\" Federal-gov\",\" Local-gov\",\" Private\",\" Self-emp-inc\",\" Self-emp-not-inc\",\" Without-pay\",\" ?\",\" Federal-gov\",\" Local-gov\",\" Private\",\" Self-emp-inc\",\" Self-emp-not-inc\",\" State-gov\",\" ?\",\" Federal-gov\",\" Private\",\" Self-emp-inc\",\" Self-emp-not-inc\",\" State-gov\",\" ?\",\" Local-gov\",\" Private\",\" Self-emp-inc\",\" Self-emp-not-inc\",\" State-gov\",\" ?\",\" Federal-gov\",\" Local-gov\",\" Private\",\" Self-emp-inc\",\" Self-emp-not-inc\",\" ?\",\" Local-gov\",\" Private\",\" Self-emp-inc\",\" Self-emp-not-inc\",\" ?\",\" Local-gov\",\" Private\",\" Self-emp-inc\",\" Self-emp-not-inc\",\" ?\",\" Federal-gov\",\" Local-gov\",\" Private\",\" Self-emp-inc\",\" Self-emp-not-inc\",\" ?\",\" Local-gov\",\" Private\",\" Self-emp-not-inc\",\" ?\",\" Private\",\" Self-emp-inc\",\" Self-emp-not-inc\",\" State-gov\",\" ?\",\" Private\",\" Self-emp-inc\",\" Self-emp-not-inc\",\" ?\",\" Private\",\" Self-emp-inc\",\" Self-emp-not-inc\",\" ?\",\" Local-gov\",\" Private\",\" Self-emp-inc\",\" Self-emp-not-inc\",\" Private\",\" Self-emp-not-inc\",\" Private\",\" ?\",\" Private\",\" Self-emp-not-inc\",\" ?\",\" Federal-gov\",\" Local-gov\",\" Private\",\" Self-emp-not-inc\",\"\",\"\",\"\",\"\",\"\",\"\",\"\",\"\",\"\"],\"type\":\"treemap\",\"values\":[64,1,14,1,300,7,6,2,92,3,10,3,413,6,14,9,113,5,11,540,3,17,21,2,115,9,12,1,581,3,11,21,89,3,9,577,1,10,30,1,79,11,20,605,5,13,31,1,46,13,35,1,733,6,13,30,34,14,33,655,6,21,35,32,8,44,693,12,26,26,22,15,42,636,10,33,27,33,16,48,658,13,37,30,41,15,52,667,15,51,26,28,25,46,617,14,52,30,1,28,19,54,1,662,20,48,29,19,22,56,684,17,52,38,25,24,46,621,24,52,36,26,26,56,645,15,72,35,26,17,58,649,28,69,39,32,23,39,649,23,80,30,23,24,63,652,21,74,41,9,33,57,612,33,83,31,17,28,52,598,25,72,35,12,32,58,582,36,62,34,17,29,55,561,34,63,35,18,27,80,535,37,70,41,15,31,76,500,30,89,39,13,36,65,496,36,72,52,10,31,63,480,39,70,31,11,32,68,481,40,68,34,11,41,69,492,36,50,37,1,14,38,62,451,33,78,32,16,20,32,360,35,56,24,18,21,59,350,40,58,31,14,24,56,374,41,67,26,17,28,58,369,33,68,22,14,27,39,307,28,43,19,1,12,26,49,292,22,38,25,16,14,34,256,24,52,19,22,17,34,257,17,53,19,13,15,25,229,19,52,13,16,20,27,200,31,49,15,20,13,27,213,25,50,18,20,16,29,218,16,43,13,31,10,20,175,14,46,16,36,11,19,172,17,37,8,42,6,24,134,10,30,10,2,39,7,11,118,13,38,4,31,11,19,93,13,27,14,39,3,12,88,11,19,4,2,37,2,13,65,11,17,5,39,3,10,51,13,29,5,1,28,2,5,60,4,17,3,1,28,1,7,45,5,15,7,24,1,3,35,11,14,1,18,2,4,32,4,9,3,25,3,2,27,2,7,1,15,1,5,25,3,13,2,12,2,18,4,12,3,11,1,13,4,15,1,16,1,4,17,1,7,9,2,10,3,5,9,1,6,4,3,7,1,2,6,3,3,6,1,8,7,6,8,1,4,1,5,3,2,2,1,1,3,1,2,2,4,1,1,2,1,1,1,1,2,7,1,4,28,3,1836,960,2093,7,22696,1116,2541,1298,14]}],                        {\"legend\":{\"tracegroupgap\":0},\"margin\":{\"t\":60},\"template\":{\"data\":{\"bar\":[{\"error_x\":{\"color\":\"#2a3f5f\"},\"error_y\":{\"color\":\"#2a3f5f\"},\"marker\":{\"line\":{\"color\":\"#E5ECF6\",\"width\":0.5},\"pattern\":{\"fillmode\":\"overlay\",\"size\":10,\"solidity\":0.2}},\"type\":\"bar\"}],\"barpolar\":[{\"marker\":{\"line\":{\"color\":\"#E5ECF6\",\"width\":0.5},\"pattern\":{\"fillmode\":\"overlay\",\"size\":10,\"solidity\":0.2}},\"type\":\"barpolar\"}],\"carpet\":[{\"aaxis\":{\"endlinecolor\":\"#2a3f5f\",\"gridcolor\":\"white\",\"linecolor\":\"white\",\"minorgridcolor\":\"white\",\"startlinecolor\":\"#2a3f5f\"},\"baxis\":{\"endlinecolor\":\"#2a3f5f\",\"gridcolor\":\"white\",\"linecolor\":\"white\",\"minorgridcolor\":\"white\",\"startlinecolor\":\"#2a3f5f\"},\"type\":\"carpet\"}],\"choropleth\":[{\"colorbar\":{\"outlinewidth\":0,\"ticks\":\"\"},\"type\":\"choropleth\"}],\"contour\":[{\"colorbar\":{\"outlinewidth\":0,\"ticks\":\"\"},\"colorscale\":[[0.0,\"#0d0887\"],[0.1111111111111111,\"#46039f\"],[0.2222222222222222,\"#7201a8\"],[0.3333333333333333,\"#9c179e\"],[0.4444444444444444,\"#bd3786\"],[0.5555555555555556,\"#d8576b\"],[0.6666666666666666,\"#ed7953\"],[0.7777777777777778,\"#fb9f3a\"],[0.8888888888888888,\"#fdca26\"],[1.0,\"#f0f921\"]],\"type\":\"contour\"}],\"contourcarpet\":[{\"colorbar\":{\"outlinewidth\":0,\"ticks\":\"\"},\"type\":\"contourcarpet\"}],\"heatmap\":[{\"colorbar\":{\"outlinewidth\":0,\"ticks\":\"\"},\"colorscale\":[[0.0,\"#0d0887\"],[0.1111111111111111,\"#46039f\"],[0.2222222222222222,\"#7201a8\"],[0.3333333333333333,\"#9c179e\"],[0.4444444444444444,\"#bd3786\"],[0.5555555555555556,\"#d8576b\"],[0.6666666666666666,\"#ed7953\"],[0.7777777777777778,\"#fb9f3a\"],[0.8888888888888888,\"#fdca26\"],[1.0,\"#f0f921\"]],\"type\":\"heatmap\"}],\"heatmapgl\":[{\"colorbar\":{\"outlinewidth\":0,\"ticks\":\"\"},\"colorscale\":[[0.0,\"#0d0887\"],[0.1111111111111111,\"#46039f\"],[0.2222222222222222,\"#7201a8\"],[0.3333333333333333,\"#9c179e\"],[0.4444444444444444,\"#bd3786\"],[0.5555555555555556,\"#d8576b\"],[0.6666666666666666,\"#ed7953\"],[0.7777777777777778,\"#fb9f3a\"],[0.8888888888888888,\"#fdca26\"],[1.0,\"#f0f921\"]],\"type\":\"heatmapgl\"}],\"histogram\":[{\"marker\":{\"pattern\":{\"fillmode\":\"overlay\",\"size\":10,\"solidity\":0.2}},\"type\":\"histogram\"}],\"histogram2d\":[{\"colorbar\":{\"outlinewidth\":0,\"ticks\":\"\"},\"colorscale\":[[0.0,\"#0d0887\"],[0.1111111111111111,\"#46039f\"],[0.2222222222222222,\"#7201a8\"],[0.3333333333333333,\"#9c179e\"],[0.4444444444444444,\"#bd3786\"],[0.5555555555555556,\"#d8576b\"],[0.6666666666666666,\"#ed7953\"],[0.7777777777777778,\"#fb9f3a\"],[0.8888888888888888,\"#fdca26\"],[1.0,\"#f0f921\"]],\"type\":\"histogram2d\"}],\"histogram2dcontour\":[{\"colorbar\":{\"outlinewidth\":0,\"ticks\":\"\"},\"colorscale\":[[0.0,\"#0d0887\"],[0.1111111111111111,\"#46039f\"],[0.2222222222222222,\"#7201a8\"],[0.3333333333333333,\"#9c179e\"],[0.4444444444444444,\"#bd3786\"],[0.5555555555555556,\"#d8576b\"],[0.6666666666666666,\"#ed7953\"],[0.7777777777777778,\"#fb9f3a\"],[0.8888888888888888,\"#fdca26\"],[1.0,\"#f0f921\"]],\"type\":\"histogram2dcontour\"}],\"mesh3d\":[{\"colorbar\":{\"outlinewidth\":0,\"ticks\":\"\"},\"type\":\"mesh3d\"}],\"parcoords\":[{\"line\":{\"colorbar\":{\"outlinewidth\":0,\"ticks\":\"\"}},\"type\":\"parcoords\"}],\"pie\":[{\"automargin\":true,\"type\":\"pie\"}],\"scatter\":[{\"marker\":{\"colorbar\":{\"outlinewidth\":0,\"ticks\":\"\"}},\"type\":\"scatter\"}],\"scatter3d\":[{\"line\":{\"colorbar\":{\"outlinewidth\":0,\"ticks\":\"\"}},\"marker\":{\"colorbar\":{\"outlinewidth\":0,\"ticks\":\"\"}},\"type\":\"scatter3d\"}],\"scattercarpet\":[{\"marker\":{\"colorbar\":{\"outlinewidth\":0,\"ticks\":\"\"}},\"type\":\"scattercarpet\"}],\"scattergeo\":[{\"marker\":{\"colorbar\":{\"outlinewidth\":0,\"ticks\":\"\"}},\"type\":\"scattergeo\"}],\"scattergl\":[{\"marker\":{\"colorbar\":{\"outlinewidth\":0,\"ticks\":\"\"}},\"type\":\"scattergl\"}],\"scattermapbox\":[{\"marker\":{\"colorbar\":{\"outlinewidth\":0,\"ticks\":\"\"}},\"type\":\"scattermapbox\"}],\"scatterpolar\":[{\"marker\":{\"colorbar\":{\"outlinewidth\":0,\"ticks\":\"\"}},\"type\":\"scatterpolar\"}],\"scatterpolargl\":[{\"marker\":{\"colorbar\":{\"outlinewidth\":0,\"ticks\":\"\"}},\"type\":\"scatterpolargl\"}],\"scatterternary\":[{\"marker\":{\"colorbar\":{\"outlinewidth\":0,\"ticks\":\"\"}},\"type\":\"scatterternary\"}],\"surface\":[{\"colorbar\":{\"outlinewidth\":0,\"ticks\":\"\"},\"colorscale\":[[0.0,\"#0d0887\"],[0.1111111111111111,\"#46039f\"],[0.2222222222222222,\"#7201a8\"],[0.3333333333333333,\"#9c179e\"],[0.4444444444444444,\"#bd3786\"],[0.5555555555555556,\"#d8576b\"],[0.6666666666666666,\"#ed7953\"],[0.7777777777777778,\"#fb9f3a\"],[0.8888888888888888,\"#fdca26\"],[1.0,\"#f0f921\"]],\"type\":\"surface\"}],\"table\":[{\"cells\":{\"fill\":{\"color\":\"#EBF0F8\"},\"line\":{\"color\":\"white\"}},\"header\":{\"fill\":{\"color\":\"#C8D4E3\"},\"line\":{\"color\":\"white\"}},\"type\":\"table\"}]},\"layout\":{\"annotationdefaults\":{\"arrowcolor\":\"#2a3f5f\",\"arrowhead\":0,\"arrowwidth\":1},\"autotypenumbers\":\"strict\",\"coloraxis\":{\"colorbar\":{\"outlinewidth\":0,\"ticks\":\"\"}},\"colorscale\":{\"diverging\":[[0,\"#8e0152\"],[0.1,\"#c51b7d\"],[0.2,\"#de77ae\"],[0.3,\"#f1b6da\"],[0.4,\"#fde0ef\"],[0.5,\"#f7f7f7\"],[0.6,\"#e6f5d0\"],[0.7,\"#b8e186\"],[0.8,\"#7fbc41\"],[0.9,\"#4d9221\"],[1,\"#276419\"]],\"sequential\":[[0.0,\"#0d0887\"],[0.1111111111111111,\"#46039f\"],[0.2222222222222222,\"#7201a8\"],[0.3333333333333333,\"#9c179e\"],[0.4444444444444444,\"#bd3786\"],[0.5555555555555556,\"#d8576b\"],[0.6666666666666666,\"#ed7953\"],[0.7777777777777778,\"#fb9f3a\"],[0.8888888888888888,\"#fdca26\"],[1.0,\"#f0f921\"]],\"sequentialminus\":[[0.0,\"#0d0887\"],[0.1111111111111111,\"#46039f\"],[0.2222222222222222,\"#7201a8\"],[0.3333333333333333,\"#9c179e\"],[0.4444444444444444,\"#bd3786\"],[0.5555555555555556,\"#d8576b\"],[0.6666666666666666,\"#ed7953\"],[0.7777777777777778,\"#fb9f3a\"],[0.8888888888888888,\"#fdca26\"],[1.0,\"#f0f921\"]]},\"colorway\":[\"#636efa\",\"#EF553B\",\"#00cc96\",\"#ab63fa\",\"#FFA15A\",\"#19d3f3\",\"#FF6692\",\"#B6E880\",\"#FF97FF\",\"#FECB52\"],\"font\":{\"color\":\"#2a3f5f\"},\"geo\":{\"bgcolor\":\"white\",\"lakecolor\":\"white\",\"landcolor\":\"#E5ECF6\",\"showlakes\":true,\"showland\":true,\"subunitcolor\":\"white\"},\"hoverlabel\":{\"align\":\"left\"},\"hovermode\":\"closest\",\"mapbox\":{\"style\":\"light\"},\"paper_bgcolor\":\"white\",\"plot_bgcolor\":\"#E5ECF6\",\"polar\":{\"angularaxis\":{\"gridcolor\":\"white\",\"linecolor\":\"white\",\"ticks\":\"\"},\"bgcolor\":\"#E5ECF6\",\"radialaxis\":{\"gridcolor\":\"white\",\"linecolor\":\"white\",\"ticks\":\"\"}},\"scene\":{\"xaxis\":{\"backgroundcolor\":\"#E5ECF6\",\"gridcolor\":\"white\",\"gridwidth\":2,\"linecolor\":\"white\",\"showbackground\":true,\"ticks\":\"\",\"zerolinecolor\":\"white\"},\"yaxis\":{\"backgroundcolor\":\"#E5ECF6\",\"gridcolor\":\"white\",\"gridwidth\":2,\"linecolor\":\"white\",\"showbackground\":true,\"ticks\":\"\",\"zerolinecolor\":\"white\"},\"zaxis\":{\"backgroundcolor\":\"#E5ECF6\",\"gridcolor\":\"white\",\"gridwidth\":2,\"linecolor\":\"white\",\"showbackground\":true,\"ticks\":\"\",\"zerolinecolor\":\"white\"}},\"shapedefaults\":{\"line\":{\"color\":\"#2a3f5f\"}},\"ternary\":{\"aaxis\":{\"gridcolor\":\"white\",\"linecolor\":\"white\",\"ticks\":\"\"},\"baxis\":{\"gridcolor\":\"white\",\"linecolor\":\"white\",\"ticks\":\"\"},\"bgcolor\":\"#E5ECF6\",\"caxis\":{\"gridcolor\":\"white\",\"linecolor\":\"white\",\"ticks\":\"\"}},\"title\":{\"x\":0.05},\"xaxis\":{\"automargin\":true,\"gridcolor\":\"white\",\"linecolor\":\"white\",\"ticks\":\"\",\"title\":{\"standoff\":15},\"zerolinecolor\":\"white\",\"zerolinewidth\":2},\"yaxis\":{\"automargin\":true,\"gridcolor\":\"white\",\"linecolor\":\"white\",\"ticks\":\"\",\"title\":{\"standoff\":15},\"zerolinecolor\":\"white\",\"zerolinewidth\":2}}},\"treemapcolorway\":[\"#4C78A8\",\"#F58518\",\"#E45756\",\"#72B7B2\",\"#54A24B\",\"#EECA3B\",\"#B279A2\",\"#FF9DA6\",\"#9D755D\",\"#BAB0AC\"]},                        {\"responsive\": true}                    ).then(function(){\n",
       "                            \n",
       "var gd = document.getElementById('43ad4476-7971-4edb-931e-84e044db8edd');\n",
       "var x = new MutationObserver(function (mutations, observer) {{\n",
       "        var display = window.getComputedStyle(gd).display;\n",
       "        if (!display || display === 'none') {{\n",
       "            console.log([gd, 'removed!']);\n",
       "            Plotly.purge(gd);\n",
       "            observer.disconnect();\n",
       "        }}\n",
       "}});\n",
       "\n",
       "// Listen for the removal of the full notebook cells\n",
       "var notebookContainer = gd.closest('#notebook-container');\n",
       "if (notebookContainer) {{\n",
       "    x.observe(notebookContainer, {childList: true});\n",
       "}}\n",
       "\n",
       "// Listen for the clearing of the current output cell\n",
       "var outputEl = gd.closest('.output');\n",
       "if (outputEl) {{\n",
       "    x.observe(outputEl, {childList: true});\n",
       "}}\n",
       "\n",
       "                        })                };                });            </script>        </div>"
      ]
     },
     "metadata": {},
     "output_type": "display_data"
    }
   ],
   "source": [
    "graph = px.treemap( df3, path=['workclass','age'], color_discrete_sequence=px.colors.qualitative.T10)\n",
    "graph.show()"
   ]
  },
  {
   "cell_type": "markdown",
   "id": "9e1128b3",
   "metadata": {},
   "source": [
    "## 3.3. Multiivariate Analysis"
   ]
  },
  {
   "cell_type": "markdown",
   "id": "e4667c4a",
   "metadata": {},
   "source": [
    "### 3.3.1 Numerical Variables"
   ]
  },
  {
   "cell_type": "code",
   "execution_count": 29,
   "id": "7e89a4ac",
   "metadata": {
    "ExecuteTime": {
     "end_time": "2021-09-30T16:16:15.367467Z",
     "start_time": "2021-09-30T16:16:15.348165Z"
    }
   },
   "outputs": [],
   "source": [
    "aux = df3.select_dtypes( include='int64' )"
   ]
  },
  {
   "cell_type": "markdown",
   "id": "45b665d2",
   "metadata": {},
   "source": [
    "Here is shown the correlation among the Numerical Variables. It's interesting to notice that no variable has a strong linear correlation to each other."
   ]
  },
  {
   "cell_type": "code",
   "execution_count": 30,
   "id": "95f6d365",
   "metadata": {
    "ExecuteTime": {
     "end_time": "2021-09-30T16:16:16.003464Z",
     "start_time": "2021-09-30T16:16:15.528068Z"
    }
   },
   "outputs": [
    {
     "data": {
      "text/plain": [
       "<AxesSubplot:>"
      ]
     },
     "execution_count": 30,
     "metadata": {},
     "output_type": "execute_result"
    },
    {
     "data": {
      "image/png": "[encoded data removed]",
      "text/plain": [
       "<Figure size 936x576 with 2 Axes>"
      ]
     },
     "metadata": {},
     "output_type": "display_data"
    }
   ],
   "source": [
    "corr = aux.corr( method='pearson' )\n",
    "sns.heatmap( corr, annot=True, cmap='RdBu_r')"
   ]
  },
  {
   "cell_type": "markdown",
   "id": "6852e04d",
   "metadata": {
    "ExecuteTime": {
     "end_time": "2021-09-17T18:46:44.479362Z",
     "start_time": "2021-09-17T18:46:44.461390Z"
    }
   },
   "source": [
    "### 3.3.1 Categorical Variables"
   ]
  },
  {
   "cell_type": "code",
   "execution_count": 31,
   "id": "d549cfc1",
   "metadata": {
    "ExecuteTime": {
     "end_time": "2021-09-30T16:16:16.167745Z",
     "start_time": "2021-09-30T16:16:16.147088Z"
    }
   },
   "outputs": [],
   "source": [
    "aux = df3.select_dtypes( include='object' )"
   ]
  },
  {
   "cell_type": "code",
   "execution_count": 32,
   "id": "7cb8b1f5",
   "metadata": {
    "ExecuteTime": {
     "end_time": "2021-09-30T16:16:16.188018Z",
     "start_time": "2021-09-30T16:16:16.167745Z"
    }
   },
   "outputs": [
    {
     "data": {
      "text/html": [
       "<div>\n",
       "<style scoped>\n",
       "    .dataframe tbody tr th:only-of-type {\n",
       "        vertical-align: middle;\n",
       "    }\n",
       "\n",
       "    .dataframe tbody tr th {\n",
       "        vertical-align: top;\n",
       "    }\n",
       "\n",
       "    .dataframe thead th {\n",
       "        text-align: right;\n",
       "    }\n",
       "</style>\n",
       "<table border=\"1\" class=\"dataframe\">\n",
       "  <thead>\n",
       "    <tr style=\"text-align: right;\">\n",
       "      <th></th>\n",
       "      <th>workclass</th>\n",
       "      <th>education</th>\n",
       "      <th>marital_status</th>\n",
       "      <th>occupation</th>\n",
       "      <th>relationship</th>\n",
       "      <th>race</th>\n",
       "      <th>sex</th>\n",
       "      <th>native_country</th>\n",
       "      <th>income</th>\n",
       "    </tr>\n",
       "  </thead>\n",
       "  <tbody>\n",
       "    <tr>\n",
       "      <th>0</th>\n",
       "      <td>State-gov</td>\n",
       "      <td>Bachelors</td>\n",
       "      <td>Never-married</td>\n",
       "      <td>Adm-clerical</td>\n",
       "      <td>Not-in-family</td>\n",
       "      <td>White</td>\n",
       "      <td>Male</td>\n",
       "      <td>United-States</td>\n",
       "      <td>&lt;=50K</td>\n",
       "    </tr>\n",
       "    <tr>\n",
       "      <th>1</th>\n",
       "      <td>Self-emp-not-inc</td>\n",
       "      <td>Bachelors</td>\n",
       "      <td>Married-civ-spouse</td>\n",
       "      <td>Exec-managerial</td>\n",
       "      <td>Husband</td>\n",
       "      <td>White</td>\n",
       "      <td>Male</td>\n",
       "      <td>United-States</td>\n",
       "      <td>&lt;=50K</td>\n",
       "    </tr>\n",
       "    <tr>\n",
       "      <th>2</th>\n",
       "      <td>Private</td>\n",
       "      <td>HS-grad</td>\n",
       "      <td>Divorced</td>\n",
       "      <td>Handlers-cleaners</td>\n",
       "      <td>Not-in-family</td>\n",
       "      <td>White</td>\n",
       "      <td>Male</td>\n",
       "      <td>United-States</td>\n",
       "      <td>&lt;=50K</td>\n",
       "    </tr>\n",
       "    <tr>\n",
       "      <th>3</th>\n",
       "      <td>Private</td>\n",
       "      <td>11th</td>\n",
       "      <td>Married-civ-spouse</td>\n",
       "      <td>Handlers-cleaners</td>\n",
       "      <td>Husband</td>\n",
       "      <td>Black</td>\n",
       "      <td>Male</td>\n",
       "      <td>United-States</td>\n",
       "      <td>&lt;=50K</td>\n",
       "    </tr>\n",
       "    <tr>\n",
       "      <th>4</th>\n",
       "      <td>Private</td>\n",
       "      <td>Bachelors</td>\n",
       "      <td>Married-civ-spouse</td>\n",
       "      <td>Prof-specialty</td>\n",
       "      <td>Wife</td>\n",
       "      <td>Black</td>\n",
       "      <td>Female</td>\n",
       "      <td>Cuba</td>\n",
       "      <td>&lt;=50K</td>\n",
       "    </tr>\n",
       "  </tbody>\n",
       "</table>\n",
       "</div>"
      ],
      "text/plain": [
       "           workclass   education       marital_status          occupation  \\\n",
       "0          State-gov   Bachelors        Never-married        Adm-clerical   \n",
       "1   Self-emp-not-inc   Bachelors   Married-civ-spouse     Exec-managerial   \n",
       "2            Private     HS-grad             Divorced   Handlers-cleaners   \n",
       "3            Private        11th   Married-civ-spouse   Handlers-cleaners   \n",
       "4            Private   Bachelors   Married-civ-spouse      Prof-specialty   \n",
       "\n",
       "     relationship    race      sex  native_country  income  \n",
       "0   Not-in-family   White     Male   United-States   <=50K  \n",
       "1         Husband   White     Male   United-States   <=50K  \n",
       "2   Not-in-family   White     Male   United-States   <=50K  \n",
       "3         Husband   Black     Male   United-States   <=50K  \n",
       "4            Wife   Black   Female            Cuba   <=50K  "
      ]
     },
     "execution_count": 32,
     "metadata": {},
     "output_type": "execute_result"
    }
   ],
   "source": [
    "aux.head()"
   ]
  },
  {
   "cell_type": "code",
   "execution_count": 33,
   "id": "9a1f522f",
   "metadata": {
    "ExecuteTime": {
     "end_time": "2021-09-30T16:16:19.998813Z",
     "start_time": "2021-09-30T16:16:18.563318Z"
    },
    "code_folding": []
   },
   "outputs": [],
   "source": [
    "lista0 = []\n",
    "lista1 = []\n",
    "lista2 = []\n",
    "lista3 = []\n",
    "lista4 = []\n",
    "lista5 = []\n",
    "lista6 = []\n",
    "lista7 = []\n",
    "lista8 = []\n",
    "\n",
    "for i in range(9):\n",
    "    for j in range(9):\n",
    "        a = cramer_v( aux.iloc[:,i], aux.iloc[:,j] )\n",
    "        \n",
    "        if i==0:\n",
    "            lista0.append(a)\n",
    "            \n",
    "        elif i==1:\n",
    "            lista1.append(a)\n",
    "            \n",
    "        elif i==2:\n",
    "            lista2.append(a)\n",
    "            \n",
    "        elif i==3:\n",
    "            lista3.append(a)\n",
    "            \n",
    "        elif i==4:\n",
    "            lista4.append(a)\n",
    "            \n",
    "        elif i==5:\n",
    "            lista5.append(a)\n",
    "            \n",
    "        elif i==6:\n",
    "            lista6.append(a)\n",
    "            \n",
    "        elif i==7:\n",
    "            lista7.append(a)\n",
    "            \n",
    "        else:\n",
    "            lista8.append(a)"
   ]
  },
  {
   "cell_type": "code",
   "execution_count": 34,
   "id": "d08b1928",
   "metadata": {
    "ExecuteTime": {
     "end_time": "2021-09-30T16:16:21.237694Z",
     "start_time": "2021-09-30T16:16:20.146943Z"
    }
   },
   "outputs": [
    {
     "data": {
      "text/plain": [
       "<AxesSubplot:>"
      ]
     },
     "execution_count": 34,
     "metadata": {},
     "output_type": "execute_result"
    },
    {
     "data": {
      "image/png": "[encoded data removed]",
      "text/plain": [
       "<Figure size 936x576 with 2 Axes>"
      ]
     },
     "metadata": {},
     "output_type": "display_data"
    }
   ],
   "source": [
    "df=pd.DataFrame( lista0 )\n",
    "\n",
    "for i in range(1,9):\n",
    "    if i==1:\n",
    "        df['1'] = lista1\n",
    "        \n",
    "    elif i==2:\n",
    "        df['2'] = lista2\n",
    "        \n",
    "    elif i==3:\n",
    "        df['3'] = lista3\n",
    "        \n",
    "    elif i==4:\n",
    "        df['4'] = lista4\n",
    "    \n",
    "    elif i==5:\n",
    "        df['5'] = lista5\n",
    "    \n",
    "    elif i==6:\n",
    "        df['6'] = lista6\n",
    "        \n",
    "    elif i==7:\n",
    "        df['7'] = lista7\n",
    "        \n",
    "    else:\n",
    "        df['8'] = lista8\n",
    "        \n",
    "df.columns = aux.columns\n",
    "df = df.set_index( aux.columns )\n",
    "sns.heatmap( df, annot=True, cmap='RdBu_r')"
   ]
  },
  {
   "cell_type": "markdown",
   "id": "f2798133",
   "metadata": {},
   "source": [
    "# 4.0 Filtering Variables"
   ]
  },
  {
   "cell_type": "code",
   "execution_count": 35,
   "id": "c4ce41f5",
   "metadata": {
    "ExecuteTime": {
     "end_time": "2021-09-30T16:16:26.168260Z",
     "start_time": "2021-09-30T16:16:26.152800Z"
    }
   },
   "outputs": [],
   "source": [
    "df4 = df3.copy()"
   ]
  },
  {
   "cell_type": "markdown",
   "id": "38145549",
   "metadata": {},
   "source": [
    "I've decided to drop these columns:\n",
    "\n",
    "- **education**: Because already exist a column encoded to this column which is **education_num**\n",
    "\n",
    "- **capital_gain**, **capital_loos** and **native_country** for its unbalanced structure."
   ]
  },
  {
   "cell_type": "code",
   "execution_count": 36,
   "id": "53e10ef6",
   "metadata": {
    "ExecuteTime": {
     "end_time": "2021-09-30T16:16:26.637020Z",
     "start_time": "2021-09-30T16:16:26.601385Z"
    }
   },
   "outputs": [],
   "source": [
    "df4 = df4[df4['native_country'] == ' United-States' ]\n",
    "\n",
    "df4 = df4.drop( ['education', 'capital_gain', 'capital_loos', 'native_country'], axis=1 )"
   ]
  },
  {
   "cell_type": "markdown",
   "id": "2f069ec6",
   "metadata": {},
   "source": [
    "# 5.0. Data Preparation"
   ]
  },
  {
   "cell_type": "markdown",
   "id": "1100cce3",
   "metadata": {},
   "source": [
    "## 5.1. Rescaling"
   ]
  },
  {
   "cell_type": "code",
   "execution_count": 37,
   "id": "1c1a7db2",
   "metadata": {
    "ExecuteTime": {
     "end_time": "2021-09-30T16:16:32.284233Z",
     "start_time": "2021-09-30T16:16:32.269423Z"
    }
   },
   "outputs": [],
   "source": [
    "df5 = df4.copy()\n",
    "aux = df5.select_dtypes( include='int64' )"
   ]
  },
  {
   "cell_type": "code",
   "execution_count": 38,
   "id": "443a57c5",
   "metadata": {
    "ExecuteTime": {
     "end_time": "2021-09-30T16:16:34.515929Z",
     "start_time": "2021-09-30T16:16:32.921062Z"
    }
   },
   "outputs": [
    {
     "data": {
      "image/png": "[encoded data removed]",
      "text/plain": [
       "<Figure size 936x576 with 4 Axes>"
      ]
     },
     "metadata": {},
     "output_type": "display_data"
    }
   ],
   "source": [
    "plt.subplot( 2, 2, 1 )\n",
    "sns.boxplot( data=aux, x='final_weight')\n",
    "plt.tight_layout()\n",
    "\n",
    "plt.subplot( 2, 2, 2 )\n",
    "sns.boxplot( data=aux, x='hour_per_week')\n",
    "plt.tight_layout()\n",
    "\n",
    "plt.subplot( 2, 2, 3 )\n",
    "sns.boxplot( data=aux, x='education_num')\n",
    "plt.tight_layout()\n",
    "\n",
    "plt.subplot( 2, 2, 4 )\n",
    "sns.boxplot( data=aux, x='age')\n",
    "plt.tight_layout()"
   ]
  },
  {
   "cell_type": "code",
   "execution_count": 39,
   "id": "663b3a8d",
   "metadata": {
    "ExecuteTime": {
     "end_time": "2021-09-30T16:16:35.554446Z",
     "start_time": "2021-09-30T16:16:35.523139Z"
    }
   },
   "outputs": [],
   "source": [
    "mms = MinMaxScaler()\n",
    "rs  = RobustScaler()\n",
    "\n",
    "# MinMaxScaler\n",
    "df5['age']           = mms.fit_transform( df5[['age']].values )\n",
    "\n",
    "df5['education_num'] = mms.fit_transform( df5[['education_num']].values )\n",
    "\n",
    "# RobustScaler\n",
    "df5['final_weight']  = rs.fit_transform( df5[['final_weight']].values )\n",
    "\n",
    "df5['hour_per_week'] = rs.fit_transform( df5[['hour_per_week']].values )"
   ]
  },
  {
   "cell_type": "markdown",
   "id": "a68b7c49",
   "metadata": {
    "ExecuteTime": {
     "end_time": "2021-09-17T18:55:18.439099Z",
     "start_time": "2021-09-17T18:55:18.426545Z"
    }
   },
   "source": [
    "## 5.2. Encoder"
   ]
  },
  {
   "cell_type": "code",
   "execution_count": 40,
   "id": "567f255d",
   "metadata": {
    "ExecuteTime": {
     "end_time": "2021-09-30T16:16:37.658176Z",
     "start_time": "2021-09-30T16:16:37.551470Z"
    }
   },
   "outputs": [],
   "source": [
    "le = LabelEncoder()\n",
    "\n",
    "####### Label Encoding #########\n",
    "\n",
    "# income\n",
    "df5['income'] = df5['income'].map( {\" <=50K\":1, \" >50K\":0} )\n",
    "\n",
    "# sex\n",
    "df5['sex']    = le.fit_transform( df5['sex'] )\n",
    "\n",
    "####### OneHotEncoding #########\n",
    "\n",
    "# relationship\n",
    "df5 = pd.get_dummies( df5, columns=['relationship'], prefix=['relationship'] )\n",
    "\n",
    "####### Target Encoding #########\n",
    "\n",
    "# occupation\n",
    "df5['occupation']     = df5[['occupation','income']].groupby('occupation').transform(\"mean\")\n",
    "\n",
    "# workclass\n",
    "df5['workclass']      = df5[['workclass','income']].groupby('workclass').transform(\"mean\")\n",
    "\n",
    "# marital_status\n",
    "df5['marital_status'] = df5[['marital_status','income']].groupby('marital_status').transform(\"mean\")\n",
    "\n",
    "# race\n",
    "df5['race']           = df5[['race','income']].groupby('race').transform(\"mean\")"
   ]
  },
  {
   "cell_type": "code",
   "execution_count": 41,
   "id": "7d8a2145",
   "metadata": {
    "ExecuteTime": {
     "end_time": "2021-09-30T16:16:39.116465Z",
     "start_time": "2021-09-30T16:16:39.092791Z"
    }
   },
   "outputs": [
    {
     "data": {
      "text/html": [
       "<div>\n",
       "<style scoped>\n",
       "    .dataframe tbody tr th:only-of-type {\n",
       "        vertical-align: middle;\n",
       "    }\n",
       "\n",
       "    .dataframe tbody tr th {\n",
       "        vertical-align: top;\n",
       "    }\n",
       "\n",
       "    .dataframe thead th {\n",
       "        text-align: right;\n",
       "    }\n",
       "</style>\n",
       "<table border=\"1\" class=\"dataframe\">\n",
       "  <thead>\n",
       "    <tr style=\"text-align: right;\">\n",
       "      <th></th>\n",
       "      <th>age</th>\n",
       "      <th>workclass</th>\n",
       "      <th>final_weight</th>\n",
       "      <th>education_num</th>\n",
       "      <th>marital_status</th>\n",
       "      <th>occupation</th>\n",
       "      <th>race</th>\n",
       "      <th>sex</th>\n",
       "      <th>hour_per_week</th>\n",
       "      <th>income</th>\n",
       "      <th>relationship_ Husband</th>\n",
       "      <th>relationship_ Not-in-family</th>\n",
       "      <th>relationship_ Other-relative</th>\n",
       "      <th>relationship_ Own-child</th>\n",
       "      <th>relationship_ Unmarried</th>\n",
       "      <th>relationship_ Wife</th>\n",
       "    </tr>\n",
       "  </thead>\n",
       "  <tbody>\n",
       "    <tr>\n",
       "      <th>0</th>\n",
       "      <td>0.301370</td>\n",
       "      <td>0.730579</td>\n",
       "      <td>-0.839067</td>\n",
       "      <td>0.800000</td>\n",
       "      <td>0.953231</td>\n",
       "      <td>0.867208</td>\n",
       "      <td>0.738340</td>\n",
       "      <td>1</td>\n",
       "      <td>0.0</td>\n",
       "      <td>1</td>\n",
       "      <td>0</td>\n",
       "      <td>1</td>\n",
       "      <td>0</td>\n",
       "      <td>0</td>\n",
       "      <td>0</td>\n",
       "      <td>0</td>\n",
       "    </tr>\n",
       "    <tr>\n",
       "      <th>1</th>\n",
       "      <td>0.452055</td>\n",
       "      <td>0.715089</td>\n",
       "      <td>-0.790058</td>\n",
       "      <td>0.800000</td>\n",
       "      <td>0.542415</td>\n",
       "      <td>0.513253</td>\n",
       "      <td>0.738340</td>\n",
       "      <td>1</td>\n",
       "      <td>-5.4</td>\n",
       "      <td>1</td>\n",
       "      <td>1</td>\n",
       "      <td>0</td>\n",
       "      <td>0</td>\n",
       "      <td>0</td>\n",
       "      <td>0</td>\n",
       "      <td>0</td>\n",
       "    </tr>\n",
       "    <tr>\n",
       "      <th>2</th>\n",
       "      <td>0.287671</td>\n",
       "      <td>0.774472</td>\n",
       "      <td>0.329118</td>\n",
       "      <td>0.533333</td>\n",
       "      <td>0.895483</td>\n",
       "      <td>0.938604</td>\n",
       "      <td>0.738340</td>\n",
       "      <td>1</td>\n",
       "      <td>0.0</td>\n",
       "      <td>1</td>\n",
       "      <td>0</td>\n",
       "      <td>1</td>\n",
       "      <td>0</td>\n",
       "      <td>0</td>\n",
       "      <td>0</td>\n",
       "      <td>0</td>\n",
       "    </tr>\n",
       "    <tr>\n",
       "      <th>3</th>\n",
       "      <td>0.493151</td>\n",
       "      <td>0.774472</td>\n",
       "      <td>0.490438</td>\n",
       "      <td>0.400000</td>\n",
       "      <td>0.542415</td>\n",
       "      <td>0.938604</td>\n",
       "      <td>0.876059</td>\n",
       "      <td>1</td>\n",
       "      <td>0.0</td>\n",
       "      <td>1</td>\n",
       "      <td>1</td>\n",
       "      <td>0</td>\n",
       "      <td>0</td>\n",
       "      <td>0</td>\n",
       "      <td>0</td>\n",
       "      <td>0</td>\n",
       "    </tr>\n",
       "    <tr>\n",
       "      <th>5</th>\n",
       "      <td>0.273973</td>\n",
       "      <td>0.774472</td>\n",
       "      <td>0.912120</td>\n",
       "      <td>0.866667</td>\n",
       "      <td>0.542415</td>\n",
       "      <td>0.513253</td>\n",
       "      <td>0.738340</td>\n",
       "      <td>0</td>\n",
       "      <td>0.0</td>\n",
       "      <td>1</td>\n",
       "      <td>0</td>\n",
       "      <td>0</td>\n",
       "      <td>0</td>\n",
       "      <td>0</td>\n",
       "      <td>0</td>\n",
       "      <td>1</td>\n",
       "    </tr>\n",
       "  </tbody>\n",
       "</table>\n",
       "</div>"
      ],
      "text/plain": [
       "        age  workclass  final_weight  education_num  marital_status  \\\n",
       "0  0.301370   0.730579     -0.839067       0.800000        0.953231   \n",
       "1  0.452055   0.715089     -0.790058       0.800000        0.542415   \n",
       "2  0.287671   0.774472      0.329118       0.533333        0.895483   \n",
       "3  0.493151   0.774472      0.490438       0.400000        0.542415   \n",
       "5  0.273973   0.774472      0.912120       0.866667        0.542415   \n",
       "\n",
       "   occupation      race  sex  hour_per_week  income  relationship_ Husband  \\\n",
       "0    0.867208  0.738340    1            0.0       1                      0   \n",
       "1    0.513253  0.738340    1           -5.4       1                      1   \n",
       "2    0.938604  0.738340    1            0.0       1                      0   \n",
       "3    0.938604  0.876059    1            0.0       1                      1   \n",
       "5    0.513253  0.738340    0            0.0       1                      0   \n",
       "\n",
       "   relationship_ Not-in-family  relationship_ Other-relative  \\\n",
       "0                            1                             0   \n",
       "1                            0                             0   \n",
       "2                            1                             0   \n",
       "3                            0                             0   \n",
       "5                            0                             0   \n",
       "\n",
       "   relationship_ Own-child  relationship_ Unmarried  relationship_ Wife  \n",
       "0                        0                        0                   0  \n",
       "1                        0                        0                   0  \n",
       "2                        0                        0                   0  \n",
       "3                        0                        0                   0  \n",
       "5                        0                        0                   1  "
      ]
     },
     "execution_count": 41,
     "metadata": {},
     "output_type": "execute_result"
    }
   ],
   "source": [
    "df5.head()"
   ]
  },
  {
   "cell_type": "markdown",
   "id": "9c22da99",
   "metadata": {},
   "source": [
    "## 5.3. Unbalanced Data"
   ]
  },
  {
   "cell_type": "code",
   "execution_count": 42,
   "id": "ec3b7956",
   "metadata": {
    "ExecuteTime": {
     "end_time": "2021-09-30T16:16:44.268383Z",
     "start_time": "2021-09-30T16:16:44.248321Z"
    }
   },
   "outputs": [],
   "source": [
    "x = df5.drop( 'income', axis=1 )\n",
    "y = df5['income']"
   ]
  },
  {
   "cell_type": "markdown",
   "id": "3f5c7c27",
   "metadata": {},
   "source": [
    "The minority class has almost 25% of the dataset size. It might be considered as a mild unbalanced class. But is necessary to make some adjust"
   ]
  },
  {
   "cell_type": "code",
   "execution_count": 43,
   "id": "331da423",
   "metadata": {
    "ExecuteTime": {
     "end_time": "2021-09-30T16:16:45.125644Z",
     "start_time": "2021-09-30T16:16:45.102252Z"
    }
   },
   "outputs": [
    {
     "data": {
      "text/plain": [
       "1    0.754165\n",
       "0    0.245835\n",
       "Name: income, dtype: float64"
      ]
     },
     "execution_count": 43,
     "metadata": {},
     "output_type": "execute_result"
    }
   ],
   "source": [
    "y.value_counts( normalize=True )"
   ]
  },
  {
   "cell_type": "markdown",
   "id": "5004cfde",
   "metadata": {},
   "source": [
    "**SMOTE**\n",
    "\n",
    "> Synthetic Minority Oversampling Technique is an oversampling technique but SMOTE working differently than your typical oversampling. In a classic oversampling technique, the minority data is duplicated from the minority data population. While it increases the number of data, it does not give any new information or variation to the machine learning model.SMOTE works by utilizing a k-nearest neighbor algorithm to create synthetic data. SMOTE first start by choosing random data from the minority class, then k-nearest neighbors from the data are set. Synthetic data would then made between the random data and the randomly selected k-nearest neighbor. Let me show you the example below. The procedure is repeated enough times until the minority class has the same proportion as the majority class. (https://towardsdatascience.com/5-smote-techniques-for-oversampling-your-imbalance-data-b8155bdbe2b5)\n",
    "\n",
    "There is a problem with using the **SMOTE** technic from a raw way. Because SMOTE treats with continuous data. And then, it might bring problems to generate new data, for example, the feature \"workclass\", after I've done the encoding step this feature turned into a numerical feature, with characteristics from a categorical one though. **workclass** has just 16 different values that might be attributed. So, if I use the SMOTE from a raw way it'll give a different range to the values of the feature giving to this features values different of the 16 unique values possible for this feature. therefore, I'm going to use the **SMOTENC**, because I'm able to indicate which features in my dataset are categorical classes."
   ]
  },
  {
   "cell_type": "code",
   "execution_count": 44,
   "id": "240069c2",
   "metadata": {
    "ExecuteTime": {
     "end_time": "2021-09-30T16:17:16.937851Z",
     "start_time": "2021-09-30T16:17:02.789165Z"
    }
   },
   "outputs": [],
   "source": [
    "sm = SMOTENC( [1,3,4,5,6,7,9,10,11,12,13,14], sampling_strategy='minority' )\n",
    "x, y = sm.fit_resample( x, y )"
   ]
  },
  {
   "cell_type": "markdown",
   "id": "d261a1fb",
   "metadata": {},
   "source": [
    "Now the dataset seems equally splitted"
   ]
  },
  {
   "cell_type": "code",
   "execution_count": 45,
   "id": "2b452bb2",
   "metadata": {
    "ExecuteTime": {
     "end_time": "2021-09-30T16:17:17.248058Z",
     "start_time": "2021-09-30T16:17:17.228971Z"
    }
   },
   "outputs": [
    {
     "data": {
      "text/plain": [
       "1    0.5\n",
       "0    0.5\n",
       "Name: income, dtype: float64"
      ]
     },
     "execution_count": 45,
     "metadata": {},
     "output_type": "execute_result"
    }
   ],
   "source": [
    "y.value_counts( normalize=True )"
   ]
  },
  {
   "cell_type": "markdown",
   "id": "0a824b0d",
   "metadata": {},
   "source": [
    "# 6.0 Machine Learning"
   ]
  },
  {
   "cell_type": "code",
   "execution_count": 46,
   "id": "8ce68695",
   "metadata": {
    "ExecuteTime": {
     "end_time": "2021-09-30T16:17:20.808209Z",
     "start_time": "2021-09-30T16:17:20.788247Z"
    }
   },
   "outputs": [],
   "source": [
    "df6 = df5.copy()"
   ]
  },
  {
   "cell_type": "markdown",
   "id": "920f77dc",
   "metadata": {},
   "source": [
    "## 6.1. Train and Test Data"
   ]
  },
  {
   "cell_type": "code",
   "execution_count": 47,
   "id": "90162b11",
   "metadata": {
    "ExecuteTime": {
     "end_time": "2021-09-30T16:17:21.638118Z",
     "start_time": "2021-09-30T16:17:21.597905Z"
    }
   },
   "outputs": [],
   "source": [
    "X_train, X_test, y_train, y_test = train_test_split( x, y, test_size=0.2, random_state=1 )"
   ]
  },
  {
   "cell_type": "markdown",
   "id": "d4c08d37",
   "metadata": {},
   "source": [
    "## 6.2. Naive Bayes"
   ]
  },
  {
   "cell_type": "code",
   "execution_count": 158,
   "id": "7d645a18",
   "metadata": {
    "ExecuteTime": {
     "end_time": "2021-09-29T18:58:23.983872Z",
     "start_time": "2021-09-29T18:58:23.815289Z"
    }
   },
   "outputs": [
    {
     "name": "stdout",
     "output_type": "stream",
     "text": [
      "-------------Naive Bayes------------- \n",
      "\n",
      "Prediction     0     1   All\n",
      "Real                        \n",
      "0           3875   505  4380\n",
      "1           1426  2994  4420\n",
      "All         5301  3499  8800 \n",
      "\n",
      "              precision    recall  f1-score   support\n",
      "\n",
      "           0       0.73      0.88      0.80      4380\n",
      "           1       0.86      0.68      0.76      4420\n",
      "\n",
      "    accuracy                           0.78      8800\n",
      "   macro avg       0.79      0.78      0.78      8800\n",
      "weighted avg       0.79      0.78      0.78      8800\n",
      "\n"
     ]
    }
   ],
   "source": [
    "nb = GaussianNB()\n",
    "nb.fit( X_train, y_train )\n",
    "\n",
    "pred = nb.predict( X_test )\n",
    "\n",
    "model_report( 'Naive Bayes' , y_test, pred )"
   ]
  },
  {
   "cell_type": "markdown",
   "id": "25800803",
   "metadata": {},
   "source": [
    "### 6.2.1 Naive Bayes CrossV"
   ]
  },
  {
   "cell_type": "code",
   "execution_count": 159,
   "id": "23162c40",
   "metadata": {
    "ExecuteTime": {
     "end_time": "2021-09-29T18:58:26.546648Z",
     "start_time": "2021-09-29T18:58:23.987825Z"
    }
   },
   "outputs": [
    {
     "data": {
      "text/html": [
       "<div>\n",
       "<style scoped>\n",
       "    .dataframe tbody tr th:only-of-type {\n",
       "        vertical-align: middle;\n",
       "    }\n",
       "\n",
       "    .dataframe tbody tr th {\n",
       "        vertical-align: top;\n",
       "    }\n",
       "\n",
       "    .dataframe thead th {\n",
       "        text-align: right;\n",
       "    }\n",
       "</style>\n",
       "<table border=\"1\" class=\"dataframe\">\n",
       "  <thead>\n",
       "    <tr style=\"text-align: right;\">\n",
       "      <th></th>\n",
       "      <th>model</th>\n",
       "      <th>accuracy</th>\n",
       "      <th>balanced_accuracy</th>\n",
       "      <th>accuracy_cv</th>\n",
       "      <th>balanced_ac_cv</th>\n",
       "    </tr>\n",
       "  </thead>\n",
       "  <tbody>\n",
       "    <tr>\n",
       "      <th>0</th>\n",
       "      <td>Naive Bayes</td>\n",
       "      <td>0.780755</td>\n",
       "      <td>0.78065</td>\n",
       "      <td>0.5 %</td>\n",
       "      <td>0.5 %</td>\n",
       "    </tr>\n",
       "  </tbody>\n",
       "</table>\n",
       "</div>"
      ],
      "text/plain": [
       "         model  accuracy  balanced_accuracy accuracy_cv balanced_ac_cv\n",
       "0  Naive Bayes  0.780755            0.78065       0.5 %          0.5 %"
      ]
     },
     "execution_count": 159,
     "metadata": {},
     "output_type": "execute_result"
    }
   ],
   "source": [
    "naive_bayes = cross_validation( \"Naive Bayes\", GaussianNB(), 10, X_train, y_train )\n",
    "naive_bayes[0]"
   ]
  },
  {
   "cell_type": "markdown",
   "id": "495dd32c",
   "metadata": {},
   "source": [
    "## 6.3. Decision Tree"
   ]
  },
  {
   "cell_type": "code",
   "execution_count": 160,
   "id": "6551bca8",
   "metadata": {
    "ExecuteTime": {
     "end_time": "2021-09-29T18:58:27.092890Z",
     "start_time": "2021-09-29T18:58:26.549642Z"
    }
   },
   "outputs": [
    {
     "name": "stdout",
     "output_type": "stream",
     "text": [
      "-------------Decision Tree------------- \n",
      "\n",
      "Prediction     0     1   All\n",
      "Real                        \n",
      "0           3617   763  4380\n",
      "1            793  3627  4420\n",
      "All         4410  4390  8800 \n",
      "\n",
      "              precision    recall  f1-score   support\n",
      "\n",
      "           0       0.82      0.83      0.82      4380\n",
      "           1       0.83      0.82      0.82      4420\n",
      "\n",
      "    accuracy                           0.82      8800\n",
      "   macro avg       0.82      0.82      0.82      8800\n",
      "weighted avg       0.82      0.82      0.82      8800\n",
      "\n"
     ]
    }
   ],
   "source": [
    "dt = DecisionTreeClassifier()\n",
    "dt.fit( X_train, y_train )\n",
    "\n",
    "pred = dt.predict( X_test )\n",
    "\n",
    "model_report( 'Decision Tree' , y_test, pred )\n",
    "\n",
    "# information gain\n",
    "# dt.feature_importances_"
   ]
  },
  {
   "cell_type": "markdown",
   "id": "aa5ba857",
   "metadata": {},
   "source": [
    "### 6.3.1 Decision Tree CrossV"
   ]
  },
  {
   "cell_type": "code",
   "execution_count": 161,
   "id": "b559ab8e",
   "metadata": {
    "ExecuteTime": {
     "end_time": "2021-09-29T18:58:46.316797Z",
     "start_time": "2021-09-29T18:58:27.096552Z"
    }
   },
   "outputs": [
    {
     "data": {
      "text/html": [
       "<div>\n",
       "<style scoped>\n",
       "    .dataframe tbody tr th:only-of-type {\n",
       "        vertical-align: middle;\n",
       "    }\n",
       "\n",
       "    .dataframe tbody tr th {\n",
       "        vertical-align: top;\n",
       "    }\n",
       "\n",
       "    .dataframe thead th {\n",
       "        text-align: right;\n",
       "    }\n",
       "</style>\n",
       "<table border=\"1\" class=\"dataframe\">\n",
       "  <thead>\n",
       "    <tr style=\"text-align: right;\">\n",
       "      <th></th>\n",
       "      <th>model</th>\n",
       "      <th>accuracy</th>\n",
       "      <th>balanced_accuracy</th>\n",
       "      <th>accuracy_cv</th>\n",
       "      <th>balanced_ac_cv</th>\n",
       "    </tr>\n",
       "  </thead>\n",
       "  <tbody>\n",
       "    <tr>\n",
       "      <th>0</th>\n",
       "      <td>Decision Tree</td>\n",
       "      <td>0.820416</td>\n",
       "      <td>0.821082</td>\n",
       "      <td>1.0 %</td>\n",
       "      <td>0.8999999999999999 %</td>\n",
       "    </tr>\n",
       "  </tbody>\n",
       "</table>\n",
       "</div>"
      ],
      "text/plain": [
       "           model  accuracy  balanced_accuracy accuracy_cv  \\\n",
       "0  Decision Tree  0.820416           0.821082       1.0 %   \n",
       "\n",
       "         balanced_ac_cv  \n",
       "0  0.8999999999999999 %  "
      ]
     },
     "execution_count": 161,
     "metadata": {},
     "output_type": "execute_result"
    }
   ],
   "source": [
    "decision_tree = cross_validation( \"Decision Tree\", DecisionTreeClassifier(), 10, X_train, y_train )\n",
    "decision_tree[0]"
   ]
  },
  {
   "cell_type": "markdown",
   "id": "99f93281",
   "metadata": {},
   "source": [
    "## 6.4. Random Forest"
   ]
  },
  {
   "cell_type": "code",
   "execution_count": 162,
   "id": "8bf5d83f",
   "metadata": {
    "ExecuteTime": {
     "end_time": "2021-09-29T18:58:54.622938Z",
     "start_time": "2021-09-29T18:58:46.319790Z"
    }
   },
   "outputs": [
    {
     "name": "stdout",
     "output_type": "stream",
     "text": [
      "-------------Random Forest------------- \n",
      "\n",
      "Prediction     0     1   All\n",
      "Real                        \n",
      "0           3938   442  4380\n",
      "1            703  3717  4420\n",
      "All         4641  4159  8800 \n",
      "\n",
      "              precision    recall  f1-score   support\n",
      "\n",
      "           0       0.85      0.90      0.87      4380\n",
      "           1       0.89      0.84      0.87      4420\n",
      "\n",
      "    accuracy                           0.87      8800\n",
      "   macro avg       0.87      0.87      0.87      8800\n",
      "weighted avg       0.87      0.87      0.87      8800\n",
      "\n"
     ]
    }
   ],
   "source": [
    "rf = RandomForestClassifier()\n",
    "rf.fit( X_train, y_train )\n",
    "\n",
    "pred = rf.predict( X_test )\n",
    "\n",
    "model_report( 'Random Forest' , y_test, pred )"
   ]
  },
  {
   "cell_type": "markdown",
   "id": "93c3a3a4",
   "metadata": {},
   "source": [
    "### 6.4.1 Random Forest CrossV"
   ]
  },
  {
   "cell_type": "code",
   "execution_count": 163,
   "id": "928ef34f",
   "metadata": {
    "ExecuteTime": {
     "end_time": "2021-09-29T19:04:54.559445Z",
     "start_time": "2021-09-29T18:58:54.631096Z"
    }
   },
   "outputs": [
    {
     "data": {
      "text/html": [
       "<div>\n",
       "<style scoped>\n",
       "    .dataframe tbody tr th:only-of-type {\n",
       "        vertical-align: middle;\n",
       "    }\n",
       "\n",
       "    .dataframe tbody tr th {\n",
       "        vertical-align: top;\n",
       "    }\n",
       "\n",
       "    .dataframe thead th {\n",
       "        text-align: right;\n",
       "    }\n",
       "</style>\n",
       "<table border=\"1\" class=\"dataframe\">\n",
       "  <thead>\n",
       "    <tr style=\"text-align: right;\">\n",
       "      <th></th>\n",
       "      <th>model</th>\n",
       "      <th>accuracy</th>\n",
       "      <th>balanced_accuracy</th>\n",
       "      <th>accuracy_cv</th>\n",
       "      <th>balanced_ac_cv</th>\n",
       "    </tr>\n",
       "  </thead>\n",
       "  <tbody>\n",
       "    <tr>\n",
       "      <th>0</th>\n",
       "      <td>Random Forest</td>\n",
       "      <td>0.870646</td>\n",
       "      <td>0.870505</td>\n",
       "      <td>0.5 %</td>\n",
       "      <td>0.4 %</td>\n",
       "    </tr>\n",
       "  </tbody>\n",
       "</table>\n",
       "</div>"
      ],
      "text/plain": [
       "           model  accuracy  balanced_accuracy accuracy_cv balanced_ac_cv\n",
       "0  Random Forest  0.870646           0.870505       0.5 %          0.4 %"
      ]
     },
     "execution_count": 163,
     "metadata": {},
     "output_type": "execute_result"
    }
   ],
   "source": [
    "random_f = cross_validation( \"Random Forest\", RandomForestClassifier(), 10, X_train, y_train )\n",
    "random_f[0]"
   ]
  },
  {
   "cell_type": "markdown",
   "id": "40428f1a",
   "metadata": {},
   "source": [
    "## 6.5. KNN"
   ]
  },
  {
   "cell_type": "code",
   "execution_count": 164,
   "id": "7d09fd4c",
   "metadata": {
    "ExecuteTime": {
     "end_time": "2021-09-29T19:04:58.425988Z",
     "start_time": "2021-09-29T19:04:54.565465Z"
    }
   },
   "outputs": [
    {
     "name": "stdout",
     "output_type": "stream",
     "text": [
      "-------------KNN------------- \n",
      "\n",
      "Prediction     0     1   All\n",
      "Real                        \n",
      "0           3908   472  4380\n",
      "1            996  3424  4420\n",
      "All         4904  3896  8800 \n",
      "\n",
      "              precision    recall  f1-score   support\n",
      "\n",
      "           0       0.80      0.89      0.84      4380\n",
      "           1       0.88      0.77      0.82      4420\n",
      "\n",
      "    accuracy                           0.83      8800\n",
      "   macro avg       0.84      0.83      0.83      8800\n",
      "weighted avg       0.84      0.83      0.83      8800\n",
      "\n"
     ]
    }
   ],
   "source": [
    "knn = KNeighborsClassifier()\n",
    "knn.fit( X_train, y_train )\n",
    "\n",
    "pred = knn.predict( X_test )\n",
    "\n",
    "model_report( 'KNN', y_test, pred )"
   ]
  },
  {
   "cell_type": "markdown",
   "id": "f1b05ea5",
   "metadata": {},
   "source": [
    "### 6.5.1 KNN CrossV"
   ]
  },
  {
   "cell_type": "code",
   "execution_count": 165,
   "id": "cb553b00",
   "metadata": {
    "ExecuteTime": {
     "end_time": "2021-09-29T19:06:24.120831Z",
     "start_time": "2021-09-29T19:04:58.432609Z"
    }
   },
   "outputs": [
    {
     "data": {
      "text/html": [
       "<div>\n",
       "<style scoped>\n",
       "    .dataframe tbody tr th:only-of-type {\n",
       "        vertical-align: middle;\n",
       "    }\n",
       "\n",
       "    .dataframe tbody tr th {\n",
       "        vertical-align: top;\n",
       "    }\n",
       "\n",
       "    .dataframe thead th {\n",
       "        text-align: right;\n",
       "    }\n",
       "</style>\n",
       "<table border=\"1\" class=\"dataframe\">\n",
       "  <thead>\n",
       "    <tr style=\"text-align: right;\">\n",
       "      <th></th>\n",
       "      <th>model</th>\n",
       "      <th>accuracy</th>\n",
       "      <th>balanced_accuracy</th>\n",
       "      <th>accuracy_cv</th>\n",
       "      <th>balanced_ac_cv</th>\n",
       "    </tr>\n",
       "  </thead>\n",
       "  <tbody>\n",
       "    <tr>\n",
       "      <th>0</th>\n",
       "      <td>KNN</td>\n",
       "      <td>0.833116</td>\n",
       "      <td>0.833051</td>\n",
       "      <td>0.6 %</td>\n",
       "      <td>0.5 %</td>\n",
       "    </tr>\n",
       "  </tbody>\n",
       "</table>\n",
       "</div>"
      ],
      "text/plain": [
       "  model  accuracy  balanced_accuracy accuracy_cv balanced_ac_cv\n",
       "0   KNN  0.833116           0.833051       0.6 %          0.5 %"
      ]
     },
     "execution_count": 165,
     "metadata": {},
     "output_type": "execute_result"
    }
   ],
   "source": [
    "knn_c = cross_validation( \"KNN\", KNeighborsClassifier(), 10, X_train, y_train )\n",
    "knn_c[0]"
   ]
  },
  {
   "cell_type": "markdown",
   "id": "65590024",
   "metadata": {},
   "source": [
    "## 6.6. SVM"
   ]
  },
  {
   "cell_type": "code",
   "execution_count": 166,
   "id": "4cfd307a",
   "metadata": {
    "ExecuteTime": {
     "end_time": "2021-09-29T19:08:16.303407Z",
     "start_time": "2021-09-29T19:06:24.124889Z"
    }
   },
   "outputs": [
    {
     "name": "stdout",
     "output_type": "stream",
     "text": [
      "-------------SVM------------- \n",
      "\n",
      "Prediction     0     1   All\n",
      "Real                        \n",
      "0           3992   388  4380\n",
      "1           1219  3201  4420\n",
      "All         5211  3589  8800 \n",
      "\n",
      "              precision    recall  f1-score   support\n",
      "\n",
      "           0       0.77      0.91      0.83      4380\n",
      "           1       0.89      0.72      0.80      4420\n",
      "\n",
      "    accuracy                           0.82      8800\n",
      "   macro avg       0.83      0.82      0.82      8800\n",
      "weighted avg       0.83      0.82      0.82      8800\n",
      "\n"
     ]
    }
   ],
   "source": [
    "svm = SVC()\n",
    "svm.fit( X_train, y_train )\n",
    "\n",
    "pred = svm.predict( X_test )\n",
    "\n",
    "model_report( 'SVM', y_test, pred )"
   ]
  },
  {
   "cell_type": "markdown",
   "id": "67e3f006",
   "metadata": {},
   "source": [
    "### 6.6.1 SVM CrossV"
   ]
  },
  {
   "cell_type": "code",
   "execution_count": 167,
   "id": "1b897509",
   "metadata": {
    "ExecuteTime": {
     "end_time": "2021-09-29T20:12:10.987288Z",
     "start_time": "2021-09-29T19:08:16.307403Z"
    }
   },
   "outputs": [
    {
     "data": {
      "text/html": [
       "<div>\n",
       "<style scoped>\n",
       "    .dataframe tbody tr th:only-of-type {\n",
       "        vertical-align: middle;\n",
       "    }\n",
       "\n",
       "    .dataframe tbody tr th {\n",
       "        vertical-align: top;\n",
       "    }\n",
       "\n",
       "    .dataframe thead th {\n",
       "        text-align: right;\n",
       "    }\n",
       "</style>\n",
       "<table border=\"1\" class=\"dataframe\">\n",
       "  <thead>\n",
       "    <tr style=\"text-align: right;\">\n",
       "      <th></th>\n",
       "      <th>model</th>\n",
       "      <th>accuracy</th>\n",
       "      <th>balanced_accuracy</th>\n",
       "      <th>accuracy_cv</th>\n",
       "      <th>balanced_ac_cv</th>\n",
       "    </tr>\n",
       "  </thead>\n",
       "  <tbody>\n",
       "    <tr>\n",
       "      <th>0</th>\n",
       "      <td>SVM</td>\n",
       "      <td>0.815757</td>\n",
       "      <td>0.815688</td>\n",
       "      <td>0.4 %</td>\n",
       "      <td>0.3 %</td>\n",
       "    </tr>\n",
       "  </tbody>\n",
       "</table>\n",
       "</div>"
      ],
      "text/plain": [
       "  model  accuracy  balanced_accuracy accuracy_cv balanced_ac_cv\n",
       "0   SVM  0.815757           0.815688       0.4 %          0.3 %"
      ]
     },
     "execution_count": 167,
     "metadata": {},
     "output_type": "execute_result"
    }
   ],
   "source": [
    "svm_c = cross_validation( \"SVM\", SVC(), 10, X_train, y_train )\n",
    "svm_c[0]"
   ]
  },
  {
   "cell_type": "markdown",
   "id": "96e030e4",
   "metadata": {},
   "source": [
    "## 6.7. MLP"
   ]
  },
  {
   "cell_type": "code",
   "execution_count": 168,
   "id": "6ac2c9aa",
   "metadata": {
    "ExecuteTime": {
     "end_time": "2021-09-29T20:13:52.937143Z",
     "start_time": "2021-09-29T20:12:10.993318Z"
    }
   },
   "outputs": [
    {
     "name": "stdout",
     "output_type": "stream",
     "text": [
      "-------------MLP------------- \n",
      "\n",
      "Prediction     0     1   All\n",
      "Real                        \n",
      "0           3971   409  4380\n",
      "1           1043  3377  4420\n",
      "All         5014  3786  8800 \n",
      "\n",
      "              precision    recall  f1-score   support\n",
      "\n",
      "           0       0.79      0.91      0.85      4380\n",
      "           1       0.89      0.76      0.82      4420\n",
      "\n",
      "    accuracy                           0.83      8800\n",
      "   macro avg       0.84      0.84      0.83      8800\n",
      "weighted avg       0.84      0.83      0.83      8800\n",
      "\n"
     ]
    }
   ],
   "source": [
    "mlp = MLPClassifier()\n",
    "mlp.fit( X_train, y_train )\n",
    "\n",
    "pred = mlp.predict( X_test )\n",
    "\n",
    "model_report( 'MLP', y_test, pred )"
   ]
  },
  {
   "cell_type": "markdown",
   "id": "7d88bf3e",
   "metadata": {},
   "source": [
    "### 6.7.1 MLP CrossV"
   ]
  },
  {
   "cell_type": "code",
   "execution_count": 169,
   "id": "8e24f8fa",
   "metadata": {
    "ExecuteTime": {
     "end_time": "2021-09-29T21:14:07.946594Z",
     "start_time": "2021-09-29T20:13:52.942676Z"
    }
   },
   "outputs": [
    {
     "name": "stderr",
     "output_type": "stream",
     "text": [
      "C:\\Users\\Marcos\\Projects\\MachineLearningAZ\\ml\\lib\\site-packages\\sklearn\\neural_network\\_multilayer_perceptron.py:614: ConvergenceWarning:\n",
      "\n",
      "Stochastic Optimizer: Maximum iterations (200) reached and the optimization hasn't converged yet.\n",
      "\n",
      "C:\\Users\\Marcos\\Projects\\MachineLearningAZ\\ml\\lib\\site-packages\\sklearn\\neural_network\\_multilayer_perceptron.py:614: ConvergenceWarning:\n",
      "\n",
      "Stochastic Optimizer: Maximum iterations (200) reached and the optimization hasn't converged yet.\n",
      "\n",
      "C:\\Users\\Marcos\\Projects\\MachineLearningAZ\\ml\\lib\\site-packages\\sklearn\\neural_network\\_multilayer_perceptron.py:614: ConvergenceWarning:\n",
      "\n",
      "Stochastic Optimizer: Maximum iterations (200) reached and the optimization hasn't converged yet.\n",
      "\n",
      "C:\\Users\\Marcos\\Projects\\MachineLearningAZ\\ml\\lib\\site-packages\\sklearn\\neural_network\\_multilayer_perceptron.py:614: ConvergenceWarning:\n",
      "\n",
      "Stochastic Optimizer: Maximum iterations (200) reached and the optimization hasn't converged yet.\n",
      "\n",
      "C:\\Users\\Marcos\\Projects\\MachineLearningAZ\\ml\\lib\\site-packages\\sklearn\\neural_network\\_multilayer_perceptron.py:614: ConvergenceWarning:\n",
      "\n",
      "Stochastic Optimizer: Maximum iterations (200) reached and the optimization hasn't converged yet.\n",
      "\n",
      "C:\\Users\\Marcos\\Projects\\MachineLearningAZ\\ml\\lib\\site-packages\\sklearn\\neural_network\\_multilayer_perceptron.py:614: ConvergenceWarning:\n",
      "\n",
      "Stochastic Optimizer: Maximum iterations (200) reached and the optimization hasn't converged yet.\n",
      "\n",
      "C:\\Users\\Marcos\\Projects\\MachineLearningAZ\\ml\\lib\\site-packages\\sklearn\\neural_network\\_multilayer_perceptron.py:614: ConvergenceWarning:\n",
      "\n",
      "Stochastic Optimizer: Maximum iterations (200) reached and the optimization hasn't converged yet.\n",
      "\n",
      "C:\\Users\\Marcos\\Projects\\MachineLearningAZ\\ml\\lib\\site-packages\\sklearn\\neural_network\\_multilayer_perceptron.py:614: ConvergenceWarning:\n",
      "\n",
      "Stochastic Optimizer: Maximum iterations (200) reached and the optimization hasn't converged yet.\n",
      "\n",
      "C:\\Users\\Marcos\\Projects\\MachineLearningAZ\\ml\\lib\\site-packages\\sklearn\\neural_network\\_multilayer_perceptron.py:614: ConvergenceWarning:\n",
      "\n",
      "Stochastic Optimizer: Maximum iterations (200) reached and the optimization hasn't converged yet.\n",
      "\n",
      "C:\\Users\\Marcos\\Projects\\MachineLearningAZ\\ml\\lib\\site-packages\\sklearn\\neural_network\\_multilayer_perceptron.py:614: ConvergenceWarning:\n",
      "\n",
      "Stochastic Optimizer: Maximum iterations (200) reached and the optimization hasn't converged yet.\n",
      "\n",
      "C:\\Users\\Marcos\\Projects\\MachineLearningAZ\\ml\\lib\\site-packages\\sklearn\\neural_network\\_multilayer_perceptron.py:614: ConvergenceWarning:\n",
      "\n",
      "Stochastic Optimizer: Maximum iterations (200) reached and the optimization hasn't converged yet.\n",
      "\n"
     ]
    },
    {
     "data": {
      "text/html": [
       "<div>\n",
       "<style scoped>\n",
       "    .dataframe tbody tr th:only-of-type {\n",
       "        vertical-align: middle;\n",
       "    }\n",
       "\n",
       "    .dataframe tbody tr th {\n",
       "        vertical-align: top;\n",
       "    }\n",
       "\n",
       "    .dataframe thead th {\n",
       "        text-align: right;\n",
       "    }\n",
       "</style>\n",
       "<table border=\"1\" class=\"dataframe\">\n",
       "  <thead>\n",
       "    <tr style=\"text-align: right;\">\n",
       "      <th></th>\n",
       "      <th>model</th>\n",
       "      <th>accuracy</th>\n",
       "      <th>balanced_accuracy</th>\n",
       "      <th>accuracy_cv</th>\n",
       "      <th>balanced_ac_cv</th>\n",
       "    </tr>\n",
       "  </thead>\n",
       "  <tbody>\n",
       "    <tr>\n",
       "      <th>0</th>\n",
       "      <td>MLP</td>\n",
       "      <td>0.833712</td>\n",
       "      <td>0.833876</td>\n",
       "      <td>0.6 %</td>\n",
       "      <td>0.5 %</td>\n",
       "    </tr>\n",
       "  </tbody>\n",
       "</table>\n",
       "</div>"
      ],
      "text/plain": [
       "  model  accuracy  balanced_accuracy accuracy_cv balanced_ac_cv\n",
       "0   MLP  0.833712           0.833876       0.6 %          0.5 %"
      ]
     },
     "execution_count": 169,
     "metadata": {},
     "output_type": "execute_result"
    }
   ],
   "source": [
    "mlp_c = cross_validation( \"MLP\", MLPClassifier(), 10, X_train, y_train )\n",
    "mlp_c[0]"
   ]
  },
  {
   "cell_type": "markdown",
   "id": "4987bd02",
   "metadata": {},
   "source": [
    "## 6.8. Compare Model's Performace"
   ]
  },
  {
   "cell_type": "markdown",
   "id": "dc2bf40b",
   "metadata": {},
   "source": [
    "The Accuracy score is not enough to make a good decision as to which algorithm to choose. It's needed to take a look at the other metrics such as recall and precision. The main point which is going to view in this comparison is the accuracy and balanced accuracy and after that analysis, it'll be decided which Machine Learning models are competing to be chosen. After this analysis, I'll take a look at the precision and recall metrics and make a comparison between the accuracy mean of the best algorithms, and decided which one to choose."
   ]
  },
  {
   "cell_type": "code",
   "execution_count": 170,
   "id": "86c48c35",
   "metadata": {
    "ExecuteTime": {
     "end_time": "2021-09-29T21:14:07.978466Z",
     "start_time": "2021-09-29T21:14:07.949545Z"
    }
   },
   "outputs": [
    {
     "data": {
      "text/html": [
       "<div>\n",
       "<style scoped>\n",
       "    .dataframe tbody tr th:only-of-type {\n",
       "        vertical-align: middle;\n",
       "    }\n",
       "\n",
       "    .dataframe tbody tr th {\n",
       "        vertical-align: top;\n",
       "    }\n",
       "\n",
       "    .dataframe thead th {\n",
       "        text-align: right;\n",
       "    }\n",
       "</style>\n",
       "<table border=\"1\" class=\"dataframe\">\n",
       "  <thead>\n",
       "    <tr style=\"text-align: right;\">\n",
       "      <th></th>\n",
       "      <th>model</th>\n",
       "      <th>accuracy</th>\n",
       "      <th>balanced_accuracy</th>\n",
       "      <th>accuracy_cv</th>\n",
       "      <th>balanced_ac_cv</th>\n",
       "    </tr>\n",
       "  </thead>\n",
       "  <tbody>\n",
       "    <tr>\n",
       "      <th>0</th>\n",
       "      <td>Random Forest</td>\n",
       "      <td>0.870646</td>\n",
       "      <td>0.870505</td>\n",
       "      <td>0.5 %</td>\n",
       "      <td>0.4 %</td>\n",
       "    </tr>\n",
       "    <tr>\n",
       "      <th>0</th>\n",
       "      <td>MLP</td>\n",
       "      <td>0.833712</td>\n",
       "      <td>0.833876</td>\n",
       "      <td>0.6 %</td>\n",
       "      <td>0.5 %</td>\n",
       "    </tr>\n",
       "    <tr>\n",
       "      <th>0</th>\n",
       "      <td>KNN</td>\n",
       "      <td>0.833116</td>\n",
       "      <td>0.833051</td>\n",
       "      <td>0.6 %</td>\n",
       "      <td>0.5 %</td>\n",
       "    </tr>\n",
       "    <tr>\n",
       "      <th>0</th>\n",
       "      <td>Decision Tree</td>\n",
       "      <td>0.820416</td>\n",
       "      <td>0.821082</td>\n",
       "      <td>1.0 %</td>\n",
       "      <td>0.8999999999999999 %</td>\n",
       "    </tr>\n",
       "    <tr>\n",
       "      <th>0</th>\n",
       "      <td>SVM</td>\n",
       "      <td>0.815757</td>\n",
       "      <td>0.815688</td>\n",
       "      <td>0.4 %</td>\n",
       "      <td>0.3 %</td>\n",
       "    </tr>\n",
       "    <tr>\n",
       "      <th>0</th>\n",
       "      <td>Naive Bayes</td>\n",
       "      <td>0.780755</td>\n",
       "      <td>0.780650</td>\n",
       "      <td>0.5 %</td>\n",
       "      <td>0.5 %</td>\n",
       "    </tr>\n",
       "  </tbody>\n",
       "</table>\n",
       "</div>"
      ],
      "text/plain": [
       "           model  accuracy  balanced_accuracy accuracy_cv  \\\n",
       "0  Random Forest  0.870646           0.870505       0.5 %   \n",
       "0            MLP  0.833712           0.833876       0.6 %   \n",
       "0            KNN  0.833116           0.833051       0.6 %   \n",
       "0  Decision Tree  0.820416           0.821082       1.0 %   \n",
       "0            SVM  0.815757           0.815688       0.4 %   \n",
       "0    Naive Bayes  0.780755           0.780650       0.5 %   \n",
       "\n",
       "         balanced_ac_cv  \n",
       "0                 0.4 %  \n",
       "0                 0.5 %  \n",
       "0                 0.5 %  \n",
       "0  0.8999999999999999 %  \n",
       "0                 0.3 %  \n",
       "0                 0.5 %  "
      ]
     },
     "execution_count": 170,
     "metadata": {},
     "output_type": "execute_result"
    }
   ],
   "source": [
    "modeling_result = pd.concat( [naive_bayes[0], decision_tree[0], random_f[0], knn_c[0], svm_c[0], mlp_c[0]] )\n",
    "modeling_result.sort_values( 'accuracy', ascending=False )"
   ]
  },
  {
   "cell_type": "markdown",
   "id": "000f3398",
   "metadata": {},
   "source": [
    "# 7.0. Hyperparameter Fine Tuning"
   ]
  },
  {
   "cell_type": "code",
   "execution_count": 171,
   "id": "03343a0b",
   "metadata": {
    "ExecuteTime": {
     "end_time": "2021-09-29T21:14:08.009383Z",
     "start_time": "2021-09-29T21:14:07.987444Z"
    }
   },
   "outputs": [],
   "source": [
    "df7 = df6.copy()"
   ]
  },
  {
   "cell_type": "code",
   "execution_count": 174,
   "id": "7b9bf27e",
   "metadata": {
    "ExecuteTime": {
     "end_time": "2021-09-29T23:19:34.862431Z",
     "start_time": "2021-09-29T21:21:18.403239Z"
    }
   },
   "outputs": [
    {
     "data": {
      "text/plain": [
       "{'criterion': 'entropy',\n",
       " 'min_samples_leaf': 1,\n",
       " 'min_samples_split': 5,\n",
       " 'n_estimators': 1500}"
      ]
     },
     "execution_count": 174,
     "metadata": {},
     "output_type": "execute_result"
    }
   ],
   "source": [
    "# parameters = {\"n_estimators\": [1000, 1500],\n",
    "#              \"criterion\": [\"gini\", \"entropy\"],\n",
    "#               \"min_samples_split\": [2,5,10],\n",
    "#               \"min_samples_leaf\": [1,5,10]\n",
    "#              }\n",
    "\n",
    "# grid_search = GridSearchCV( estimator=RandomForestClassifier(), param_grid=parameters )\n",
    "# grid_search.fit( X_train, y_train )\n",
    "# best_params = grid_search.best_params_\n",
    "# best_params"
   ]
  },
  {
   "cell_type": "code",
   "execution_count": null,
   "id": "6be2a7c0",
   "metadata": {
    "ExecuteTime": {
     "end_time": "2021-09-29T21:19:49.039231Z",
     "start_time": "2021-09-29T21:19:49.038268Z"
    }
   },
   "outputs": [],
   "source": [
    "# # result \n",
    "# best_params = {'criterion': 'entropy',\n",
    "#  'min_samples_leaf': 1,\n",
    "#  'min_samples_split': 5,\n",
    "#  'n_estimators': 1500}"
   ]
  },
  {
   "cell_type": "markdown",
   "id": "0a6afccc",
   "metadata": {},
   "source": [
    "## 7.1. Retraining"
   ]
  },
  {
   "cell_type": "code",
   "execution_count": 48,
   "id": "66da7b2c",
   "metadata": {
    "ExecuteTime": {
     "end_time": "2021-09-30T16:20:37.613472Z",
     "start_time": "2021-09-30T16:17:47.436559Z"
    }
   },
   "outputs": [
    {
     "name": "stdout",
     "output_type": "stream",
     "text": [
      "-------------Random Forest------------- \n",
      "\n",
      "Prediction     0     1   All\n",
      "Real                        \n",
      "0           3925   455  4380\n",
      "1            701  3719  4420\n",
      "All         4626  4174  8800 \n",
      "\n",
      "              precision    recall  f1-score   support\n",
      "\n",
      "           0       0.85      0.90      0.87      4380\n",
      "           1       0.89      0.84      0.87      4420\n",
      "\n",
      "    accuracy                           0.87      8800\n",
      "   macro avg       0.87      0.87      0.87      8800\n",
      "weighted avg       0.87      0.87      0.87      8800\n",
      "\n"
     ]
    }
   ],
   "source": [
    "rf = RandomForestClassifier( n_estimators=1500, min_samples_leaf=1, min_samples_split=5, criterion='entropy' )\n",
    "rf.fit( X_train, y_train )\n",
    "\n",
    "pred = rf.predict( X_test )\n",
    "\n",
    "model_report( 'Random Forest' , y_test, pred )"
   ]
  },
  {
   "cell_type": "code",
   "execution_count": 188,
   "id": "592d8ed4",
   "metadata": {
    "ExecuteTime": {
     "end_time": "2021-09-30T00:50:27.094033Z",
     "start_time": "2021-09-30T00:50:24.464080Z"
    }
   },
   "outputs": [],
   "source": [
    "pickle.dump( rf, open( 'model/random_forest_tuned.pkl', 'wb' ) )"
   ]
  },
  {
   "cell_type": "markdown",
   "id": "df9744df",
   "metadata": {},
   "source": [
    "# 8.0. Understanding The Result"
   ]
  },
  {
   "cell_type": "markdown",
   "id": "c9924f00",
   "metadata": {
    "ExecuteTime": {
     "end_time": "2021-09-30T00:54:18.379913Z",
     "start_time": "2021-09-30T00:54:18.368905Z"
    }
   },
   "source": [
    "# 9.0. Deploy"
   ]
  },
  {
   "cell_type": "code",
   "execution_count": null,
   "id": "508bf57d",
   "metadata": {},
   "outputs": [],
   "source": []
  },
  {
   "cell_type": "code",
   "execution_count": null,
   "id": "1573e9a5",
   "metadata": {},
   "outputs": [],
   "source": []
  },
  {
   "cell_type": "code",
   "execution_count": null,
   "id": "cf24ebd9",
   "metadata": {},
   "outputs": [],
   "source": []
  }
 ],
 "metadata": {
  "kernelspec": {
   "display_name": "Python 3 (ipykernel)",
   "language": "python",
   "name": "python3"
  },
  "language_info": {
   "codemirror_mode": {
    "name": "ipython",
    "version": 3
   },
   "file_extension": ".py",
   "mimetype": "text/x-python",
   "name": "python",
   "nbconvert_exporter": "python",
   "pygments_lexer": "ipython3",
   "version": "3.9.6"
  },
  "varInspector": {
   "cols": {
    "lenName": 16,
    "lenType": 16,
    "lenVar": 40
   },
   "kernels_config": {
    "python": {
     "delete_cmd_postfix": "",
     "delete_cmd_prefix": "del ",
     "library": "var_list.py",
     "varRefreshCmd": "print(var_dic_list())"
    },
    "r": {
     "delete_cmd_postfix": ") ",
     "delete_cmd_prefix": "rm(",
     "library": "var_list.r",
     "varRefreshCmd": "cat(var_dic_list()) "
    }
   },
   "types_to_exclude": [
    "module",
    "function",
    "builtin_function_or_method",
    "instance",
    "_Feature"
   ],
   "window_display": false
  }
 },
 "nbformat": 4,
 "nbformat_minor": 5
}
